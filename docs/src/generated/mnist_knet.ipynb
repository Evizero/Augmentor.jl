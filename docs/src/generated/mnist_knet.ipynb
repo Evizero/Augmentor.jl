{
 "cells": [
  {
   "cell_type": "markdown",
   "metadata": {},
   "source": [
    "# MNIST: Knet.jl CNN"
   ]
  },
  {
   "cell_type": "markdown",
   "metadata": {},
   "source": [
    "In this tutorial we will adapt the\n",
    "[MNIST example](http://denizyuret.github.io/Knet.jl/latest/tutorial.html#Convolutional-neural-network-1)\n",
    "from [Knet.jl](https://github.com/denizyuret/Knet.jl)\n",
    "to utilize a custom augmentation pipeline.\n",
    "In order to showcase the effect that image augmentation can\n",
    "have on a neural network's ability to generalize, we will\n",
    "limit the training set to just the first 500 images (of the\n",
    "available 60,000!). For more information on the dataset see\n",
    "[MNIST1998]."
   ]
  },
  {
   "cell_type": "markdown",
   "metadata": {},
   "source": [
    "## Preparing the MNIST dataset"
   ]
  },
  {
   "cell_type": "markdown",
   "metadata": {},
   "source": [
    "In order to access, prepare, and visualize the MNIST images we\n",
    "employ the help of three additional Julia packages. In the\n",
    "interest of time and space we will not go into great detail\n",
    "about their functionality. Feel free to click on their\n",
    "respective names to find out more information about the\n",
    "utility they can provide.\n",
    "\n",
    "- [MLDatasets.jl](https://github.com/JuliaML/MLDatasets.jl)\n",
    "  has an MNIST submodule that offers a convenience interface\n",
    "  to read the MNIST database.\n",
    "\n",
    "- [Images.jl](https://github.com/JuliaImages/Images.jl) will\n",
    "  provide us with the necessary tools to process and display\n",
    "  the image data in Julia / Juypter.\n",
    "\n",
    "- [MLDataUtils.jl](https://github.com/JuliaML/MLDataUtils.jl)\n",
    "  implements a variety of functions to convert and partition\n",
    "  Machine Learning datasets. This will help us prepare the\n",
    "  MNIST data to be used with Knet.jl."
   ]
  },
  {
   "cell_type": "code",
   "execution_count": 1,
   "metadata": {},
   "outputs": [],
   "source": [
    "using Images, MLDatasets, MLDataUtils, Random\n",
    "Random.seed!(42);"
   ]
  },
  {
   "cell_type": "markdown",
   "metadata": {},
   "source": [
    "As you may have seen previously in the\n",
    "[elastic distortions tutorial](@ref elastic), the function\n",
    "`MNIST.traintensor` returns the MNIST training images\n",
    "corresponding to the given indices as a multi-dimensional\n",
    "array. These images are stored in the native horizontal-major\n",
    "memory layout as a single array. Because we specify that\n",
    "the `eltype` of that array should be `Float32`, all the\n",
    "individual values are scaled to be between `0.0` and `1.0`.\n",
    "Also note, how the observations are laid out along the last\n",
    "array dimension"
   ]
  },
  {
   "cell_type": "code",
   "execution_count": 2,
   "metadata": {},
   "outputs": [
    {
     "name": "stdout",
     "output_type": "stream",
     "text": [
      "summary(MNIST.traintensor(Float32, 1:500)) = \"28×28×500 Array{Float32,3}\"\n"
     ]
    }
   ],
   "source": [
    "@show summary(MNIST.traintensor(Float32, 1:500));"
   ]
  },
  {
   "cell_type": "markdown",
   "metadata": {},
   "source": [
    "The corresponding label of each image is stored as an integer\n",
    "value between `0` and `9`. That means that if the label has\n",
    "the value `3`, then the corresponding image is known to be a\n",
    "handwritten \"3\". To show a more concrete example, the\n",
    "following code reveals that the first training image denotes a\n",
    "\"5\" and the second training image a \"0\" (etc)."
   ]
  },
  {
   "cell_type": "code",
   "execution_count": 3,
   "metadata": {},
   "outputs": [
    {
     "name": "stdout",
     "output_type": "stream",
     "text": [
      "summary(MNIST.trainlabels(1:500)) = \"500-element Array{Int64,1}\"\n",
      "First eight labels: 5, 0, 4, 1, 9, 2, 1, 3\n"
     ]
    }
   ],
   "source": [
    "@show summary(MNIST.trainlabels(1:500))\n",
    "println(\"First eight labels: \", join(MNIST.trainlabels(1:8),\", \"))"
   ]
  },
  {
   "cell_type": "markdown",
   "metadata": {},
   "source": [
    "For Knet we will require a slightly format for the images\n",
    "and also the labels. More specifically, we add an additional\n",
    "singleton dimension of length 1 to our image array. Think of\n",
    "this as our single color channel (because MNIST images are gray).\n",
    "Additionally we will convert our labels to proper 1-based indices.\n",
    "This is because some functions provided by Knet expect the labels\n",
    "to be in this format. We will do all this by creating a little\n",
    "utility function that we will name `prepare_mnist`."
   ]
  },
  {
   "cell_type": "code",
   "execution_count": 4,
   "metadata": {},
   "outputs": [
    {
     "data": {
      "text/plain": [
       "prepare_mnist"
      ]
     },
     "execution_count": 4,
     "metadata": {},
     "output_type": "execute_result"
    }
   ],
   "source": [
    "\"\"\"\n",
    "    prepare_mnist(images, labels) -> (X, Y)\n",
    "\n",
    "Change the dimension layout x1×x2×N of the given array\n",
    "`images` to x1×x2×1×N and return the result as `X`.\n",
    "The given integer vector `labels` is transformed into\n",
    "an integer vector denoting 1-based class indices.\n",
    "\"\"\"\n",
    "function prepare_mnist(images, labels)\n",
    "    X = reshape(images, (28, 28, 1, :))\n",
    "    Y = convertlabel(LabelEnc.Indices{Int8}, labels, 0:9)\n",
    "    X, Y\n",
    "end"
   ]
  },
  {
   "cell_type": "markdown",
   "metadata": {},
   "source": [
    "With `prepare_mnist` defined, we can now use it in conjunction\n",
    "with the functions in the `MLDatasets.MNIST` sub-module to load\n",
    "and prepare our training set. Recall that for this tutorial only\n",
    "the first 500 images of the training set will be used."
   ]
  },
  {
   "cell_type": "code",
   "execution_count": 5,
   "metadata": {},
   "outputs": [
    {
     "name": "stdout",
     "output_type": "stream",
     "text": [
      "summary(train_x) = \"28×28×1×500 Array{Float32,4}\"\n",
      "summary(train_y) = \"500-element Array{Int8,1}\"\n"
     ]
    },
    {
     "data": {
      "text/html": [
       "<table><tbody><tr><td style='text-align:center;vertical-align:middle; margin: 0.5em;border:1px #90999f solid;border-collapse:collapse'><img style='max-width: 100px; max-height:100px;display:inline' src=\"data:image/png;base64,iVBORw0KGgoAAAANSUhEUgAAAHAAAABwCAAAAADji6uXAAAABGdBTUEAALGPC/xhBQAAACBjSFJNAAB6JgAAgIQAAPoAAACA6AAAdTAAAOpgAAA6mAAAF3CculE8AAAAAmJLR0QA/4ePzL8AAAIYSURBVGje7dpNiI1RHMfxzzXCJAw7L3ux8dLULQuvxQpbWSirWQgLlFjY2VgJu2Gj2NAsTE2SpKSwIFJmQVJqbCYvmcVEY3Gem3HvuHeei5lzj/Ov29N5zr19z+/8Os/9/895KhNmNubMMC8DMzADMzADMzAD/wvg3LI/+I5Pk9oXMYZhXMJxXMcCnMSZ2VaYPrClh+8wjod4gI+4OcX3VuEIBrAI67AlBoXpAyvNaoun2OHXdfe7UV/BwqK9AkuxOgaF6QObejiKKt5M0VdFD+5hntY+z5rC9IFNn6XLcA6D2CA8K2E97gjr7iXOx6wwfWBlOvs0n4X/uD5cxlXs7xSF6QOnlZcuLq5Lims/9rU52vSnNM51WIuv2I37GMLOTlCYPrCUh/AaG4V8Zht6cQiVWBWmDyztIaEGPIgvRfssDmB5jArTB7blIbzAMdwt2n04jZWxKUwf2LaHhD2bW8KanMB2oeaISmH6wD/ysBbz8U1Icm9ja0wK0weW3vOuxXPcwBPBP1iLzbEpTB9Y2sNhXBDympFJ97uEnKaVgvSnNF4PR3BNOF96W9fXK+Qze2JUmD6wpYcfhD3Rw3hV11fFCewtMfL0pzQeD0eFeuGZxnOLTUJdsQvdsStMH9jg4SPhrOIx3tf1deMoTvl5Vhi9wvSBDR4OFJ9arBH2SLuE9yx6Ok1h+sC/Uh9GrTADMzADM/Dfxw9O21Mg2PF83AAAAABJRU5ErkJg\"></td><td style='text-align:center;vertical-align:middle; margin: 0.5em;border:1px #90999f solid;border-collapse:collapse'><img style='max-width: 100px; max-height:100px;display:inline' src=\"data:image/png;base64,iVBORw0KGgoAAAANSUhEUgAAAHAAAABwCAAAAADji6uXAAAABGdBTUEAALGPC/xhBQAAACBjSFJNAAB6JgAAgIQAAPoAAACA6AAAdTAAAOpgAAA6mAAAF3CculE8AAAAAmJLR0QA/4ePzL8AAAIqSURBVGje7dpPqIxRGMfxzyBKF8mfUrKz57KxunU3ErGQ3CJKihQW/iyshIWSW0rK9kqyUBSWYkV0p8GOnW6xsbiS2yjG4ry3hu4778yo25nTeerUvOe8M99+76/nOc+cmVrL/MaCeeZlYAZmYAZmYAZ2EYv+582TuIkJHMJJDMemMH1grd+epoFRfGubW4GvsSlMH9hXHr7GXkyjhmVYLPj3EluK6ygUpg/sKQ9/oI6DmEJL8HAY5zFWzF3GhVgUpg/sKQ+P4d4c83V8xwie431MCtMHdu3hJJ4IeUbwaxfOYR02YyWetd0ThcL0gV3V0oa/+5cdQj6+wDscxZpibSGWFmtz9ajpP9L48vADrgn9y2oh5w5jCDuL8W/M4DruxqAwfWBHD5s4i6dC7zmBrYJHVfEpFoXpAzt6WBf8g0fCHjhwCtMHdvTwjNCfjOjev9+FirJ9Nv1HGo+Hj4VepobdPSqoYVMsCtMHlno4g59Yi/1dfFATF4vXo7gai8L0gZV96RKhF+0UTVwR+tf1Qg0eikVh+sBKD6vqaEPw7j724EFsCtMHlnrYKsZD3Ci5Z1zIv2kcEL57RKcwfWCph7VifMEpHMEqvMIdvBXOvTdgO07EqjB9YGUt/YVbQo1cjo9ta9uE/uVSzArTB5ael05hH94U17O/MxHycUx5jY1KYfrAjmfen3Fb2PNmPTyN49g4KArTB/b9X4yBUZiBGZiBGZiBGVgdfwBa+18DJZoIcAAAAABJRU5ErkJg\"></td><td style='text-align:center;vertical-align:middle; margin: 0.5em;border:1px #90999f solid;border-collapse:collapse'><img style='max-width: 100px; max-height:100px;display:inline' src=\"data:image/png;base64,iVBORw0KGgoAAAANSUhEUgAAAHAAAABwCAAAAADji6uXAAAABGdBTUEAALGPC/xhBQAAACBjSFJNAAB6JgAAgIQAAPoAAACA6AAAdTAAAOpgAAA6mAAAF3CculE8AAAAAmJLR0QA/4ePzL8AAAGxSURBVGje7dqxaxVBFMXh70lAFAS7FEoEQQ1aGlErKwsrFUstLFKlFqzybwSinWhlLyI8UAstrEwnKYQQkCAqSSNISCxmi7y8J4Z9S7y5zjTDDrvnx5nDzO5ctrdtf9uhfeZVYAVWYAVWYAVW4H8BnOhasI+7eINzERzmBw5l+BbfcLul4AfMRHKYHziU4Wssa5fhFj5jBX86s+Sf0n+f4RNcbSn2BY9xD9NRHOYHDmW4NYbYbNOfieQwP3AgwyWsjSG23vTXIznMDxzI8AV+thRaU96FcCKSw/zAgQw/Nf2FFkIPlBzP4lgkh/mBI8+Hl/b48AZe4ileNWPzOB7JYX7gyAy/77r+qHzr9LGKX3jWjB3BZRzGJi5Gc5gf2Nt5jpvDorKOpnaMLynnvQkcxXkltxlcwyRO4oeSbyiH+YED63ABp/Bu101TuKlkd2WEyCN8xemIDvMDh/bShy1E+k1/J6LD/MBOa963IjqswAqMD+xsHW4rtfK/1VrzT+nBzbBnb7XW/FN6cDOE97gfzWF+YKd7aUiH+YGdZHgDz6M6zA/s1X+EK7ACK7ACx26/AX7POlRNlDyzAAAAAElFTkSuQmCC\"></td><td style='text-align:center;vertical-align:middle; margin: 0.5em;border:1px #90999f solid;border-collapse:collapse'><img style='max-width: 100px; max-height:100px;display:inline' src=\"data:image/png;base64,iVBORw0KGgoAAAANSUhEUgAAAHAAAABwCAAAAADji6uXAAAABGdBTUEAALGPC/xhBQAAACBjSFJNAAB6JgAAgIQAAPoAAACA6AAAdTAAAOpgAAA6mAAAF3CculE8AAAAAmJLR0QA/4ePzL8AAAGCSURBVGje7ZmxLgVBFIa/vRGVQkWhkGjcN5DchvAACr1Qi6gkOo2CROcFKKkUCkGhuA9w4wmuSiQEhUKDYkayFHZmdt2ZOc5UZ5r95sufMzPZKT4Y7GgNmKdABSpQgQpUoAL/BXCoqQ/tANvAO3ANzKZiKB/YSIaHwG5p9UVKhvKBjWR4C7ylaigfWDvDK+DA1m3gDBhPyVA+sFaGXWAFeLHzTWAyNUP5wFoZHgF3tp4DllM0lA8sQv+1PWD2zBYwChwD8ykaygcG9WEfWCrN13HLL4qhfGBQhufAja0XgI2UDeUDvffSU8w95hXoACf8fg+Nbigf6NWHfb7voVP45RfFUD7QK8O9HyvcysFQPtA5wx5wUZovAtM5GMoHOp+HY8CTrWcw95qRHAzlA5378LG0ujXC8otiKB/olOEq5k3pa3RyMpQPrMywB1zalQ1jetD3LhrVUD6wMsNn4N7WE8B+boYKVGD6wMo+bGPOv26uhvKBwe8W2RgqUIEKVODfj08HqCtUYDh+mQAAAABJRU5ErkJg\"></td><td style='text-align:center;vertical-align:middle; margin: 0.5em;border:1px #90999f solid;border-collapse:collapse'><img style='max-width: 100px; max-height:100px;display:inline' src=\"data:image/png;base64,iVBORw0KGgoAAAANSUhEUgAAAHAAAABwCAAAAADji6uXAAAABGdBTUEAALGPC/xhBQAAACBjSFJNAAB6JgAAgIQAAPoAAACA6AAAdTAAAOpgAAA6mAAAF3CculE8AAAAAmJLR0QA/4ePzL8AAAH9SURBVGje7dm9axRBGMfxz6qIIogINsEqEjCCnZDGt0ZsEoRIJCCihTY2/gHGRgQR7CzsVNDCFBGxU9IYKxEbURuNhY2gIiLiC4hnMRMShLvcbXE3O8zT7Mvs8p3f/njmmZmtWvoba/rMK8ACLMACLMACLMACLMACLMC+xLpeX3iK21jAq3jvKobwBCcwlpLC/IFVL+vDWZzDZ7RwEJ/wOra3MIW7KSnMH9hVHv7BM5zBD+zHBezFbxzDo/jsntQU5g/sysM7OB3PDwn5uDlez1r2bztOpqYwf+CqY+kMLqPCWVyy7B+M4k08n8OR1BTmD+yYhxcF/9bjMK5gY2z7JeTfe6EOzljdv4EozB/YNg+/YqcwfxnH/RVtb3Ecz+P1UdzAphQV5g9s6+FHYb0A77ABN/EAL/FdGF8r3MNEqgrzB3bMw1Fh7dASvFqKoXjvA7bFY7IK8we2rYdbhPFzHF+wQ6h3p7AV04J306krzB/YcU4zJuTh/7GAx7G3w6krzB/Y814b/Iw9rZQ8TADY017bylgreLhUE5NVmD+wVh4+bJLC/IG1PFxsksL8gbU83Ie/NXub/ydthoe7MSKs/ReVejhgYO05zS3hX8YBXMOuVBXmD6zt4Tfhv+E8JoV9uLJfOhBgbQ8JPp7HdbzQXS7m/0mb5WEjFOYP/AcZE1TkSppthwAAAABJRU5ErkJg\"></td><td style='text-align:center;vertical-align:middle; margin: 0.5em;border:1px #90999f solid;border-collapse:collapse'><img style='max-width: 100px; max-height:100px;display:inline' src=\"data:image/png;base64,iVBORw0KGgoAAAANSUhEUgAAAHAAAABwCAAAAADji6uXAAAABGdBTUEAALGPC/xhBQAAACBjSFJNAAB6JgAAgIQAAPoAAACA6AAAdTAAAOpgAAA6mAAAF3CculE8AAAAAmJLR0QA/4ePzL8AAAIySURBVGje7dlPiE5RGMfxz4tmQorS1Cg1hWI5CwujFEmalVhZspeFIikmG/lTNJsplA1Jyr8ismFjErEwoqhZ+ptijKaZxlicO71v02vcGTXvmTPn1K17zrn3/b6/++s593nOrYyZ2TZvhnkZmIEZmIEZmIEZOCeAC/7n5gH8xF18xgE0x6YwfeC0POzHKfSir2b8I7pjU5g+sDKV2uItzuEyhjCGlViCN1iOR1gbk8L0gaXi8DsO4Zqwfo63NXiAYazD1+KISmH6wFIe3sTFCWOr8FCIw3cxK0wfWMrD6zXnbViPk4J/hDU2WoXpA0t5eAHnsQ2r0TJh/lPMCtMHlvJwBbomme+NWWH6wGnVFt0YFPLSCl4V4x3YEJvC9IGla4tfeI3juFeM/a75x614LOQ6USlMH/jPOBzBS+zCBywU/OrAfcFbGMUN7EdTTArTB04ah8OCTzuL/jFswUZ8K877JtxzBTv8fc8t/Ucaj4cjOIrTRX+7sD+zFF/QiRdCzB0UvLxdXLu1GFtW9NsbqTB9YF0PR3EEZ7AYJ7Bb8OQZ9uG5UGf0YDN+4IkQh3eEnIdQQ/Y3UmH6wLoe9gg+LVKtC5/ikpDPDAkxuke1zq9tVwUv4aywJ9cwhekD63rYKqyXzcL+9SDe18x34TDmzwaF6QPretiuWvONt05sEvKVNtP/8Jj+I43DwwHcEnKWFuwV3oVN5X83HoXpA6f0/XBWKszADMzADMzADMzAuQD8AypnZNEtgtvcAAAAAElFTkSuQmCC\"></td><td style='text-align:center;vertical-align:middle; margin: 0.5em;border:1px #90999f solid;border-collapse:collapse'><img style='max-width: 100px; max-height:100px;display:inline' src=\"data:image/png;base64,iVBORw0KGgoAAAANSUhEUgAAAHAAAABwCAAAAADji6uXAAAABGdBTUEAALGPC/xhBQAAACBjSFJNAAB6JgAAgIQAAPoAAACA6AAAdTAAAOpgAAA6mAAAF3CculE8AAAAAmJLR0QA/4ePzL8AAAE9SURBVGje7dkxLoRBGAbg5186tVohkbWcwSXcQRQSV5C4gOioVUrcQkVDgYgTqJRLsZvYjpmNNf+Xb6qdYvPMO29md/7d7tNix2DBXoIJJphgggn+YiyXvuEQp9jGDdZaTxgfLOrwFRfTVT7gUXbYAFjU4Sp2cNWnhPHBog5XlJ+7f08YHyzq8B13fUsYHyzq8ANvM/NbDJWdzfhbunCwK/2d5hhH6KbzExy0nDA+WNwhLMkOGwKLnw9hPMdK429pPzoc+D6HzSdMMMEEE/z7UXWn6WZWuovLlhPGB+e+l8I9Rq0mjA9W3Wn2cTYzPzd5xmgyYXywqsNhnxLGB6s+S2EDz9PXYzxhvcWE8cGqcwhbeKlYdfwt7U+He7juQ8L4YHWHI2ya/J/fdML4YPX3YW8SJphgggkmmODP4wukkSG/+HImrwAAAABJRU5ErkJg\"></td><td style='text-align:center;vertical-align:middle; margin: 0.5em;border:1px #90999f solid;border-collapse:collapse'><img style='max-width: 100px; max-height:100px;display:inline' src=\"data:image/png;base64,iVBORw0KGgoAAAANSUhEUgAAAHAAAABwCAAAAADji6uXAAAABGdBTUEAALGPC/xhBQAAACBjSFJNAAB6JgAAgIQAAPoAAACA6AAAdTAAAOpgAAA6mAAAF3CculE8AAAAAmJLR0QA/4ePzL8AAAILSURBVGje7dk9aBRBGMbx30n8iGAaQS20slVIL4IIIkQ0AXsLwUIrwdZaLRXtRFE0ELBSJBBj4RfYaaE2gigW2kW0ECSSs5iV3O3t3m0I5oZxXliYmxn478PDO/u+N622tY11a8zLwAzMwAzMwAzMwP8COLKSze+xiGc4U/O2k5jBhlgUpg9sNalL3+EW7mEJX9BGq2b/CVzGWAwK0wc28vAYZktz/TyEp9gXg8L0gY3O0kOWPdyGk7o9fCl4FqXC9IGN8vA3vhbj9dhRWv+BPcIZC1OYxsYYFKYPbJSHI9jVZ30O3zp+71Tt31AUpg9slIf9YgbXdZ+lC6rrmaEoTB+4ot6iM6ZxER+EfuNvjAvnbTQK0wc28vAT7uBxx9wL3XXpGC5hAqMxKUwfOPAsfSP07Z9L8+Xe4gjux6gwfWCjPGwXT2csld72odB/TMSmMH3gQA/34gnu4jA2ldZv4GrMCtMHrrou/Y6txfiBnIcx5uGgmItdYfrAWg8X8QgH1deZN3E2doXpAys9fI4LmMdHvf/RLAj1yzn8LOZG9e8phqYwfWDl93Acb4vxaWwprc/jleXe4kCx73iMCtMHDvSwLtrYjqO4ordejUZh+sBKD1/jGm5XrO3GZuzHKaH3iFph+sDa3uKXcHd/XriTmBLuESf13j1FrTB94Kr7w+gVZmAGZmAG/vv4A6dsVJLvsg1CAAAAAElFTkSuQmCC\"></td></tr></tbody></table><div><small>(a vector displayed as a row to save space)</small></div>"
      ],
      "text/plain": [
       "8-element Array{Base.ReinterpretArray{Gray{Float32},2,Float32,Array{Float32,2}},1}:\n",
       " [Gray{Float32}(1.0) Gray{Float32}(1.0) … Gray{Float32}(1.0) Gray{Float32}(1.0); Gray{Float32}(1.0) Gray{Float32}(1.0) … Gray{Float32}(1.0) Gray{Float32}(1.0); … ; Gray{Float32}(1.0) Gray{Float32}(1.0) … Gray{Float32}(1.0) Gray{Float32}(1.0); Gray{Float32}(1.0) Gray{Float32}(1.0) … Gray{Float32}(1.0) Gray{Float32}(1.0)]\n",
       " [Gray{Float32}(1.0) Gray{Float32}(1.0) … Gray{Float32}(1.0) Gray{Float32}(1.0); Gray{Float32}(1.0) Gray{Float32}(1.0) … Gray{Float32}(1.0) Gray{Float32}(1.0); … ; Gray{Float32}(1.0) Gray{Float32}(1.0) … Gray{Float32}(1.0) Gray{Float32}(1.0); Gray{Float32}(1.0) Gray{Float32}(1.0) … Gray{Float32}(1.0) Gray{Float32}(1.0)]\n",
       " [Gray{Float32}(1.0) Gray{Float32}(1.0) … Gray{Float32}(1.0) Gray{Float32}(1.0); Gray{Float32}(1.0) Gray{Float32}(1.0) … Gray{Float32}(1.0) Gray{Float32}(1.0); … ; Gray{Float32}(1.0) Gray{Float32}(1.0) … Gray{Float32}(1.0) Gray{Float32}(1.0); Gray{Float32}(1.0) Gray{Float32}(1.0) … Gray{Float32}(1.0) Gray{Float32}(1.0)]\n",
       " [Gray{Float32}(1.0) Gray{Float32}(1.0) … Gray{Float32}(1.0) Gray{Float32}(1.0); Gray{Float32}(1.0) Gray{Float32}(1.0) … Gray{Float32}(1.0) Gray{Float32}(1.0); … ; Gray{Float32}(1.0) Gray{Float32}(1.0) … Gray{Float32}(1.0) Gray{Float32}(1.0); Gray{Float32}(1.0) Gray{Float32}(1.0) … Gray{Float32}(1.0) Gray{Float32}(1.0)]\n",
       " [Gray{Float32}(1.0) Gray{Float32}(1.0) … Gray{Float32}(1.0) Gray{Float32}(1.0); Gray{Float32}(1.0) Gray{Float32}(1.0) … Gray{Float32}(1.0) Gray{Float32}(1.0); … ; Gray{Float32}(1.0) Gray{Float32}(1.0) … Gray{Float32}(1.0) Gray{Float32}(1.0); Gray{Float32}(1.0) Gray{Float32}(1.0) … Gray{Float32}(1.0) Gray{Float32}(1.0)]\n",
       " [Gray{Float32}(1.0) Gray{Float32}(1.0) … Gray{Float32}(1.0) Gray{Float32}(1.0); Gray{Float32}(1.0) Gray{Float32}(1.0) … Gray{Float32}(1.0) Gray{Float32}(1.0); … ; Gray{Float32}(1.0) Gray{Float32}(1.0) … Gray{Float32}(1.0) Gray{Float32}(1.0); Gray{Float32}(1.0) Gray{Float32}(1.0) … Gray{Float32}(1.0) Gray{Float32}(1.0)]\n",
       " [Gray{Float32}(1.0) Gray{Float32}(1.0) … Gray{Float32}(1.0) Gray{Float32}(1.0); Gray{Float32}(1.0) Gray{Float32}(1.0) … Gray{Float32}(1.0) Gray{Float32}(1.0); … ; Gray{Float32}(1.0) Gray{Float32}(1.0) … Gray{Float32}(1.0) Gray{Float32}(1.0); Gray{Float32}(1.0) Gray{Float32}(1.0) … Gray{Float32}(1.0) Gray{Float32}(1.0)]\n",
       " [Gray{Float32}(1.0) Gray{Float32}(1.0) … Gray{Float32}(1.0) Gray{Float32}(1.0); Gray{Float32}(1.0) Gray{Float32}(1.0) … Gray{Float32}(1.0) Gray{Float32}(1.0); … ; Gray{Float32}(1.0) Gray{Float32}(1.0) … Gray{Float32}(1.0) Gray{Float32}(1.0); Gray{Float32}(1.0) Gray{Float32}(1.0) … Gray{Float32}(1.0) Gray{Float32}(1.0)]"
      ]
     },
     "execution_count": 5,
     "metadata": {},
     "output_type": "execute_result"
    }
   ],
   "source": [
    "train_x, train_y = prepare_mnist(MNIST.traintensor(Float32, 1:500), MNIST.trainlabels(1:500))\n",
    "@show summary(train_x) summary(train_y);\n",
    "[MNIST.convert2image(train_x[:,:,1,i]) for i in 1:8]"
   ]
  },
  {
   "cell_type": "markdown",
   "metadata": {},
   "source": [
    "Similarly, we use `MNIST.testtensor` and `MNIST.testlabels`\n",
    "to load the full MNIST test set. We will utilize that data to\n",
    "measure how well the network is able to generalize with and\n",
    "without augmentation."
   ]
  },
  {
   "cell_type": "code",
   "execution_count": 6,
   "metadata": {},
   "outputs": [
    {
     "name": "stdout",
     "output_type": "stream",
     "text": [
      "summary(test_x) = \"28×28×1×10000 Array{Float32,4}\"\n",
      "summary(test_y) = \"10000-element Array{Int8,1}\"\n"
     ]
    },
    {
     "data": {
      "text/html": [
       "<table><tbody><tr><td style='text-align:center;vertical-align:middle; margin: 0.5em;border:1px #90999f solid;border-collapse:collapse'><img style='max-width: 100px; max-height:100px;display:inline' src=\"data:image/png;base64,iVBORw0KGgoAAAANSUhEUgAAAHAAAABwCAAAAADji6uXAAAABGdBTUEAALGPC/xhBQAAACBjSFJNAAB6JgAAgIQAAPoAAACA6AAAdTAAAOpgAAA6mAAAF3CculE8AAAAAmJLR0QA/4ePzL8AAAG6SURBVGje7dk9axVBGIbh60gMgWgRISCiFh4xfkRsUpgUCgohSISAYOM/sLC0t06pNslfiIWFH40YMIIQJKSxsDJJEVCMjWARgha7hQSOns2Gk9mXmWZnZ2Fubh7emZ3d1m+9bYd6zMvADMzADMzADMzADMzADMzAnrS+Tg8WMI8TGMA9HMfZphnGB7Y6nQ/P4MuusaO49J8JT+IhxlIxjA/sWIfzWMVFfMIKFvEBp7Cxa5JhbJb3p+UMe9haVb7T/FBkOYblv8YHcA4XsIUnuJ+KYXxgpQz/1Z7hLkbxFsdSMYwP3JcMv+JyeV3AnZQM4wP76k/BU3zDEEZSM4wPrF2H73ED24p3nmupGcYH1q7Dl4r8bmI8RcP4wFoZ/sJr9OMRDqdoGB9YK8NZxVljChOpGsYH7nk/fIEZDOKV7tbRAzGMD9xTHX7HA+zglu7zOxDD+MDKdbiDq/iItmI/bKdsGB9YOcPPOF/2n+N26obxgZXW0jVMlv1ZTDfBMD6wUoZzWC/719FqgmF8YNcZvsPjJhrGB3ad4RJ+lv02jjTFMD6w8tniCt7o/G8pOcP4wH37f5isYXzgHznvPMbFl9k4AAAAAElFTkSuQmCC\"></td><td style='text-align:center;vertical-align:middle; margin: 0.5em;border:1px #90999f solid;border-collapse:collapse'><img style='max-width: 100px; max-height:100px;display:inline' src=\"data:image/png;base64,iVBORw0KGgoAAAANSUhEUgAAAHAAAABwCAAAAADji6uXAAAABGdBTUEAALGPC/xhBQAAACBjSFJNAAB6JgAAgIQAAPoAAACA6AAAdTAAAOpgAAA6mAAAF3CculE8AAAAAmJLR0QA/4ePzL8AAAHuSURBVGje7dnPi05RHMfx1zBKIiWJDcqGFBYKpdhZiKbRZIOFnX+BlUhh5N+glAwbsrYxKYqFZKUmixlZKbMYi3P0/Gg8917quece51tPffve2/Pucz99zz3fcydWjDfWjJlXgAVYgAU4hpise+MsfuAdHsXaFRzDxZQV5g+cqPM+PK/n23DswUvsTFVh/sBKD4f924tT+IynsXYDV1NVmD9w5Fo6j8cx3485bMVG/MRRvMVSygrzB470cAErgn/PsaPv2iw+xPx0ygrzB4708Aw+YRO2DF17iOUuKMwfWLkv3bVK7S4+xvxI/CWrMH9grX1pfzzDjPA+3IYHOJGywvyBtefD3zEv+EfYszbxrxWF+QMbeTiFFzG/hJtdUJg/sPZauoCDWBTmi1fCfJ+8wvyBtfvwnOAfXPB3/rWiMH9gLQ/n8CbmJ3G9SwrzB1Z6uIhberPgIeGcpjMK8wdWengPr2M+5d96sBWF+QMr9zTr9Xrwi8Hztk4ozB/YaLZYwrqh2uZYW8b3WPuG+333rMVtbGhDYf7ARh4eWKU2I/TmV+EM9U+xHdfaUJg/sHItncaTBn842afiLA7H/LjwzT//R5qeh3DH4DeK9wZ77jJ2x3wa+1JSmD+w8Zl35xQWYAEWYAEWYAEW4P8A/AXiG0Wj5IhazQAAAABJRU5ErkJg\"></td><td style='text-align:center;vertical-align:middle; margin: 0.5em;border:1px #90999f solid;border-collapse:collapse'><img style='max-width: 100px; max-height:100px;display:inline' src=\"data:image/png;base64,iVBORw0KGgoAAAANSUhEUgAAAHAAAABwCAAAAADji6uXAAAABGdBTUEAALGPC/xhBQAAACBjSFJNAAB6JgAAgIQAAPoAAACA6AAAdTAAAOpgAAA6mAAAF3CculE8AAAAAmJLR0QA/4ePzL8AAAFUSURBVGje7dk/K0ZRHMDxz4NBTM/AYjHJyGK1UiYpm3dg9T7kDZjMStkMkiwKUWJi86eMFonhubv7pzzn/DpnOXe63/vt2+/cbrf343/XyD/zCrAAC7AAC7AAa6yxrjd4xDx2sZ2iYXxg54ZX1VPPpGoYH9i54TUmsZ6qYXxgp4a32MNWyobxgZ0aPuATmykbxgf2unzjL+EddwbnaZKG8YGt5/AJl5hTv99QDOMDWzc8rfap1A3jA1s3vK32ndQN4wNbvQ8vsIZZnGM8ZcP4wFZzeIIPrGjWbyiG8YGtGt6gh40cDOMDG5+lL1hAH/c5GMYHNp7DfbxhNRfD+MDGDZ+rvZ+LYXxg44ZH1b6Wi2F8YKOGZ3jNzTA+sFHDQ3xjEcu5GMYH1m74iePqegOjuRjGB9b+tvgymL1pHGAiF8P4wE7/nrIwLMACLMACLMAC/Hv9AtzDJ6W9z/rTAAAAAElFTkSuQmCC\"></td><td style='text-align:center;vertical-align:middle; margin: 0.5em;border:1px #90999f solid;border-collapse:collapse'><img style='max-width: 100px; max-height:100px;display:inline' src=\"data:image/png;base64,iVBORw0KGgoAAAANSUhEUgAAAHAAAABwCAAAAADji6uXAAAABGdBTUEAALGPC/xhBQAAACBjSFJNAAB6JgAAgIQAAPoAAACA6AAAdTAAAOpgAAA6mAAAF3CculE8AAAAAmJLR0QA/4ePzL8AAAIGSURBVGje7do9a1RBFIfxX3wBEcFCRWzcgJVpLLSxULCxCGLjF7BRDFoJ2gaF2BsRiYVYKCg2wgpaBZJOLewkYmMqi7VNmY3FvcsOy/W+ICSTYU6zs8PZ+5w/h5l75sxObdle27PNvAzMwAzMwAzMwBa2r+sPNnAPSziLd+jFrDB94FTXmuYnZsrxEIu4HbPC9IGd1uEA13ebwvSBrXO4iPf4MjG/qliPZ3AxRoXpA1vvpXsrohsGcz28Vbwjo1KYPrBVDmfxsSK6IziE9WBuMzaF6QMb99IV/CgjC6O7hcs4jGUslPPPMBeTwvSBtevwF87jj/G+2cM1zONg6bde+g1wAA9xB/tjUJg+sDaHk+eIS3iDoxW+T3DXONdrOBWDwvSBrevSc3ihOn9wFa/xNTaF6QMbczgsPz83+G2VviP/ebyKQWH6wNocLnWIqI9vxrXPg1gUpg+szWG/xQMG+I5Hwdwx1fXMjihMH9i55z1pC3gafJ/GS5yMRWH6wP/K4azi7BjaaVyISWH6wNocjuoUij4N3MDvchz22kb2ITaF6QNrcziH++X4ShBdGOVk7yY6hekDa8/4Yf+las0NcVyxfz7HCePeTTQK0wc29rxXFXdOj1XnMN8B7ziw9d3TJ8Va6yt6MjcV78sZ/65Bo1CYPrDzfzF2ncIMzMAMzMAMzMBm+wsz8FMUm7NFWQAAAABJRU5ErkJg\"></td><td style='text-align:center;vertical-align:middle; margin: 0.5em;border:1px #90999f solid;border-collapse:collapse'><img style='max-width: 100px; max-height:100px;display:inline' src=\"data:image/png;base64,iVBORw0KGgoAAAANSUhEUgAAAHAAAABwCAAAAADji6uXAAAABGdBTUEAALGPC/xhBQAAACBjSFJNAAB6JgAAgIQAAPoAAACA6AAAdTAAAOpgAAA6mAAAF3CculE8AAAAAmJLR0QA/4ePzL8AAAHlSURBVGje7dnPq01RGMbxz/GjCCU/hiaYKIpyZwaXqZkMzIyZMTCRjO7UH2DASClMFGIipa4JBleM1DWQ0u2URG6pa7D27Qr7rFUn5y6v9dZu7fZ5e7/72U97r7XeM1gy2VgzYV4DNmADNmADNmAD/hfAdaWJL3AC8yNyHmEfdtWkMD6w2MOHWMzk3MU13KxJYXxgkYffcb8g7zCu4As21aIwPrDIw8eYxYVM3hCv8VXzcIIxyO3x53AU2/Ecm0fkTuMpPmBnLQrjA7Pv4Yz0bXxgtH9DPClQEP+R1uXhbWke3IupTKGZ7u6nsbUmhfGBIz28Jc1tZzJF5nEDa3ER62tSGB/Y6+EnPOvOz2aKXMWCtDc8VpvC+MBeDxfxHqcKirztxv01KowP7PVwCw5K69IhtvXkfZTmTThSo8L4wF4PN2IP7uA4zv/y+yvp/XuHQXdtIB/xH2ld+8M3uIx7fu+z7ZA8W8Byjc+S91UpjA/M7vHhpZU5bzlOduNpaU1K6slVpzA+sKjXdqg7/hS7fzqfw4HaFMYHFv9v0RdLVr6lOf9WRWF84NgeDpStZVZNYXzg2B5+68YNtSqMDxzbw+tSf/RSrQrjA8f2cArn5Htsq6YwPrBob/FPK2zABmzABvz78QOgUkOO7zXNQAAAAABJRU5ErkJg\"></td><td style='text-align:center;vertical-align:middle; margin: 0.5em;border:1px #90999f solid;border-collapse:collapse'><img style='max-width: 100px; max-height:100px;display:inline' src=\"data:image/png;base64,iVBORw0KGgoAAAANSUhEUgAAAHAAAABwCAAAAADji6uXAAAABGdBTUEAALGPC/xhBQAAACBjSFJNAAB6JgAAgIQAAPoAAACA6AAAdTAAAOpgAAA6mAAAF3CculE8AAAAAmJLR0QA/4ePzL8AAAFuSURBVGje7ZqxSgNBFEXPJlFiZQRrtbC0EEFsLGy0TS3YClr5E+IP5DcCFnaWQdLESrATbLRMaaGCWuxIttyZxfDm+raZN80eDpf3mFm2+Ga+T2vOPAc60IEOdKADHfgvgJ2mL7gB+sAAOAPa1gz1gUWTc+kU2AZew/4NWLJmqA9s1IcjZvkdA12LhvrA5AzfgavK/gQoLBrqA5Nn6QTYC3UH+LBqqA9M7sPrSn1k2VAfmJzhKKyLwKVlQ31g0iwdA/uhXqE8n5o11Acm9eGkUp9bN9QHJmV4H9Ye5b3etKE+MHqW3gEHwBewDjxbN9QHRvfhlDI/gMMcDPWB0RkOw9oDTnMw1AdGzdIXYIOyD7eAhxwM9YFRfThmNkf7uRjqA6My/L0HrgIXuRjqA6MyvA3rGrCci6E+sHaGn8BTqLvAQi6G+sDaGbaAXeAR2MzJUB9YO8M25bftAtjJyVAf2OhfjCwMHehABzrw758fZfkrF7NqAywAAAAASUVORK5C\"></td><td style='text-align:center;vertical-align:middle; margin: 0.5em;border:1px #90999f solid;border-collapse:collapse'><img style='max-width: 100px; max-height:100px;display:inline' src=\"data:image/png;base64,iVBORw0KGgoAAAANSUhEUgAAAHAAAABwCAAAAADji6uXAAAABGdBTUEAALGPC/xhBQAAACBjSFJNAAB6JgAAgIQAAPoAAACA6AAAdTAAAOpgAAA6mAAAF3CculE8AAAAAmJLR0QA/4ePzL8AAAH9SURBVGje7dlNqE5BHMfxz+Ntp0iIInlZSW7u7i6sJKJ0y8uGKKXYWktJShYWSu6CECtZyssKd2NBKdmyxCXSXVheixn1hPOc4zy5Z4yZzZk5Z858z69fc+Y//+nNmN0yZ5Z5BViABViABViABfhfAOc16TSF/RjDMayp6f8VT7ED87tWmD+w1sMv2Cj4slwz/0bxEc+xoWuF+QMHevgJB/AZJ3CpwYBn8RYTfvWvE4X5A3uD9oePsDPW32NpzWCvsQnjuI6FKSjMH1g5D6dwN9avaubftlgf93v/OlGYP7DSw5O4Jaxt+xoMNIkPOIKDKSnMH1jpYS9+zUosGDDAN5zD5fjOtdQU5g+sjUvvYTsW4fhPz57gMZ7F9t4UFeYPrIxpXmAP3sX2jDDP+kv/vbV4gHWpKcwfWDkPR/EKLwVvLghxzeG+PoewOdbH1PvXicL8gb1hzp7eYD1G8FB97NqJwvyBjXJtVeWM8C89r5l/nSjMH9jawzu4KewDl6SsMH9gaw/vx+tubElZYf7A1uvhCkwL5xPFw06BrebhFSEns8yf+deJwvyBrT3sYVdsTwtnVKtTVJg/cKi4dC5u46JwxngjRYX5A1uthyPC/v9HnuYoTmFVigrzB7bycBKnsVXIoS42OC/eqcL8gUPlaf4JhQVYgAVYgH+/fAeDzkcUFQ8CJAAAAABJRU5ErkJg\"></td><td style='text-align:center;vertical-align:middle; margin: 0.5em;border:1px #90999f solid;border-collapse:collapse'><img style='max-width: 100px; max-height:100px;display:inline' src=\"data:image/png;base64,iVBORw0KGgoAAAANSUhEUgAAAHAAAABwCAAAAADji6uXAAAABGdBTUEAALGPC/xhBQAAACBjSFJNAAB6JgAAgIQAAPoAAACA6AAAdTAAAOpgAAA6mAAAF3CculE8AAAAAmJLR0QA/4ePzL8AAAH0SURBVGje7dhNiE9RGMfxz18IKaKMsqDIQhnZKdlpVoqk5G2jLBULCxRlg4UVaspKmkFNKSWb2dhYoCiK8lJeFkrIUNgYi3M1IzX30p1x/k/n2Zx7Tqe+/c6v5zn3OZ1RUxvTpphXgAVYgAVYgAVYgAVYgF0BnP43m0dwGI8wjBndoDA+sLGHAziK19V8BAu7QWF8YKdJf/gGa/EenWptO85hQe4K4wMbeXgAZzFqzEOYJ+XmfszMVWF8YK2HL9GLL1iNHuku/BWLcB+Lc1UYH1h7Hz7AZ2zALXzDIE7iOd5iM25qVlfjH2l+Hn6X6ufBaj4LezGEF9XaHKWW/kdgrYeXq/EGtoxbvzfuex3m5qowPrDWwx24jrt4goe4ho+YX40XsAerclQYH1j7T/MBK/DJ7/+lG3Eem/AU+9Cfo8L4wEa9xTC2ST52pF7itHQ3HsEpLK32Lc9NYXxgIw9J/gxK9fOEsfvvK3ZK9XY3LuamMD6wsYcTxRXswhKpF5mox4h/pN3p4Q8pB6/iOI7lpDA+sBUPSfm3XnoDeIyVuSiMD2zNQziDQ9iKS5idg8L4wFY9fCfl4jMpL3tzUBgf2KqH8ArLpLeBgRwUxge27iH04Tbu+PPtJv6R5vfW9i8xhDVSTS0eTnpMSh5mpbAACzB/4E/Q5FfoPjGjkQAAAABJRU5ErkJg\"></td></tr></tbody></table><div><small>(a vector displayed as a row to save space)</small></div>"
      ],
      "text/plain": [
       "8-element Array{Base.ReinterpretArray{Gray{Float32},2,Float32,Array{Float32,2}},1}:\n",
       " [Gray{Float32}(1.0) Gray{Float32}(1.0) … Gray{Float32}(1.0) Gray{Float32}(1.0); Gray{Float32}(1.0) Gray{Float32}(1.0) … Gray{Float32}(1.0) Gray{Float32}(1.0); … ; Gray{Float32}(1.0) Gray{Float32}(1.0) … Gray{Float32}(1.0) Gray{Float32}(1.0); Gray{Float32}(1.0) Gray{Float32}(1.0) … Gray{Float32}(1.0) Gray{Float32}(1.0)]\n",
       " [Gray{Float32}(1.0) Gray{Float32}(1.0) … Gray{Float32}(1.0) Gray{Float32}(1.0); Gray{Float32}(1.0) Gray{Float32}(1.0) … Gray{Float32}(1.0) Gray{Float32}(1.0); … ; Gray{Float32}(1.0) Gray{Float32}(1.0) … Gray{Float32}(1.0) Gray{Float32}(1.0); Gray{Float32}(1.0) Gray{Float32}(1.0) … Gray{Float32}(1.0) Gray{Float32}(1.0)]\n",
       " [Gray{Float32}(1.0) Gray{Float32}(1.0) … Gray{Float32}(1.0) Gray{Float32}(1.0); Gray{Float32}(1.0) Gray{Float32}(1.0) … Gray{Float32}(1.0) Gray{Float32}(1.0); … ; Gray{Float32}(1.0) Gray{Float32}(1.0) … Gray{Float32}(1.0) Gray{Float32}(1.0); Gray{Float32}(1.0) Gray{Float32}(1.0) … Gray{Float32}(1.0) Gray{Float32}(1.0)]\n",
       " [Gray{Float32}(1.0) Gray{Float32}(1.0) … Gray{Float32}(1.0) Gray{Float32}(1.0); Gray{Float32}(1.0) Gray{Float32}(1.0) … Gray{Float32}(1.0) Gray{Float32}(1.0); … ; Gray{Float32}(1.0) Gray{Float32}(1.0) … Gray{Float32}(1.0) Gray{Float32}(1.0); Gray{Float32}(1.0) Gray{Float32}(1.0) … Gray{Float32}(1.0) Gray{Float32}(1.0)]\n",
       " [Gray{Float32}(1.0) Gray{Float32}(1.0) … Gray{Float32}(1.0) Gray{Float32}(1.0); Gray{Float32}(1.0) Gray{Float32}(1.0) … Gray{Float32}(1.0) Gray{Float32}(1.0); … ; Gray{Float32}(1.0) Gray{Float32}(1.0) … Gray{Float32}(1.0) Gray{Float32}(1.0); Gray{Float32}(1.0) Gray{Float32}(1.0) … Gray{Float32}(1.0) Gray{Float32}(1.0)]\n",
       " [Gray{Float32}(1.0) Gray{Float32}(1.0) … Gray{Float32}(1.0) Gray{Float32}(1.0); Gray{Float32}(1.0) Gray{Float32}(1.0) … Gray{Float32}(1.0) Gray{Float32}(1.0); … ; Gray{Float32}(1.0) Gray{Float32}(1.0) … Gray{Float32}(1.0) Gray{Float32}(1.0); Gray{Float32}(1.0) Gray{Float32}(1.0) … Gray{Float32}(1.0) Gray{Float32}(1.0)]\n",
       " [Gray{Float32}(1.0) Gray{Float32}(1.0) … Gray{Float32}(1.0) Gray{Float32}(1.0); Gray{Float32}(1.0) Gray{Float32}(1.0) … Gray{Float32}(1.0) Gray{Float32}(1.0); … ; Gray{Float32}(1.0) Gray{Float32}(1.0) … Gray{Float32}(1.0) Gray{Float32}(1.0); Gray{Float32}(1.0) Gray{Float32}(1.0) … Gray{Float32}(1.0) Gray{Float32}(1.0)]\n",
       " [Gray{Float32}(1.0) Gray{Float32}(1.0) … Gray{Float32}(1.0) Gray{Float32}(1.0); Gray{Float32}(1.0) Gray{Float32}(1.0) … Gray{Float32}(1.0) Gray{Float32}(1.0); … ; Gray{Float32}(1.0) Gray{Float32}(1.0) … Gray{Float32}(1.0) Gray{Float32}(1.0); Gray{Float32}(1.0) Gray{Float32}(1.0) … Gray{Float32}(1.0) Gray{Float32}(1.0)]"
      ]
     },
     "execution_count": 6,
     "metadata": {},
     "output_type": "execute_result"
    }
   ],
   "source": [
    "test_x, test_y = prepare_mnist(MNIST.testtensor(Float32), MNIST.testlabels())\n",
    "@show summary(test_x) summary(test_y);\n",
    "[MNIST.convert2image(test_x[:,:,1,i]) for i in 1:8]"
   ]
  },
  {
   "cell_type": "markdown",
   "metadata": {},
   "source": [
    "## Defining the Network"
   ]
  },
  {
   "cell_type": "markdown",
   "metadata": {},
   "source": [
    "With the dataset prepared, we can now define and instantiate\n",
    "our neural network. To keep things simple, we will use the same\n",
    "convolutional network as defined in the\n",
    "[MNIST example](http://denizyuret.github.io/Knet.jl/latest/tutorial.html#Convolutional-neural-network-1)\n",
    "of the Knet.jl package."
   ]
  },
  {
   "cell_type": "code",
   "execution_count": 7,
   "metadata": {},
   "outputs": [],
   "source": [
    "using Knet"
   ]
  },
  {
   "cell_type": "markdown",
   "metadata": {},
   "source": [
    "The first thing we will do is define the forward pass through\n",
    "the network. This will effectively outline the computation\n",
    "graph of the network architecture. Note how this does not\n",
    "define some details, such as the number of neurons per layer.\n",
    "We will define those later when initializing our\n",
    "vector of weight arrays `w`."
   ]
  },
  {
   "cell_type": "code",
   "execution_count": 8,
   "metadata": {},
   "outputs": [
    {
     "data": {
      "text/plain": [
       "forward"
      ]
     },
     "execution_count": 8,
     "metadata": {},
     "output_type": "execute_result"
    }
   ],
   "source": [
    "\"\"\"\n",
    "    forward(w, x) -> a\n",
    "\n",
    "Compute the forward pass for the given minibatch `x` by using the\n",
    "neural network parameters in `w`. The resulting (unnormalized)\n",
    "activations of the last layer are returned as `a`.\n",
    "\"\"\"\n",
    "function forward(w, x)\n",
    "    # conv1 (2x2 maxpool)\n",
    "    a1 = pool(relu.(conv4(w[1], x)  .+ w[2]))\n",
    "    # conv2 (2x2 maxpool)\n",
    "    a2 = pool(relu.(conv4(w[3], a1) .+ w[4]))\n",
    "    # dense1 (relu)\n",
    "    a3 = relu.(w[5] * mat(a2) .+ w[6])\n",
    "    # dense2 (identity)\n",
    "    a4 = w[7] * a3 .+ w[8]\n",
    "    return a4\n",
    "end"
   ]
  },
  {
   "cell_type": "markdown",
   "metadata": {},
   "source": [
    "In order to be able to train our network we need to choose a\n",
    "cost function. Because this is a classification problem we will\n",
    "use the negative log-likelihood (provided by `Knet.nll`).\n",
    "With the cost function defined we can the simply use the\n",
    "higher-order function `grad` to create a new function `costgrad`\n",
    "that computes us the corresponding gradients."
   ]
  },
  {
   "cell_type": "code",
   "execution_count": 9,
   "metadata": {},
   "outputs": [
    {
     "data": {
      "text/plain": [
       "(::getfield(AutoGrad, Symbol(\"#gradfun#8\")){getfield(AutoGrad, Symbol(\"##gradfun#6#7\")){typeof(cost),Int64,Bool}}) (generic function with 1 method)"
      ]
     },
     "execution_count": 9,
     "metadata": {},
     "output_type": "execute_result"
    }
   ],
   "source": [
    "\"\"\"\n",
    "    cost(w, x, y) -> AbstractFloat\n",
    "\n",
    "Compute the per-instance negative log-likelihood for the data\n",
    "in the minibatch `(x, y)` given the network with the current\n",
    "parameters in `w`.\n",
    "\"\"\"\n",
    "cost(w, x, y) = nll(forward(w, x), y)\n",
    "costgrad = grad(cost)"
   ]
  },
  {
   "cell_type": "markdown",
   "metadata": {},
   "source": [
    "Aside from the cost function that we need for training, we\n",
    "would also like a more interpretable performance measurement.\n",
    "In this tutorial we will use \"accuracy\" for its simplicity\n",
    "and because we know that the class distribution for MNIST\n",
    "is close to uniform."
   ]
  },
  {
   "cell_type": "code",
   "execution_count": 10,
   "metadata": {},
   "outputs": [
    {
     "data": {
      "text/plain": [
       "acc"
      ]
     },
     "execution_count": 10,
     "metadata": {},
     "output_type": "execute_result"
    }
   ],
   "source": [
    "\"\"\"\n",
    "    acc(w, X, Y; [batchsize]) -> Float64\n",
    "\n",
    "Compute the accuracy for the data in `(X,Y)` given the network\n",
    "with the current parameters in `w`. The resulting value is\n",
    "computed by iterating over the data in minibatches of size\n",
    "`batchsize`.\n",
    "\"\"\"\n",
    "function acc(w, X, Y; batchsize = 100)\n",
    "    sum = 0; count = 0\n",
    "    for (x_cpu, y) in eachbatch((X, Y), maxsize = batchsize)\n",
    "        x = KnetArray{Float32}(x_cpu)\n",
    "        sum += Int(accuracy(forward(w,x), y, average = false))\n",
    "        count += length(y)\n",
    "    end\n",
    "    return sum / count\n",
    "end"
   ]
  },
  {
   "cell_type": "markdown",
   "metadata": {},
   "source": [
    "Before we can train or even just use our network, we need to\n",
    "define how we initialize `w`, which is our the vector of\n",
    "parameter arrays. The dimensions of these individual arrays\n",
    "specify the filter sizes and number of neurons.\n",
    "It can be helpful to compare the indices here with the indices\n",
    "used in our `forward` function to see which array corresponds\n",
    "to which computation node of our network."
   ]
  },
  {
   "cell_type": "code",
   "execution_count": 11,
   "metadata": {},
   "outputs": [
    {
     "data": {
      "text/plain": [
       "weights (generic function with 2 methods)"
      ]
     },
     "execution_count": 11,
     "metadata": {},
     "output_type": "execute_result"
    }
   ],
   "source": [
    "function weights(atype = KnetArray{Float32})\n",
    "    w = Array{Any}(undef, 8)\n",
    "    # conv1\n",
    "    w[1] = xavier(5,5,1,20)\n",
    "    w[2] = zeros(1,1,20,1)\n",
    "    # conv2\n",
    "    w[3] = xavier(5,5,20,50)\n",
    "    w[4] = zeros(1,1,50,1)\n",
    "    # dense1\n",
    "    w[5] = xavier(500,800)\n",
    "    w[6] = zeros(500,1)\n",
    "    # dense2\n",
    "    w[7] = xavier(10,500)\n",
    "    w[8] = zeros(10,1)\n",
    "    return map(a->convert(atype,a), w)\n",
    "end"
   ]
  },
  {
   "cell_type": "markdown",
   "metadata": {},
   "source": [
    "## Training without Augmentation"
   ]
  },
  {
   "cell_type": "markdown",
   "metadata": {},
   "source": [
    "In order to get an intuition for how useful augmentation can\n",
    "be, we need a sensible baseline to compare to. To that end, we\n",
    "will first train the network we just defined using only the\n",
    "(unaltered) 500 training examples."
   ]
  },
  {
   "cell_type": "markdown",
   "metadata": {},
   "source": [
    "The package\n",
    "[ValueHistories.jl](https://github.com/JuliaML/ValueHistories.jl)\n",
    "will help us record the accuracy during the training process.\n",
    "We will use those logs later to visualize the differences\n",
    "between having augmentation or no augmentation."
   ]
  },
  {
   "cell_type": "code",
   "execution_count": 12,
   "metadata": {},
   "outputs": [],
   "source": [
    "using ValueHistories"
   ]
  },
  {
   "cell_type": "markdown",
   "metadata": {},
   "source": [
    "To keep things simple, we will not overly optimize our\n",
    "training function. Thus, we will be content with using a\n",
    "closure. Because both, the baseline and the augmented version,\n",
    "will share this \"inefficiency\", we should still get a decent\n",
    "enough picture of their performance differences."
   ]
  },
  {
   "cell_type": "code",
   "execution_count": 13,
   "metadata": {},
   "outputs": [
    {
     "data": {
      "text/plain": [
       "train_baseline (generic function with 1 method)"
      ]
     },
     "execution_count": 13,
     "metadata": {},
     "output_type": "execute_result"
    }
   ],
   "source": [
    "function train_baseline(; epochs = 500, batchsize = 100, lr = .03)\n",
    "    w = weights()\n",
    "    log = MVHistory()\n",
    "    for epoch in 1:epochs\n",
    "        for (batch_x_cpu, batch_y) in eachbatch((train_x ,train_y), batchsize)\n",
    "            batch_x = KnetArray{Float32}(batch_x_cpu)\n",
    "            g = costgrad(w, batch_x, batch_y)\n",
    "            Knet.update!(w, g, lr = lr)\n",
    "        end\n",
    "\n",
    "        if (epoch % 5) == 0\n",
    "            train = acc(w, train_x, train_y)\n",
    "            test  = acc(w, test_x,  test_y)\n",
    "            @trace log epoch train test\n",
    "            msg = \"epoch \" * lpad(epoch,4) * \": train accuracy \" * rpad(round(train, digits=3),5,\"0\") * \", test accuracy \" * rpad(round(test,digits=3),5,\"0\")\n",
    "            println(msg)\n",
    "        end\n",
    "    end\n",
    "    log\n",
    "end"
   ]
  },
  {
   "cell_type": "markdown",
   "metadata": {},
   "source": [
    "Aside from the accuracy, we will also keep an eye on the\n",
    "training time. In particular we would like to see if and how\n",
    "the addition of augmentation causes our training time to\n",
    "increase."
   ]
  },
  {
   "cell_type": "code",
   "execution_count": 14,
   "metadata": {},
   "outputs": [
    {
     "name": "stdout",
     "output_type": "stream",
     "text": [
      "epoch    5: train accuracy 0.482, test accuracy 0.395\n",
      "epoch   10: train accuracy 0.720, test accuracy 0.631\n",
      "epoch   15: train accuracy 0.810, test accuracy 0.729\n",
      "epoch   20: train accuracy 0.848, test accuracy 0.772\n",
      "epoch   25: train accuracy 0.880, test accuracy 0.800\n",
      "epoch   30: train accuracy 0.902, test accuracy 0.840\n",
      "epoch   35: train accuracy 0.914, test accuracy 0.856\n",
      "epoch   40: train accuracy 0.934, test accuracy 0.860\n",
      "epoch   45: train accuracy 0.942, test accuracy 0.866\n",
      "epoch   50: train accuracy 0.950, test accuracy 0.869\n",
      "epoch   55: train accuracy 0.956, test accuracy 0.872\n",
      "epoch   60: train accuracy 0.964, test accuracy 0.875\n",
      "epoch   65: train accuracy 0.972, test accuracy 0.877\n",
      "epoch   70: train accuracy 0.978, test accuracy 0.880\n",
      "epoch   75: train accuracy 0.980, test accuracy 0.880\n",
      "epoch   80: train accuracy 0.988, test accuracy 0.882\n",
      "epoch   85: train accuracy 0.992, test accuracy 0.884\n",
      "epoch   90: train accuracy 0.998, test accuracy 0.884\n",
      "epoch   95: train accuracy 1.000, test accuracy 0.884\n",
      "epoch  100: train accuracy 1.000, test accuracy 0.885\n",
      "epoch  105: train accuracy 1.000, test accuracy 0.885\n",
      "epoch  110: train accuracy 1.000, test accuracy 0.885\n",
      "epoch  115: train accuracy 1.000, test accuracy 0.885\n",
      "epoch  120: train accuracy 1.000, test accuracy 0.886\n",
      "epoch  125: train accuracy 1.000, test accuracy 0.885\n",
      "epoch  130: train accuracy 1.000, test accuracy 0.885\n",
      "epoch  135: train accuracy 1.000, test accuracy 0.886\n",
      "epoch  140: train accuracy 1.000, test accuracy 0.886\n",
      "epoch  145: train accuracy 1.000, test accuracy 0.886\n",
      "epoch  150: train accuracy 1.000, test accuracy 0.887\n",
      "epoch  155: train accuracy 1.000, test accuracy 0.887\n",
      "epoch  160: train accuracy 1.000, test accuracy 0.887\n",
      "epoch  165: train accuracy 1.000, test accuracy 0.887\n",
      "epoch  170: train accuracy 1.000, test accuracy 0.887\n",
      "epoch  175: train accuracy 1.000, test accuracy 0.887\n",
      "epoch  180: train accuracy 1.000, test accuracy 0.887\n",
      "epoch  185: train accuracy 1.000, test accuracy 0.888\n",
      "epoch  190: train accuracy 1.000, test accuracy 0.888\n",
      "epoch  195: train accuracy 1.000, test accuracy 0.888\n",
      "epoch  200: train accuracy 1.000, test accuracy 0.888\n",
      " 16.771073 seconds (5.73 M allocations: 361.558 MiB, 30.92% gc time)\n"
     ]
    }
   ],
   "source": [
    "train_baseline(epochs=1) # warm-up\n",
    "baseline_log = @time train_baseline(epochs=200);"
   ]
  },
  {
   "cell_type": "markdown",
   "metadata": {},
   "source": [
    "As we can see, the accuracy on the training set is around a\n",
    "100%, while the accuracy on the test set peaks around 90%. For\n",
    "a mere 500 training examples, this isn't actually that bad of\n",
    "a result."
   ]
  },
  {
   "cell_type": "markdown",
   "metadata": {},
   "source": [
    "## Integrating Augmentor"
   ]
  },
  {
   "cell_type": "markdown",
   "metadata": {},
   "source": [
    "Now that we have a network architecture with a baseline to\n",
    "compare to, let us finally see what it takes to add Augmentor\n",
    "to our experiment. First, we need to include the package to\n",
    "our experiment."
   ]
  },
  {
   "cell_type": "code",
   "execution_count": 15,
   "metadata": {},
   "outputs": [],
   "source": [
    "using Augmentor"
   ]
  },
  {
   "cell_type": "markdown",
   "metadata": {},
   "source": [
    "The next step, and maybe the most human-hour consuming part of\n",
    "adding image augmentation to a prediction problem, is to\n",
    "design and select a sensible augmentation pipeline. Take a\n",
    "look at the [elastic distortions tutorial](@ref elastic) for\n",
    "an example of how to do just that."
   ]
  },
  {
   "cell_type": "markdown",
   "metadata": {},
   "source": [
    "For this example, we already choose a quite complicated but\n",
    "promising augmentation pipeline for you. This pipeline was\n",
    "designed to yield a large variation of effects as well as to\n",
    "showcase how even deep pipelines are quite efficient in terms\n",
    "of performance."
   ]
  },
  {
   "cell_type": "code",
   "execution_count": 16,
   "metadata": {},
   "outputs": [
    {
     "data": {
      "text/plain": [
       "10-step Augmentor.ImmutablePipeline:\n",
       "  1.) Reshape array to 28×28\n",
       "  2.) Permute dimension order to (2, 1)\n",
       "  3.) Either: (50%) ShearX by ϕ ∈ -5:5 degree. (50%) ShearY by ψ ∈ -5:5 degree.\n",
       "  4.) Rotate by θ ∈ -15:15 degree\n",
       "  5.) Crop a 28×28 window around the center\n",
       "  6.) Zoom by I ∈ {0.9×0.9, 1.0×1.0, 1.1×1.1, 1.2×1.2}\n",
       "  7.) Cache into temporary buffer\n",
       "  8.) Distort using a smoothed and normalized 10×10 grid with pinned border\n",
       "  9.) Permute dimension order to (2, 1)\n",
       " 10.) Reshape array to 28×28×1"
      ]
     },
     "execution_count": 16,
     "metadata": {},
     "output_type": "execute_result"
    }
   ],
   "source": [
    "pl = Reshape(28,28) |>\n",
    "     PermuteDims(2,1) |>\n",
    "     ShearX(-5:5) * ShearY(-5:5) |>\n",
    "     Rotate(-15:15) |>\n",
    "     CropSize(28,28) |>\n",
    "     Zoom(0.9:0.1:1.2) |>\n",
    "     CacheImage() |>\n",
    "     ElasticDistortion(10) |>\n",
    "     PermuteDims(2,1) |>\n",
    "     Reshape(28,28,1)"
   ]
  },
  {
   "cell_type": "markdown",
   "metadata": {},
   "source": [
    "Most of the used operations are quite self explanatory, but\n",
    "there are some details about this pipeline worth pointing out\n",
    "explicitly."
   ]
  },
  {
   "cell_type": "markdown",
   "metadata": {},
   "source": [
    "1. We use the operation [`PermuteDims`](@ref) to convert the\n",
    "   horizontal-major MNIST image to a julia-native\n",
    "   vertical-major image. The vertical-major image is then\n",
    "   processed and converted back to a horizontal-major array.\n",
    "   We mainly do this here to showcase the option, but it is\n",
    "   also to keep consistent with how the data is usually used\n",
    "   in the literature. Alternatively, one could just work with\n",
    "   the MNIST data in a vertical-major format all the way\n",
    "   through without any issue."
   ]
  },
  {
   "cell_type": "markdown",
   "metadata": {},
   "source": [
    "2. As counter-intuitive as it sounds, the operation\n",
    "   [`CacheImage`](@ref) right before\n",
    "   [`ElasticDistortion`](@ref) is actually used to improve\n",
    "   performance. If we were to omit it, then the whole pipeline\n",
    "   would be applied in one single pass. In this case, applying\n",
    "   distortions on top of affine transformations lazily is in\n",
    "   fact less efficient than using a temporary variable."
   ]
  },
  {
   "cell_type": "markdown",
   "metadata": {},
   "source": [
    "With the pipeline now defined, let us quickly peek at what\n",
    "kind of effects we can achieve with it. In particular, lets\n",
    "apply the pipeline multiple times to the first training image\n",
    "and look at what kind of results it produces."
   ]
  },
  {
   "cell_type": "code",
   "execution_count": 17,
   "metadata": {},
   "outputs": [
    {
     "data": {
      "text/html": [
       "<table><tbody><tr><td style='text-align:center;vertical-align:middle; margin: 0.5em;border:1px #90999f solid;border-collapse:collapse'><img style='max-width: 100px; max-height:100px;display:inline' src=\"data:image/png;base64,iVBORw0KGgoAAAANSUhEUgAAAHAAAABwCAAAAADji6uXAAAABGdBTUEAALGPC/xhBQAAACBjSFJNAAB6JgAAgIQAAPoAAACA6AAAdTAAAOpgAAA6mAAAF3CculE8AAAAAmJLR0QA/4ePzL8AAAMfSURBVGje7drdi9RlHAXwz6y5m6tbS1qaFEXbhYVpEpSRZGFhV6UkeuFtN174t/QPdBl4Z/SCF2KQUWFRhKWpRWRiaZmmkS+7NDNdnF/o0u46u4Lz+ODAMMNvnt+cOc/hOd+3aXXd3MfATca7DXgb8BYAvONGbu6ig3bzvoVx/I2J5svvwkg/GdYPOCsNO/jHVc2O4xh+xaho9Tk+atauxbbmtW8M6wecVsM2/pJz9Tt+wVmcxjnR6DhO4jIeaa4dbu4bw/1Y3G+G9QNOqWFXtNmFH0Szc+KRf+Bis2ZCzuVTeBCDeBRL8BBW4oF+M6wfcFoNL4kv7hfN2pjXfD6KO3GmWfsSXsYwhrDomudgvxnWDzilhi0sxXrxx9/wvZzDpdgsOh4Ub12LNc2vv/bZKoFh/YDTang3XhM//Alv4zs8j53NmiP4WWLfcKkM6wecNqeZh4clzo2JfiflvI01a5Zgtf/nLUUxrB9wxtqi1SwYkRwTvpY8dFj8dLR0hvUD9lQf3oNX8RkO4Bs8jgWYb+q4VwzD+gFbvfZLL2MPdmALXsEK8doFJTOsH7DnPs0QnpU85z0clfzmdakJh3r89fVvabkaDuBevIFT+BTfSk9mm3jrItf31fq3tFwvJfX8uNQUb+J98dFN2I5VJve3i2BYP+CsNPzvMYET+ABv4U9sEB03lsawfsA5zZ4GpR+6VfLU3dgndcZqLCuJYf2Ac9LwovTCj0n/baC5dkG8tjMDk/q3tGwN29If/QKf4JBoSeLiiPTCZ8pr6t/SMjXs4orMED+WXOagzKFa0pN7WmqP69X89W9peRp2ZA71o8S8dyQvvST9mxVYhxfwmPz3oiiG9QPOmJe2cV7i3m7slRlGV/qn66Rf84zMpHqp8+vf0jLOYUe0+wpfStw7IHOLFp6QnHSj+OhCV+fDxTGsH3CShuMymz8hM999kr+cFu+cjyelZ7oB9zXXimZYP+AkLz2Kd/Gh5JvnZca0XGq+5/CizIWHzW5e0TeG9QNO0vCQ/IfmlMS8hRLnlkv9PmZ2vlkEw/oB59Rru6UY1g/4L1b1oUfMcAoPAAAAAElFTkSuQmCC\"></td><td style='text-align:center;vertical-align:middle; margin: 0.5em;border:1px #90999f solid;border-collapse:collapse'><img style='max-width: 100px; max-height:100px;display:inline' src=\"data:image/png;base64,iVBORw0KGgoAAAANSUhEUgAAAHAAAABwCAAAAADji6uXAAAABGdBTUEAALGPC/xhBQAAACBjSFJNAAB6JgAAgIQAAPoAAACA6AAAdTAAAOpgAAA6mAAAF3CculE8AAAAAmJLR0QA/4ePzL8AAALsSURBVGje7drPi1V1GAbwz50Zo1HHmNRQSE0qkVJU0halJUSIQWIQ4aKV4NaNf0Lbdm2jRVtRF2NQqJgQYuSAC4lqklJTK39QZjYO1zsunutGOs4Pce6ZL/cLh3s5597znOd9eN/v++M0xs3s6plhvC5gF3AWAPY9jpv+i7lo1IFh+YDT1vAubuFy+6m/x2cYxg7sw/P/w6h8k84ODVu4iuM4hTH8jfN4ERvQXxeG5QM2ppLT3MWoaDWEA7iBNdiIpViNF7AIvXVgWD7ghH54X7crEi+H8CV+l/3uabyED/EU5mNOnRiWD1ip4TjuSMz8GSfwLc60zw3iGfG1J7F8kk9fvknroeE4buOs+N3Z9nG1fX4e3pX4OSYxtIkn6siwfMBKDf/DCD7HTSwU/Vqi2Uftz+vt3042OSrfpPXQsEf2ti14D7/hZXwt/vi6aNnA4rozLB+w0n3mYBn24hKWSP5yCz/iG9G3T/ScTBztCMPyAR8aAnukTn9OfG6r5KNHsF90XSl74bOi40QMyjdpvevDmxJLv8BB8dMVWIAPpDYcmIBF+Satlx8+uAakBzNf8pvjuND+fh7b8Lb4ZNWNyzdpvf3w/mpKvX9E6sWf8I/krpvFJ9fr9rxnaE2rX9oneeoyia0jOIrD+LN9fanslx1nWD7gtOcWvdKr2SRa/SF5zhWJqwN1YVg+4CPND1ui3TDOSW+gKTV/o+I/5Zt09mg4hovie0P4RXKdjdipuu9dvklnh4ajOI1P8RX+kvp/G3bhTV0NZ3BNScOm1PjHpI96SuLncryF9/GK6r2wIwzLB5yUhi15R+YHiZuHZP/rxVp592I7Vqme33eMYfmAE2p4W2qH76TnfVL6p/14Dbvxhsztu/PDjgBWatgU/YbxiWh4Teb6g3gHe/CqqQXk8k1ajz5NS3zuY+nBjMrMfp30R7dKz22B6hqiNgzLB6zstY3gV9GzX3xvkczw55p+UVK+SeujYTEMywe8Bxc3k4hlhSWUAAAAAElFTkSuQmCC\"></td><td style='text-align:center;vertical-align:middle; margin: 0.5em;border:1px #90999f solid;border-collapse:collapse'><img style='max-width: 100px; max-height:100px;display:inline' src=\"data:image/png;base64,iVBORw0KGgoAAAANSUhEUgAAAHAAAABwCAAAAADji6uXAAAABGdBTUEAALGPC/xhBQAAACBjSFJNAAB6JgAAgIQAAPoAAACA6AAAdTAAAOpgAAA6mAAAF3CculE8AAAAAmJLR0QA/4ePzL8AAAOJSURBVGje7drdb1RVFAXw34wQpgVUVARN/BastmoCajUGjQaNJvroow+++W8ZH3wx0RdNTIifKVVo/bahahRFiFZtRRBtmTI+rDukYKFTxcz1xJPcTGbu3LNn75W99t7rTKPjwq7fMY01GFnmfvMC21txlW9wzT/doIOjmMQe7MfFeBo3YH2/PSzf4KoxPIVjmMG31QbH8RLG0MZubEGjDh6Wb7AnDDtLrmP4GB9Vr9fiG7yPTbgTT2IbWnXwsHyDjZXqYQfzmMNPUutewWc4iVsEu0HhziFslzxcVwcPyzd4zjxclP7kV3yBccm7aXyJ3wS/EezAVmyWWtjC2rp4WL7BMzDsCHZtqXcfVtdbmMAJwaZZPdjAbbgbGyTvVvKg/JD2F8M/8JX0KhN4G18Lh57AJbgRV5y1yUB11dLD8g2exnARP+B5vIPPpQZ26+UARvEMbpJa+DOutnz/WRsPyzd4GsOG4HIQRwSz7ZiS2rcF9+IBycOOcG7D6gaU8kPaPwybklNPyVywgJ0y843JTNHGrHDqOlz0X/CwfINnpNAAHsZ90ru0BK+jeBUvCufuxvXV/cHqubU9Giw/pP2fDzvCjx3RZGalNr6G94Rnr8NVgt81MltsE45tOX99LD+k/cfw7NURXv1esNwjPc+c1M+mzIajeEjmxS6Wy3lTfkjrh2F3dfNyRrS1adHbPhV8Z0Sn2YUHcY/M/H33sHyDPWO4dLUlN9s4LBz7AvYJjw7jWTwhs//S3qf8kNZHa1vpoab0NzeLvnYIBwTTCdFUbxc97n8M/9X1tzDsnhkeFF1nSni1Xd0fFNzm/bVfLT+k9cdwXrS3T7BXdPAp/CJ63AZcXn33x2U8Kj+k9cZwQbTU/XhdzjIOCXaEU4ekn3mkeu27h+Ub7BnDrp46JvPFPnwn/LlRtPC7RB8Yljp5aR08LN9gTxguyuywV3qVyep9E5fJTPGoaKnDMh+ea+PyQ1o/DE9J//IBXsabot2sl9wbxePCmxtFdzvfpuWHtH4YLsg5/rvSuxyXnnOz4PaYcOiV1ecrnUOVH9L6YNiRvnJc8m9c6t+i9J07Jf92iS7ea2EtP6T1wfCkaGiT8n+Mw8KrW3Gr9C5D8n+o1ZxBlR/SemDYPaM/IPx5pPplm+R8Ygful/OL1Z4hlh/SemA4hzfwnPQys9J/jkgNvEN0tFZvNvrrYfkG/wTCksWlfZf7cwAAAABJRU5ErkJg\"></td><td style='text-align:center;vertical-align:middle; margin: 0.5em;border:1px #90999f solid;border-collapse:collapse'><img style='max-width: 100px; max-height:100px;display:inline' src=\"data:image/png;base64,iVBORw0KGgoAAAANSUhEUgAAAHAAAABwCAAAAADji6uXAAAABGdBTUEAALGPC/xhBQAAACBjSFJNAAB6JgAAgIQAAPoAAACA6AAAdTAAAOpgAAA6mAAAF3CculE8AAAAAmJLR0QA/4ePzL8AAALHSURBVGje7drbi8xxGMfx1zjsynG3nM+ppYTIhVAOpcjpwqmWC8Uf4C/wL7iSS64kEoUcUiSEshcorXNZyWFXm7PFjItnNjc7u2tp5rdf862paZrmM8/znme+n+f5fnMF5V0Dyqz3HwgO+tcfWCg+SkWSfkr7N8On+IwG1GYlwvQF/4rhT3zBRRwofvu9SvOrSITpC/aJ4Se8wBOMxH40Yxumi//SXFYiTF8w9yee5js6cBuncAcrcA9LsVYw7O6HkX5Ks1mHebwU7B7hevH5ZIzGbszDGAzMWoTpC5ZkmBd73WtRbzdxGQ9ELeaxStRePYbqmV9FIkxfsEuGBcHurODWhDZ8xAjMRQ3qMDXrEaYv2CXDDjzEPjwW/rOAYaLutuOH6CMyH2H6gl0yrMVCrMRYUXfHMQSLsVww7egPEaYvWHI/HI49eOW3V7mEVrQXX6vt+fMrH2H6gt360gbMwFdRf824gTlYIDjXFd+b07uVfkqz2R8W8BbncUR40CWYgGV++9LecEw/pdlkSPQSrTiNg8KjDhB74wZRl/V65ph+SrPLkKjHNpwRHucu3gn/swbrMVv3fWL6Kc02Q4LjZ7TgipjZXBXc1mKX2C9LbbTppzRbnqarlRN94ixMxHzRK54U87f1WYswfcE+nz3lBLtWUZs/RB/SojrzLvPqE8POs6UmHBX1NxhThK/Jq57jl3H9McO88KRXcFjsh62i518n/E133jT9lGabYQEfcAvHcE3MbGaiEZsxSZVhmVevGXbeu7iPE8KLtotZTiO2YJrq+WFWGX7BG3H3orM3fC+YbcUmsRdWzw8rItgjw+94LuYz58RZ8DfBbAd2Yrze8atIhOkLluzxv4m7htdwQXjPDozDImwUd2hGZT3C9AVL1mGb6NsPibtrq8V8e66YddfrW2OSfkqzU4cf8UzMY2r6c4TpC/4Cmc6QTxkjpLsAAAAASUVORK5C\"></td><td style='text-align:center;vertical-align:middle; margin: 0.5em;border:1px #90999f solid;border-collapse:collapse'><img style='max-width: 100px; max-height:100px;display:inline' src=\"data:image/png;base64,iVBORw0KGgoAAAANSUhEUgAAAHAAAABwCAAAAADji6uXAAAABGdBTUEAALGPC/xhBQAAACBjSFJNAAB6JgAAgIQAAPoAAACA6AAAdTAAAOpgAAA6mAAAF3CculE8AAAAAmJLR0QA/4ePzL8AAANBSURBVGje7drNa1xVGAbw38RJTUzQ1iapNIiordr6gQtdFKwgSkFwo7hx79/j0oXdiBs3FeofIIjgoi6KXwtRSotf0djampomTdIZF8+ZTMGkSVzMXA9z4DJz7z33PPc9D+/Hec5tdQ22jQ0YbwQ4AhwBjgAH0Np3unkL6+iW/53ywF3lTVvl2s1yv4195WiMhfUDbslhB9fxPX7EuHC5Jvy0yjFVBvgDG6XfMUzjchnrIOZx97AsrB9wSw67+Auf4Gw5bwlPHfwtnO7HveKHLfHP17CEb8r5CbyBI6VP/VPaDA7HxG/ukRh5SXha1uehjSvC67r45PPifxexWPpdw9VhWlg/4JYctsS/XhAOvxP+zmIFEzgucXIRF3AYb+MAFrBaBn8Gj5Qxh2Jh/YDb1jQTeFJy2TXJeT/hi3L9Lcl9v0vMHccrZcA14aytnzOHZmH9gNty2JJ4Oif+NonHcF5y20k8JX56XPzxYBMtrB+wvVOHXq0yg1P4XGLnktQ3E3haYmcjLawfcEcOCY+Tkh9fx4c4h6N4QOLoeFMtrB9wVxwSHmclD57HGfG9k1K3HNjl29c/pQMHbO1V817Bp3hH1v/H8KbUM7MSdxtlYf2Au/bDXpvEi+XB9yU/Lpd7pyRv3smK+qe0+RyStf8J4XMan+GDcv4y7tNfDw7dwvoB/xOHPa30OeHrfpzGe1KnviQ8N8LC+gH3zGFPO72JP2UN+Srelbh6SOrVI9tYU/+UNo/Dbjk6ooteFb3mIn4TneZ6efNlfI1f8JD+XsVQLawfcFsOu8LZuvjcFXyLr/CD8LgoexgbUq/22lSTLKwf8F8cdmTfaUF87obsRXwka4nLop+u6u8Nj8n68LCsNW7fLxy6hfUDbnJ4QzS0BfGxc/gSv5Z7G6Jl3xJNZkrqlznZl5jHo5ILp5tkYf2AmxxewseiwVzAzxIne37WLb+HhLMnROueF617TurTGaNvMQbcNjlckvi4qv9dxQweLMeqcPUwnsXjso8/UfruszvNtP4pHZ7WtqAfN9vlTdb0v4NaEf5m9b996ulqrT0A1j+lzdFLb/fJXhzdb2c9tHEW1g+4Z837f2fhCHAE2HzAfwDNR6X4+FfT/gAAAABJRU5ErkJg\"></td><td style='text-align:center;vertical-align:middle; margin: 0.5em;border:1px #90999f solid;border-collapse:collapse'><img style='max-width: 100px; max-height:100px;display:inline' src=\"data:image/png;base64,iVBORw0KGgoAAAANSUhEUgAAAHAAAABwCAAAAADji6uXAAAABGdBTUEAALGPC/xhBQAAACBjSFJNAAB6JgAAgIQAAPoAAACA6AAAdTAAAOpgAAA6mAAAF3CculE8AAAAAmJLR0QA/4ePzL8AAAOESURBVGje7drdblRVHAXw37RjYUrFlFL8jECNItFARAmCAU3Q6I3vwEv4Ij6Cd3rljZoYjdEYJUZTrYqgiBoVDQ0WSlGozowX6zStsZNpvegZd3qSfXHmY6/93yvr/7V3o2tjn6ENxtsE3ATcBNwE3ICnud4/dPFXNbrViv/AQvW+BaPYikV0cAUj2FWHheUD9uSwLdz8Lvz8jF9wvXqfxzAmq1Vfrf6zDXfiEL7EZZzHbpyqw8LyAVfl8E9cwDv4THi8gjnhdb56b+M2jK2YbDvuFg2+hI9Efy/UZWH5gD11OI/TeA3XxCd2xF82RIPDwmlbfGsTe6rvX8GH1edHRZe1WFg+4KocDmMC94gPvCw8XVyxynHcLvFvDj9Vkz2B4xL/TlRzHcZUXRaWD7gqh0PCz9PYIZpcwIuixUk8g2eFy2/xLj7HozgpOc3Nar4daNVlYfmAPX3pKB7HAYlt5/Ed3sYR4emoxLpHqvEmHhLORsXvdkWLtVlYPmBPDhuipVskx2mJ5ojvXBRuWtXvxsT/Toh/bVSjdgvLB+xbHw4LF5OSl0xLXPwGj4nPHZGaYt8gWlg+4Jpq/KX4eARf4w18gRnR3x2ivbVMVv6WDiaHRGt7Jc+5IFy+jO9xEA9K7tlvwvK3dHA5bEj9/jCek7pwBj9KHX8Cz0ststXqsbAWC8sHXFe/tCl56HHJN9/CGeHwN6nnT4omx3pYU/6WDjaHRGN7xbfuFB6npZf6utSEHdHrNv/WY/lbOvgcDkntt9tyPfEAXpVc9YbwuMty361WC8sHXDeHS6sckXpj6ZxiWvzqmer7pyRfbfknj+Vv6f+Dw47kNFcxK7FwVnoBXeF31HJtWauF5QOui8O29Gfmpc6fwQfSL/1UfOhO7Mf9wmXtFpYP2JfDruiuLWeG54S30ziLS5KPtsV3HpA+6rjNXtsGPT05XLrvdgO/4it8LGfC56rPFoS/7dJne1LOng5J32YgLCwfsLHybmJHtNO2HOs+kXzlrPjMWbmPQc7wp+S86bD0T/dILBwYC8sHbLTl/PYabhWu3pf7F3PC2w/iR29KjJuQ2mIfjlVjSu/eTK0Wlg/YvI73pFa/JD7youQui+Irh+VM8KDo7ZjU8HeJ5tbCXW0Wlg/YJDXeFvGlLfGH47hXONxfjfv074cOnIXlAzb63dVvr1jZf+WtVgvLB/wbl5S5lgBM4n8AAAAASUVORK5C\"></td><td style='text-align:center;vertical-align:middle; margin: 0.5em;border:1px #90999f solid;border-collapse:collapse'><img style='max-width: 100px; max-height:100px;display:inline' src=\"data:image/png;base64,iVBORw0KGgoAAAANSUhEUgAAAHAAAABwCAAAAADji6uXAAAABGdBTUEAALGPC/xhBQAAACBjSFJNAAB6JgAAgIQAAPoAAACA6AAAdTAAAOpgAAA6mAAAF3CculE8AAAAAmJLR0QA/4ePzL8AAAOLSURBVGje3dpba1xlGAXgZ5LaZKxaW5u0KKK0onioelFBUSwiiqD1whP+AP+Nv8I7Qa8ERWoFRbC0nmprTZWqxcQatS2JmiZpJhkv1h6MTcakB9ibb0Mgs3fImvdbrPW97/p2q+vqXrP4Cgu4G6MXPR+4ynhrXuUDbrjSf9DFX/gN+/EmxvAsXsMNGK6zwvIBL4vDDn7BTzgm2rsWn+E0bsY2DAnHtVZYPmBrvV66hEXhbw6f4D18j/MYER4H8SAewv24qe4Kywdclw67+Bsn8R2O4mMcr57dg0dwF3aIDrdgUxMqLB+wL4ddzOMc/sA3st+dEL88Vz0fxmbsxa7q93aTKiwfcAWHXVyQvnJCeswj+BKHxTeHxTeHhMfp6vOOJlZYPuAKDjvilxPC20H8gDPCXxs7cYf0LS3R3lxTKywfcAWH03hXfPM4zi57Nojb8DIelX5lYdn9RlZYPuAKDs+KDo9hRnyzIx57I/bgBdFhS3rVFq5paoXlA/6HwyXZ1+7Fz8JfWzx1Gtul92xXfzvk0gfM8pe0Xg5b4o9PC19t0dmI9DMd0ea48LtV9LckOl0Pn+Uvaf0ctiXn3FV9m14e8wV+xaeiv/PCYY+/0epzu3remArLB+yb0/Tuz4iX7pds5oxw1fPUjnA/igekZ71FetXV9sjyl7Q5HPauXkZzQvLQA6LJAf/ui0vYKPnMbuFyj+Q3tVdYPuCaW1gL14m/bsWtkoMelrliVnx1Dl9LHncIkzI/bruoqvKXtHk67F1d0dufmJKs7XT1M4XfZa48Jfp8DK/LvrrcU8tf0ubpsHe1ZJbfjOvFN+8UXmfEa8ck05mXvK61CkD5S9pcDpd/wwHhc0j8dF56m14WoHo+JTzWWmH5gFd0jj+DH2Xe+Eh0uEH2zIdFq7VXWD7gZXO4KHPjAZk7jsoeOYqn8IzkBLVXWD7gJXO4ILnbEXyI9+Usf0F60CfwiuR1G5tQYfmA6+5Lyfwwic9Fe4dklliUuf45vCqzYb8MvPwlbaYOu8LfhJwnviM6nKzub8fjeBH3+f8zjPKXtHk67HnnGD4Q7xyTXnSTZDHPY5/kb4NNq7B8wL46XJT3aE7KWeJB8dBTwusInsRL8g7biLX5q6XC8gH7cjiLb/GG7Hvjwt0W8ct90nvutHrv0pgKywdc9X2acbyFtyV/uSCz3l7cLvzttv6z+1orLB/wH+u60N3ngdV2AAAAAElFTkSuQmCC\"></td><td style='text-align:center;vertical-align:middle; margin: 0.5em;border:1px #90999f solid;border-collapse:collapse'><img style='max-width: 100px; max-height:100px;display:inline' src=\"data:image/png;base64,iVBORw0KGgoAAAANSUhEUgAAAHAAAABwCAAAAADji6uXAAAABGdBTUEAALGPC/xhBQAAACBjSFJNAAB6JgAAgIQAAPoAAACA6AAAdTAAAOpgAAA6mAAAF3CculE8AAAAAmJLR0QA/4ePzL8AAANySURBVGje7drvi1R1FMfx1+zOuLuuP5h2zSKLWrJQCpGwogiLgnoQIvRX9LC/K+iBGT4oi8qiooyQ3DI1zbYftGllaGvOTg8+dxjJnfFHsHP71oUvM/fnuee8Oed7zvneRtfqbmOrLO8/ILD5T26+jCVcwp9Yj19xGsewjG14COOj0rB8gTfEsIuOcOviHD7GcfyMHTiKfTiFh/GSMJ4alYblCxzKsCP2v4Dv8JWwmccPwvA0zmNT9b+FOewWhruqYyPTsHyBAxku4xfhdkK4HcEZYfXbFdeN4QE8JizX4TZsRvtvQso3aT0YdsX/TuJlfIJvsSg+2cE0NsqceE7YPYkt4nfNK8ZINSxf4EA/XMI3+BCfC6tONcZxJx4Rll9X++1q1ErD8gUOZNjzpbbExQl8L2zbeB4vVvvzElOn66hh+QJXZNgQhrPia3dhBm8Ks3vxqPjecnWuI/Ng7TQsX2Bz2Iktwuqi5CdnJC+dEV5jEldn66xh+QIHMmxInrJefLIjrG4RbktS17eqa2urYfkCh9aHE1gjjE4Ix6bU84vV79rq2KR+L6ZWGpYvcCjDcakzGtJn2SZ9mAV8KTnMWomzcxJfr+WX5Zu0Xgzp85jBdvHHY3hDeE5iq9T39wnPqSEPLt+k9WPY2yZxj/Svv8Bn+FF6AUelB7ALO6vrbrVybC3fpKsusHG9a09d6dGcxHvVOCW56gWpMbYLw+fELze4Oq6Wb9L6+mFvTpwTNveLPy5Ijb8PH4g/zlTn17naF8s3aX0Z9t5uWvLVjcJzUZi+pt87PVs9uDHgGau6lS/wptaAm5KP9talFvRz2E0yF24eoE35Jv13MLwk3A7jXRzS74VvEB9tDbi3fJPWm2FvTeo4Xpf64oisM85KPrMHzw7RpHyT1pNh7xuMs/gUr+Kg5KUdiZtPCL/duL1OGpYv8Jq1RRd/yNr9IfG9j6Q2HJP6fg/2So0/5f8+zSpvAxl2pad9Xvpq+/G2xNGL0vt+UOLm05KjTtRRw/IFrhhLL8s3UPPC7zDeku+gxqUP85Tw2ym56Jq6ali+wBUZ/o4DeEVi6E/VsZbU7i9U4w6pMW7krcs36ehiaVfqhYMy571f7bek79KW2PkMHhdfvJm3Ld+ko/PDhvSu9+MdqRfI9xZ7cbfEzR2uP27WQsPyBf4Fhj24p26HqFsAAAAASUVORK5C\"></td></tr><tr><td style='text-align:center;vertical-align:middle; margin: 0.5em;border:1px #90999f solid;border-collapse:collapse'><img style='max-width: 100px; max-height:100px;display:inline' src=\"data:image/png;base64,iVBORw0KGgoAAAANSUhEUgAAAHAAAABwCAAAAADji6uXAAAABGdBTUEAALGPC/xhBQAAACBjSFJNAAB6JgAAgIQAAPoAAACA6AAAdTAAAOpgAAA6mAAAF3CculE8AAAAAmJLR0QA/4ePzL8AAANxSURBVGje7drbb1RVFMfxT4e2KK2tWhsqVq0BTTRo0QcVNF6i0URD9M1/xH+DR/8LQ0x8MmgiEqoG8H6Lt2BRRITaDIgF6QwPvzMxtZdMeegct5xkck5y5px1fvubtfZaa+++to09Ghts739gsP9qH7yEZvWbw534GO/ge9yA5/AShnqpsHyDXTNs4zIWq/On2I8T+B078ZlwvA2PYFv1XE8Vlm+wr5tY2sZZHMVhfIQvcBKb8QKeEX/bgincgnFch75eKizf4Kp+2JJ4+YfExg/wuvCDQWwSRvfixeplA8Kxc7/nCss3uCLDy/hT4uQRHMQn+La6vxV3VNcDuAmTdVVYvsEVGZ4XZm/jfWE3h4sSL5/HE+Jv5zBRZ4XlG1zGsIkD2Cf5SeerLonP7cSruBsXhOF6ktvyh7T3DBsYxTBGJDdp4CeZ4/ZI3dBf3R+pu8LyDS5jeD3uk7ruHtyFM3gLvwrHeakbruZryx/S3jPcJPXdXuzGGI7jO2E3W11PCu+Wf/LRWios3+CKU1mf1HiTwqgp/vizMDxW/W8QN2N7dW50oaD8Ia1njd/EDN6Q+nAIt4rPTmAaD+J28c1+S+v6nios32BXKeUwdmEBp/G1zI0t3Fhd/4aHJF8dE5a1UFi+wa4YNiQ/fVg47scvOCVM56V+PFP9dmGHlX2x/CGtJ8POHyfwpMyTR6R/elLi63nhOSf9t61Sg/ybY/lDWl+Gna/rsJkSnkclz5kVjgO4X+bQIct7puUPab0Zdr6w09MexV9Si8xKn3VB5sORVdSUP6T1Z9iWvukp/IBDsn7YeVm/MG67Nh9u0LFuhn9LnXgYH8q672nhtVnW80fXUFL+kNaXYUv625/LfosZ/Cg5zKKw24NXZD4cWuU95Q9pPWv8RVnHPyZ900MSRy9K7Tgl/PbKHoxh12r8DTzW9MO28LuAL/Em3pNYuiBrv9N4Go/Lev4Wq/PricLyDa7qhy1Zy5+T+Pma7IM6J/XDNjwg+2iekj7bYB0Vlm9wRT9sCbuvhNuMrAeflbxlu/jes9JfG7O27/VUYfkGlzBsS97ZxDfSUzsg+2oWhNM4HsXLsr44WneF5RtcxnBecpeD4n/HxS/HJV7ulr2/O6zP/3qmsHyDSxg2pF5/V/KXE5J7TkpfbVr62Y9JTP1PKCzf4BVawLR6zQ0lXQAAAABJRU5ErkJg\"></td><td style='text-align:center;vertical-align:middle; margin: 0.5em;border:1px #90999f solid;border-collapse:collapse'><img style='max-width: 100px; max-height:100px;display:inline' src=\"data:image/png;base64,iVBORw0KGgoAAAANSUhEUgAAAHAAAABwCAAAAADji6uXAAAABGdBTUEAALGPC/xhBQAAACBjSFJNAAB6JgAAgIQAAPoAAACA6AAAdTAAAOpgAAA6mAAAF3CculE8AAAAAmJLR0QA/4ePzL8AAAKqSURBVGje7drLi81hGAfwzzEORpJbTMott40auSxQIuOSFFnIQoiN/0JZ2Cg7G0oWpEgs2CAhEpKNXCMRIco1tzlzLJ7fpDQz56Bm3nk7b72bc87v932/z7fnfW6nVNW7a0Av4zUAG4ANwAZgL6yB//NwFRV0FPsujuM21mMThvY1w/wB/0nDCr7iJS7hJmbjMq5jEmZiUAoM8wesW8MqfuI9ngrdrhT7W3HyaViN+ZjezcvzN2mvA5Zq5aUd+IJHuIrzxW5HU/H9HOzHKIzEEJRSYZg/YI9+WMFDcV+eww28QRlTMUboOxezUmWYP2CPGj7HblzEO/woTjgL27FY3K3tKTPMH7BHDctCnxaRs9zDZyxBG6b0B4b5A3arYRUjsBafhO8dEHln2e+cszOeltS38jdpOhqWRG7SJvLRUZiBayIuris+L2NccfKS2lrmb9L08lLC177jFo7iDOYJ7VqwXNQSw3RdE/Ypw/wB69KQ0PGDqC+O4I6IlYPRihVYoHaMzN+k6dylf64Shov6vSru1Me4L2qPz0LP0cXvkmGYP+Bf9doGYCyWCn97jl14gFdCu+bUGOYP+E/90mYRC9+LurEi/HRCHS/M36Tpa9iB17iAY8L/xmMZJmvkpalrWBW9thOiVrwnZhQbsFnUIskxzB/wr+YWn3AS+/BE+N9GbBE+mCTD/AHr0rCKjziMvXgm+t07sFXUiMkyzB+wpoYdeItDwv9eiHp+D1aKPk3SDPMH7FHDdtGbOYjTIhZOw06sqvVwKgzzB+xWhh+ifj+CU6LX1optIgdt6i8M8wfsUsN28f+mvWL2W8EaMcNYKHox9c4p+pxh/oBd9kt/il7aWUzEItGXKQv/+59T5m/SNDQkcplKcaLOuVK/ZJg/YN1zi37LMH/AX56Dg71In84sAAAAAElFTkSuQmCC\"></td><td style='text-align:center;vertical-align:middle; margin: 0.5em;border:1px #90999f solid;border-collapse:collapse'><img style='max-width: 100px; max-height:100px;display:inline' src=\"data:image/png;base64,iVBORw0KGgoAAAANSUhEUgAAAHAAAABwCAAAAADji6uXAAAABGdBTUEAALGPC/xhBQAAACBjSFJNAAB6JgAAgIQAAPoAAACA6AAAdTAAAOpgAAA6mAAAF3CculE8AAAAAmJLR0QA/4ePzL8AAAKfSURBVGje7dlJaxRRFAXgrzOLI1FB44AkjpDoQlTUlQtBCIJrVy5c+Uv8Fe6DKxHcKM4LF4YoigpOSBTnRI1DO6Vd3AoBCakWIVU+q+BBd1dXnXff4dx3z321hrm9WuYYrwKsACvACrACrAArwP8CsC3vDw38xGQ2WrIxmd2rYxw/0IVFaEcNHTNElP6SlovDn3iTjTo+4TveZaOGL3glOFyFtXiPJ2jFevRjU1ERpg84K4d1XMFlobVxwd0LfBS6axP8LRM83cZj3MNCDAoOC4swfcBcHd7AKaGtz9lvRM5swVt8wzYMCG0uFLytxHahz8IiTB9wVg7bsU7w8AXDQodLcUBwcx8PsQ8HRf6cerYL89FZZITpA7bl3dyPzXgp9sNnIj8exQqx793FFvSVMcL0AXN1uAarMYIeTKAXy7OxBBtN6690EaYPmOstpma0ChtwE6N4LXJqRzZKG2H6gLVme94NPMAxPMcu7MVu4R/ayxph+oBNcwhfcR7HcUfUn4dwRPiKzibekf6SlptDwjOOYAhnhecfxGHhL/LyavpLWr798PerU3iN5cL/DeFM9qIFoj4tVYTpAzbFYUPo7avw9KMYE37jc/b9ktgj+8yuxfSXtFwcTgovMSo84AXRe6tnM50Qnr8di9Ftuo9TmgjTB5yRw++iN3pX1DAXcQsfhA+cFLytwA7hG3eLOjWvrkl/SYvjcOp86Tquit71CB5l97uFl+8V/bf+7PNUT61bVZcWBFhriJ71ME7jnOh/1gUnPdiJPdgqvOA8QX6r6bPEZmee/pIWo8MxnMBJUaP0iby4WNQpA0J7XeJc4m9mnf6SFqPDp7gmemnzxXlgh8iTPZrvhZYywvQB/9jj/3MRVoAVYAVYAVaAFWD+9Qt2OYIWOcLI2wAAAABJRU5ErkJg\"></td><td style='text-align:center;vertical-align:middle; margin: 0.5em;border:1px #90999f solid;border-collapse:collapse'><img style='max-width: 100px; max-height:100px;display:inline' src=\"data:image/png;base64,iVBORw0KGgoAAAANSUhEUgAAAHAAAABwCAAAAADji6uXAAAABGdBTUEAALGPC/xhBQAAACBjSFJNAAB6JgAAgIQAAPoAAACA6AAAdTAAAOpgAAA6mAAAF3CculE8AAAAAmJLR0QA/4ePzL8AAAKeSURBVGje7dnLi41hHAfwz5mLcRu3MWNEaBK5bBRWkqIUIYWFhVj7C6ytrP0FykbJxsatweR+nwULyp0oicEME3Msfu/kkmbOHDXnnaf3qdN5z6n3+T7f37ff9SmVje6qG2W8ArAALAALwAKwAKxgNfzvBmUM/Pb9FX0oYRIm/MUqfZOOLQ1/4B1eZM996MQ9LMQOrBA61oxh+oAj1rAsfK0fb3AM3Zid/X8123QlWtFYa4bpA5aG6y0G/esjngifO4+beIn3mIENaMdkLBYaLsD4WjNMH3BIPyzjNU7gEZ5lv58KTQdP3I5dWISpaBa58F+bp2/SfGlYQhPO4BK+Cb8sYxY6hJ6tWI05eWSYPuCw+XA6tomac5yIo3XYi/34jtPC/3LJMH3AYfMhfBBxdCIO4CEOiRzYWMH7NWWYPmBFdek0TBGxdRku4izWZBuU8swwfcCK/PD31YN9uI+DWIK5IpZWomX6Js2/hvAcu0V/2IEt2Cq0rM8bw/QBq9KwjFs4LOYyTdiJPcIvh/LH9E06NjQk6tRXOIUjeIxNotZpyRPD9AGrnpfWiX5wu9DvOs7hjqhXS0O8N6orfcCqNCyL+dslnERXdvIWMXfLFcP0ASvWcHDW/RaXcRTX8Ck79TQxJ52pyIejvCqaefeKWrRT9IVXRN8/QczZlop7ps3CD4eqTdM3aT40LIvZ6AvcwAPczZ57/LqbWIW12actrwzTB/xDwwF8Fj7XLfJcl4ifX0TgXSjqz41YLvxuJKdO36S1zYe9uI3juCB6+HrRx88Xmq0TPWBbladN36S11fCruBdsxnrhY/OEhq3ivmm64WcxuWKYPuAfsbRfxMz+7CQN4r6pUehWZ2Tz7VwwTB+w6jnNmGFYABaA+Qf8CZg8gjmZN2sFAAAAAElFTkSuQmCC\"></td><td style='text-align:center;vertical-align:middle; margin: 0.5em;border:1px #90999f solid;border-collapse:collapse'><img style='max-width: 100px; max-height:100px;display:inline' src=\"data:image/png;base64,iVBORw0KGgoAAAANSUhEUgAAAHAAAABwCAAAAADji6uXAAAABGdBTUEAALGPC/xhBQAAACBjSFJNAAB6JgAAgIQAAPoAAACA6AAAdTAAAOpgAAA6mAAAF3CculE8AAAAAmJLR0QA/4ePzL8AAANtSURBVGje7drLa11VFMfxz73JNU1StU1To7VtUCtqUfGBz4Ki6EBw0IngxD9OnOhIBQeCIILiwIoIgq/6NvXVVHzExCRNroPfPt5UYh4iuTebbAjnZJ/H76z9Za2911631bWzrb3DenuCe4K7QHB4KzctYwVdtNApX9rFaulrbdGC+od0sBgu4zw+wjlMlC9cxGXl4SFM4gC+x5+l/xgOl/ORflpYv+CGDLuYxSt4QbhNYky4XMQc9guvFWE6gkdwBJ/jWtyJ6X5YWL/g8GYXx4VZC9+KPzb+t4olYd0RxuO4WviuCMMu7sAz/bCwfsENGbYxhceEx6eYwXsSZzvif/vxO34R33uoHGfKfefwMd7uh4X1C266phmTODghfviasFzETXgcB/EhzuAWPCHxcxa/CsNV3NcPC+sX3JRhG1fgpHD5BifwB06Xvwl8jRslnt5e+qbFf5f04mz9Qzp4DJuvapebF2R+G8dR3Ky31pnCvMTXDvateUeTl9Q/pIPJsGmjuB+v4keZ/xouo7hO/K6zzrNbzR//91a/4LYYDkk8vQsvST74k+SCTe7f2eQd9Q/p4DM8iHvwMt6V3PFBYTs5iBbWL7gthi2JmSdkrfoGXsR3ktOfcumezEBYWL/gthiSWHkUT0qOcVb24zq4vlzb6KX1D+ngM2zJ3ui9eArP4xO8jhtkP+AqvTVM3y2sX3DbDMm8eAQPS94/i3dwXPbZHpC9gYGwsH7B/8SwJYxO4mnZg3kW70uef7wcB8LC+gW3zLAruV+rnC/JHHirMBuSPZw3Zb90j+GOtXUZdtccl6QmuCx7MHPl/3n8Vr74bLm+iM9K/4KsYftuYf2CfzPsCoeLejWlnyWH/6GcXxBfu7DmmRV8UJ4bwzUyJ+6taXasDdPzsS+F2YIw+0rqf+f1WC6Xr2zqvW2pOw3JPumjEl//LU+sf0h3nuEZYbeAt6TONyesmprggkvnwo5enGxLLjEi9YpT1o+hfbOwfsHh56Q2OyPM/lmjXy19+yRONrxGpfZ7pfjf3ZIfHhs0C+sXHJ6VNUhH5rHLcUh8bl7WKYdxm9QDDwi7pt40Xc47pX/gLKxfsNWV+sMX4otzsjZZlDrulLA5VI5NHXFtfaK1DcH6h7Q/DNdrTa23+Q3irrWwfsHW3m/1d73gXyvfr6JnWUseAAAAAElFTkSuQmCC\"></td><td style='text-align:center;vertical-align:middle; margin: 0.5em;border:1px #90999f solid;border-collapse:collapse'><img style='max-width: 100px; max-height:100px;display:inline' src=\"data:image/png;base64,iVBORw0KGgoAAAANSUhEUgAAAHAAAABwCAAAAADji6uXAAAABGdBTUEAALGPC/xhBQAAACBjSFJNAAB6JgAAgIQAAPoAAACA6AAAdTAAAOpgAAA6mAAAF3CculE8AAAAAmJLR0QA/4ePzL8AAANzSURBVGje7drdi1VVGAbw35k5NqNTOmaS2pSlWYZFGVZEFBRFUVCUdFv/Rn9KN0EXXXRrRRSBepF90edYmU2fWmQFpZOpOZ45XTxrMNQzHQtmHxezYbNmb87ez3rWM+9a7/us3epa2GNogfEWARcBLwDA9vk+0CnnLP7CFH7Eb1iJKzGNr8vv1uBGTGCkCYb1A/at4WEcwiS+wq/4CftFy0uwGSvwOb7AMdyGJ3AfNjXBsH7Anhp2cBxHsA/v4wDeLu3h0ttZDGM7rirX12B5ec/1Ep+NMawf8JwansI3eAd7y/mt6Pl7eWhl6e00xvG46DWLLlqlbUuMrmqKYf2AZ2nYxVG8gefwabnfKe0ymTOvE52+w8XYJvE3946u/C90sURitRGG9QOeMw5bouMM1mKp5C7D2IJncLvE5Wcyt46X5/yjHTrjuhGG9QOepWELY7irXC+Rte8FmTcfxlbJN1fhMvzp9Pp35rsaZ1g/YLvXza3YKLH3Ad7FJzI/DpeejmB1OQeWYf2APfPSMZlDyXy6WWqGt/CIxN/ohcCwfsB568O53qyX+u5LfIQ3y4PrZA4dG2SG9QP2VeOP4w5ZFyfxPD7GTbhH8pt+e17/kC44YKtfz/sUvseLeBYnpaZ4AE+JnmN9MKh/SAdXQ+LbHMDr2CG1/wo8KDX+Nqnn52NR/5AO5lw6d4ziajwmPs1u8XJ2Sx3Rxq0Sn60e76h/SAdbwxYuwhV4SHyZWbxWzhnJcbaU3w0Ew/oBz3vvifhuQ5KXrhcf4CB24c5yb7wHm/qHdHA17Ip2x2TPaa/4bB/ihMTorHg2x/VeF+sf0sHVsCP7h+9hj2h3UPy3aVkrJ8QLXzsPk/qHdDA17Mhe/S68Ip7bIdn7HcUG3IBbcLnFvHSBj3k17Eod+ANewsvit/0hOctG0e5m8Vc3yBo5UAzrB+xZH87IHLkfr8p+4pTU+peKf3q3+DfXlnvL/Htg1z+kzcdhV+LsZ9Fsj2g4JTG5SXLPe8VjW6M/f6YxhvUDtkke2ZW17Sh2Ss65r7RTEpcTuB+Pyto39z3GQDOsH7BN/LNJ/CJ67Sx/z2k7Iv7Mk3havj8cPn+sZhjWD9gm3xrukHnziNR7q8U3Wyd+zHbRbun/7GX9Q9pMTnNSavMTkrN0nPbVhkq73H+PvUYZ1g/4N+d7svGddHOBAAAAAElFTkSuQmCC\"></td><td style='text-align:center;vertical-align:middle; margin: 0.5em;border:1px #90999f solid;border-collapse:collapse'><img style='max-width: 100px; max-height:100px;display:inline' src=\"data:image/png;base64,iVBORw0KGgoAAAANSUhEUgAAAHAAAABwCAAAAADji6uXAAAABGdBTUEAALGPC/xhBQAAACBjSFJNAAB6JgAAgIQAAPoAAACA6AAAdTAAAOpgAAA6mAAAF3CculE8AAAAAmJLR0QA/4ePzL8AAAM7SURBVGje7drra1xVFAXw38TER9VYTVNfsQUj1dYH1kepIiiKiPpBUPCTH8Q/TL+q4ANFEN+0oOCjaK01PtCqobSlWm1tbYyZ64d1QqjOtJMimevRC4dhLjN3zdqLvc7eZ0+nsbLXyArj/QcAR/+JhzQ4hh/wDfZhc1lDZ1g/4Glr+AeOYi/mRLun8Amuw7Xo9mBUf0hXHLBzOl7axbfYjm34FcdxBHfhXtyKsTYwrB9w4DxsMF/Wj3gGL+Mgbsf9mC7ropM8uP6QtlPDBvvxHt7C25KHc5iU3HsY4+i0jWH9gD017GJB9rsDote7eAWfiabn4jycg9Xl9VT6DYVh/YB/07DBT1Kr7MIH2IGZcv9MbMQWrCufnzKYfkNhWD/gCRp2cQhP40Psxix+Ft/sYC0exUNYI/Xpar3rl1YwrB/wBA3n8DWeFc8cFY+cFC3HcBVuwhUG98+hMqwfcPSvb9bgQdHofFwqfcM7kpfj0sMfxGWW32DWH9Lha3iJ1Jj3SN0yie/EZ+fxFV4tv3S6fOfK8tnRARjUH9Lh9/iN1KRN+TVnSN7txsfYWdZaydGzcLP465T0hifbG+sP6fA17HV15Tx0H/ZIzbMDv5e1XurUrbhRfLg1DOsHHGg7GxGvXI+LpZaZltycEa+dFY3nMaF/vVN/SNupIdFjrHxhs2g4Iz3IR3hBNByRXFzX5+H1h7S9Gi5eHaySfXDCUj3zHH7DL+W1X89Rf0jbr+Hi1ZF9ssFhnF3uT0hP0o9J/SFtv4ZdqWOO4AvpG7eV+6twIS7wfx6u4LVsDY9ZOgPfLjPfA+KtG7BJzgFaw7B+wIE1XOwvvpTZ0+tSl+4X77weT+CxtjGsH3AgDRdkZvEpnpf82yuajkt//4jM71vHsH7AU2q4IHOLnXgRr1nqIaZwCx7HHeKnrWNYP2BfDRvpEfZI/r0v9cus+OpG3C35t8Xgplx/SNujYRffy+z+JcnDo9Lnb8AD8h+aG+RMtbUM6wfsqeFx+a/hm2V9LppOSP7dV9Ym8c/lzBDrD2k7NDyEN/Ck1C5wtXjnNbgTl1vq61vNsH7AnhoelrPQXTJX2irzxNtknvivYlg/4J8F9a0IOnpQ0wAAAABJRU5ErkJg\"></td><td style='text-align:center;vertical-align:middle; margin: 0.5em;border:1px #90999f solid;border-collapse:collapse'><img style='max-width: 100px; max-height:100px;display:inline' src=\"data:image/png;base64,iVBORw0KGgoAAAANSUhEUgAAAHAAAABwCAAAAADji6uXAAAABGdBTUEAALGPC/xhBQAAACBjSFJNAAB6JgAAgIQAAPoAAACA6AAAdTAAAOpgAAA6mAAAF3CculE8AAAAAmJLR0QA/4ePzL8AAAKGSURBVGje7dnNi01hHAfwzzVjZjB5fy1GU6PJgqQYSWmmlLAiJURZ8k/I1lrZWSkhZaFQSrKVWMiEZoRB453Mxbhj8TsTC9e9s5l75nFOPT3n3vN0vuf7fPu9PqUxk3tNm2S8ArAALAALwAKwACwA/wvA5noXjqGSjeZs/o5ydt+S/X6BD5iBDXlgmD5gVQ1/4LPQYxA/hU5t2fiGN3ierV+Ej7iM9ziI9WhqNMP0Af+qYQX9OI1XGMYo3mEII+hAq9C6A93CVlvRi61V2KS/pfnQsJTN14VmJeEzx9COBcJvDgk724dt2bPZmI85f7ynoQzTB6yq4TL04RGW4ia+okfY2Eo8xh0cFrbYVAeD9Lc0HxoStnYMD7FcxLp+kafsRpfwqeVsbakWUqMYpg/4z7x0jYhz00WMGxB5Zzl73p6NXDNMH7BmbdGSzdtxH7eFtqNYgrmijmiq9aJGMUwfsFRvz7si4t8J3BXadYpcZiNWYJbaPjX9Lc2vhkReOogruIUn2X892IEtmJc3hukDTkhDQrMRUVcMYE/21ZtxHOv89r+5YJg+YN29tvGrlI0vwg7niD7AW1Hf14qL6W9pvjWs4DWu4Tzu4ZPIbVYJ+ys0zK8vreAZzuACnmIhNol6sU/0Z4oaP592WMFLXMRZEQs7RY9tJ1aLPnguGaYPWFPDiqjrb+CcyEu7cVTY3+IJfnX6W5o/DYdxSdjgA3HGdAQHRD6Te4bpA1aNh+P5y1WcEr60C/txSPRmpgTD9AGr2uGI0O+kOAvuxS5xZlFv7MsFw/QBq2pYEra2V8S/teJ8qV39ZxS5YJg+YFVfWhbnhW2YOZUZpg844V7blGNYABaA+Qf8BVFieKr2noTNAAAAAElFTkSuQmCC\"></td></tr></tbody></table>"
      ],
      "text/plain": [
       "2×8 Array{Base.ReinterpretArray{Gray{Float32},2,Float32,Array{Float32,2}},2}:\n",
       " [Gray{Float32}(1.0) Gray{Float32}(1.0) … Gray{Float32}(1.0) Gray{Float32}(1.0); Gray{Float32}(1.0) Gray{Float32}(1.0) … Gray{Float32}(1.0) Gray{Float32}(1.0); … ; Gray{Float32}(1.0) Gray{Float32}(1.0) … Gray{Float32}(1.0) Gray{Float32}(1.0); Gray{Float32}(1.0) Gray{Float32}(1.0) … Gray{Float32}(1.0) Gray{Float32}(1.0)]  …  [Gray{Float32}(1.0) Gray{Float32}(1.0) … Gray{Float32}(1.0) Gray{Float32}(1.0); Gray{Float32}(1.0) Gray{Float32}(1.0) … Gray{Float32}(1.0) Gray{Float32}(1.0); … ; Gray{Float32}(1.0) Gray{Float32}(1.0) … Gray{Float32}(1.0) Gray{Float32}(1.0); Gray{Float32}(1.0) Gray{Float32}(1.0) … Gray{Float32}(1.0) Gray{Float32}(1.0)]\n",
       " [Gray{Float32}(1.0) Gray{Float32}(1.0) … Gray{Float32}(1.0) Gray{Float32}(1.0); Gray{Float32}(1.0) Gray{Float32}(1.0) … Gray{Float32}(1.0) Gray{Float32}(1.0); … ; Gray{Float32}(1.0) Gray{Float32}(1.0) … Gray{Float32}(1.0) Gray{Float32}(1.0); Gray{Float32}(1.0) Gray{Float32}(1.0) … Gray{Float32}(1.0) Gray{Float32}(1.0)]     [Gray{Float32}(1.0) Gray{Float32}(1.0) … Gray{Float32}(1.0) Gray{Float32}(1.0); Gray{Float32}(1.0) Gray{Float32}(1.0) … Gray{Float32}(1.0) Gray{Float32}(1.0); … ; Gray{Float32}(1.0) Gray{Float32}(1.0) … Gray{Float32}(1.0) Gray{Float32}(1.0); Gray{Float32}(1.0) Gray{Float32}(1.0) … Gray{Float32}(1.0) Gray{Float32}(1.0)]"
      ]
     },
     "execution_count": 17,
     "metadata": {},
     "output_type": "execute_result"
    }
   ],
   "source": [
    "[MNIST.convert2image(reshape(augment(train_x[:,:,:,1], pl), (28, 28))) for i in 1:2, j in 1:8]"
   ]
  },
  {
   "cell_type": "markdown",
   "metadata": {},
   "source": [
    "As we can see, we can achieve a wide range of effects, from\n",
    "more subtle to more pronounced. The important part is that all\n",
    "examples are still clearly representative of the true label."
   ]
  },
  {
   "cell_type": "markdown",
   "metadata": {},
   "source": [
    "Next, we have to adapt the function `train_baseline` to make\n",
    "use of our augmentation pipeline. To integrate Augmentor\n",
    "efficiently, there are three necessary changes we have to\n",
    "make."
   ]
  },
  {
   "cell_type": "markdown",
   "metadata": {},
   "source": [
    "1. Preallocate a buffer with the same size and element type\n",
    "   that each batch has.\n",
    "\n",
    "   ```\n",
    "   batch_x_aug = zeros(Float32, 28, 28, 1, batchsize)\n",
    "   ```"
   ]
  },
  {
   "cell_type": "markdown",
   "metadata": {},
   "source": [
    "2. Add a call to [`augmentbatch!`](@ref) in the inner loop of\n",
    "   the batch iterator using our pipeline and buffer.\n",
    "\n",
    "   ```\n",
    "   augmentbatch!(batch_x_aug, batch_x_org, pl)\n",
    "   ```"
   ]
  },
  {
   "cell_type": "markdown",
   "metadata": {},
   "source": [
    "3. Replace `batch_x_org` with `batch_x_aug` in the constructor\n",
    "   of `KnetArray`.\n",
    "\n",
    "   ```\n",
    "   batch_x = KnetArray{Float32}(batch_x_aug)\n",
    "   ```"
   ]
  },
  {
   "cell_type": "markdown",
   "metadata": {},
   "source": [
    "Applying these changes to our `train_baseline` function\n",
    "will give us something similar to the following function.\n",
    "Note how all the other parts of the function remain exactly\n",
    "the same as before."
   ]
  },
  {
   "cell_type": "code",
   "execution_count": 18,
   "metadata": {},
   "outputs": [
    {
     "data": {
      "text/plain": [
       "train_augmented (generic function with 1 method)"
      ]
     },
     "execution_count": 18,
     "metadata": {},
     "output_type": "execute_result"
    }
   ],
   "source": [
    "function train_augmented(; epochs = 500, batchsize = 100, lr = .03)\n",
    "    w = weights()\n",
    "    log = MVHistory()\n",
    "    batch_x_aug = zeros(Float32, size(train_x,1), size(train_x,2), 1, batchsize)\n",
    "    for epoch in 1:epochs\n",
    "        for (batch_x_cpu, batch_y) in eachbatch((train_x ,train_y), batchsize)\n",
    "            augmentbatch!(CPUThreads(), batch_x_aug, batch_x_cpu, pl)\n",
    "            batch_x = KnetArray{Float32}(batch_x_aug)\n",
    "            g = costgrad(w, batch_x, batch_y)\n",
    "            Knet.update!(w, g, lr = lr)\n",
    "        end\n",
    "\n",
    "        if (epoch % 5) == 0\n",
    "            train = acc(w, train_x, train_y)\n",
    "            test  = acc(w, test_x,  test_y)\n",
    "            @trace log epoch train test\n",
    "            msg = \"epoch \" * lpad(epoch,4) * \": train accuracy \" * rpad(round(train, digits=3),5,\"0\") * \", test accuracy \" * rpad(round(test,digits=3),5,\"0\")\n",
    "            println(msg)\n",
    "        end\n",
    "    end\n",
    "    log\n",
    "end"
   ]
  },
  {
   "cell_type": "markdown",
   "metadata": {},
   "source": [
    "You may have noticed in the code above that we also pass a\n",
    "`CPUThreads()` as the first argument to [`augmentbatch!`](@ref).\n",
    "This instructs Augmentor to process the images of the batch in\n",
    "parallel using multi-threading. For this to work properly you\n",
    "will need to set the environment variable `JULIA_NUM_THREADS`\n",
    "to the number of threads you wish to use. You can check how\n",
    "many threads are used with the function `Threads.nthreads()`"
   ]
  },
  {
   "cell_type": "code",
   "execution_count": 19,
   "metadata": {},
   "outputs": [
    {
     "name": "stdout",
     "output_type": "stream",
     "text": [
      "Threads.nthreads() = 1\n"
     ]
    }
   ],
   "source": [
    "@show Threads.nthreads();"
   ]
  },
  {
   "cell_type": "markdown",
   "metadata": {},
   "source": [
    "Now that all pieces are in place, let us train our network\n",
    "once more. We will use the same parameters except that now\n",
    "instead of the original training images we will be using\n",
    "randomly augmented images. This will cause every epoch to be\n",
    "different."
   ]
  },
  {
   "cell_type": "code",
   "execution_count": 20,
   "metadata": {},
   "outputs": [
    {
     "name": "stdout",
     "output_type": "stream",
     "text": [
      "epoch    5: train accuracy 0.408, test accuracy 0.362\n",
      "epoch   10: train accuracy 0.560, test accuracy 0.493\n",
      "epoch   15: train accuracy 0.696, test accuracy 0.629\n",
      "epoch   20: train accuracy 0.762, test accuracy 0.714\n",
      "epoch   25: train accuracy 0.824, test accuracy 0.779\n",
      "epoch   30: train accuracy 0.862, test accuracy 0.830\n",
      "epoch   35: train accuracy 0.870, test accuracy 0.819\n",
      "epoch   40: train accuracy 0.900, test accuracy 0.855\n",
      "epoch   45: train accuracy 0.916, test accuracy 0.877\n",
      "epoch   50: train accuracy 0.908, test accuracy 0.864\n",
      "epoch   55: train accuracy 0.916, test accuracy 0.881\n",
      "epoch   60: train accuracy 0.932, test accuracy 0.899\n",
      "epoch   65: train accuracy 0.936, test accuracy 0.898\n",
      "epoch   70: train accuracy 0.926, test accuracy 0.886\n",
      "epoch   75: train accuracy 0.954, test accuracy 0.911\n",
      "epoch   80: train accuracy 0.936, test accuracy 0.889\n",
      "epoch   85: train accuracy 0.958, test accuracy 0.917\n",
      "epoch   90: train accuracy 0.968, test accuracy 0.927\n",
      "epoch   95: train accuracy 0.952, test accuracy 0.910\n",
      "epoch  100: train accuracy 0.964, test accuracy 0.924\n",
      "epoch  105: train accuracy 0.968, test accuracy 0.916\n",
      "epoch  110: train accuracy 0.978, test accuracy 0.935\n",
      "epoch  115: train accuracy 0.974, test accuracy 0.938\n",
      "epoch  120: train accuracy 0.986, test accuracy 0.944\n",
      "epoch  125: train accuracy 0.990, test accuracy 0.945\n",
      "epoch  130: train accuracy 0.990, test accuracy 0.943\n",
      "epoch  135: train accuracy 0.986, test accuracy 0.938\n",
      "epoch  140: train accuracy 0.992, test accuracy 0.944\n",
      "epoch  145: train accuracy 0.990, test accuracy 0.943\n",
      "epoch  150: train accuracy 0.996, test accuracy 0.948\n",
      "epoch  155: train accuracy 0.996, test accuracy 0.949\n",
      "epoch  160: train accuracy 0.992, test accuracy 0.946\n",
      "epoch  165: train accuracy 0.998, test accuracy 0.950\n",
      "epoch  170: train accuracy 0.994, test accuracy 0.943\n",
      "epoch  175: train accuracy 0.996, test accuracy 0.946\n",
      "epoch  180: train accuracy 0.994, test accuracy 0.951\n",
      "epoch  185: train accuracy 0.994, test accuracy 0.945\n",
      "epoch  190: train accuracy 0.998, test accuracy 0.953\n",
      "epoch  195: train accuracy 0.996, test accuracy 0.950\n",
      "epoch  200: train accuracy 0.998, test accuracy 0.952\n",
      " 39.148366 seconds (175.06 M allocations: 7.607 GiB, 6.34% gc time)\n"
     ]
    }
   ],
   "source": [
    "train_augmented(epochs=1) # warm-up\n",
    "augmented_log = @time train_augmented(epochs=200);"
   ]
  },
  {
   "cell_type": "markdown",
   "metadata": {},
   "source": [
    "As we can see, our network reaches far better results on our\n",
    "testset than our baseline network did. However, we can also\n",
    "see that the training took quite a bit longer than before.\n",
    "This difference generally decreases as the complexity of the\n",
    "utilized neural network increases. Yet another way to improve\n",
    "performance (aside from simplifying the augmentation pipeline)\n",
    "would be to increase the number of available threads."
   ]
  },
  {
   "cell_type": "markdown",
   "metadata": {},
   "source": [
    "## Improving Performance"
   ]
  },
  {
   "cell_type": "markdown",
   "metadata": {},
   "source": [
    "One of the most effective ways to make the most out of the\n",
    "available resources is to augment the next (couple) mini-batch\n",
    "while the current minibatch is being processed on the GPU.\n",
    "We can do this via julia's build in parallel computing\n",
    "capabilities"
   ]
  },
  {
   "cell_type": "markdown",
   "metadata": {},
   "source": [
    "First we need a worker process that will be responsible for\n",
    "augmenting our dataset each epoch. This worker also needs\n",
    "access to a couple of our packages"
   ]
  },
  {
   "cell_type": "code",
   "execution_count": 21,
   "metadata": {},
   "outputs": [],
   "source": [
    "using Distributed\n",
    "addprocs(1)\n",
    "@everywhere using Augmentor, MLDataUtils"
   ]
  },
  {
   "cell_type": "markdown",
   "metadata": {},
   "source": [
    "Next, we replace the inner `eachbatch` loop with a more\n",
    "complicated version using a `RemoteChannel` to exchange and\n",
    "queue the augmented data."
   ]
  },
  {
   "cell_type": "code",
   "execution_count": 22,
   "metadata": {},
   "outputs": [
    {
     "data": {
      "text/plain": [
       "async_train_augmented (generic function with 1 method)"
      ]
     },
     "execution_count": 22,
     "metadata": {},
     "output_type": "execute_result"
    }
   ],
   "source": [
    "function async_train_augmented(; epochs = 500, batchsize = 100, lr = .03)\n",
    "    w = weights()\n",
    "    log = MVHistory()\n",
    "    for epoch in 1:epochs\n",
    "        @sync begin\n",
    "            local_ch = Channel{Tuple}(4) # prepare up to 4 minibatches in adavnce\n",
    "            remote_ch = RemoteChannel(()->local_ch)\n",
    "            @spawn begin\n",
    "                # This block is executed on the worker process\n",
    "                batch_x_aug = zeros(Float32, size(train_x,1), size(train_x,2), 1, batchsize)\n",
    "                for (batch_x_cpu, batch_y) in eachbatch((train_x ,train_y), batchsize)\n",
    "                    # we are still using multithreading\n",
    "                    augmentbatch!(CPUThreads(), batch_x_aug, batch_x_cpu, pl)\n",
    "                    put!(remote_ch, (batch_x_aug, batch_y))\n",
    "                end\n",
    "                close(remote_ch)\n",
    "            end\n",
    "            @async begin\n",
    "                # This block is executed on the main process\n",
    "                for (batch_x_aug, batch_y) in local_ch\n",
    "                    batch_x = KnetArray{Float32}(batch_x_aug)\n",
    "                    g = costgrad(w, batch_x, batch_y)\n",
    "                    Knet.update!(w, g, lr = lr)\n",
    "                end\n",
    "            end\n",
    "        end\n",
    "\n",
    "        if (epoch % 5) == 0\n",
    "            train = acc(w, train_x, train_y)\n",
    "            test  = acc(w, test_x,  test_y)\n",
    "            @trace log epoch train test\n",
    "            msg = \"epoch \" * lpad(epoch,4) * \": train accuracy \" * rpad(round(train,digits=3),5,\"0\") * \", test accuracy \" * rpad(round(test,digits=3),5,\"0\")\n",
    "            println(msg)\n",
    "        end\n",
    "    end\n",
    "    log\n",
    "end"
   ]
  },
  {
   "cell_type": "markdown",
   "metadata": {},
   "source": [
    "Note that for this toy example the overhead of this approach\n",
    "is greater than the benefit."
   ]
  },
  {
   "cell_type": "code",
   "execution_count": 23,
   "metadata": {
    "scrolled": false
   },
   "outputs": [
    {
     "name": "stdout",
     "output_type": "stream",
     "text": [
      "epoch    5: train accuracy 0.500, test accuracy 0.454\n",
      "epoch   10: train accuracy 0.682, test accuracy 0.612\n",
      "epoch   15: train accuracy 0.744, test accuracy 0.682\n",
      "epoch   20: train accuracy 0.826, test accuracy 0.787\n",
      "epoch   25: train accuracy 0.846, test accuracy 0.809\n",
      "epoch   30: train accuracy 0.872, test accuracy 0.845\n",
      "epoch   35: train accuracy 0.890, test accuracy 0.853\n",
      "epoch   40: train accuracy 0.920, test accuracy 0.876\n",
      "epoch   45: train accuracy 0.918, test accuracy 0.879\n",
      "epoch   50: train accuracy 0.938, test accuracy 0.900\n",
      "epoch   55: train accuracy 0.928, test accuracy 0.885\n",
      "epoch   60: train accuracy 0.946, test accuracy 0.901\n",
      "epoch   65: train accuracy 0.958, test accuracy 0.919\n",
      "epoch   70: train accuracy 0.958, test accuracy 0.924\n",
      "epoch   75: train accuracy 0.964, test accuracy 0.918\n",
      "epoch   80: train accuracy 0.968, test accuracy 0.922\n",
      "epoch   85: train accuracy 0.956, test accuracy 0.912\n",
      "epoch   90: train accuracy 0.978, test accuracy 0.930\n",
      "epoch   95: train accuracy 0.982, test accuracy 0.935\n",
      "epoch  100: train accuracy 0.986, test accuracy 0.936\n",
      "epoch  105: train accuracy 0.984, test accuracy 0.936\n",
      "epoch  110: train accuracy 0.982, test accuracy 0.936\n",
      "epoch  115: train accuracy 0.990, test accuracy 0.938\n",
      "epoch  120: train accuracy 0.992, test accuracy 0.930\n",
      "epoch  125: train accuracy 0.994, test accuracy 0.937\n",
      "epoch  130: train accuracy 0.996, test accuracy 0.948\n",
      "epoch  135: train accuracy 0.992, test accuracy 0.942\n",
      "epoch  140: train accuracy 0.998, test accuracy 0.944\n",
      "epoch  145: train accuracy 0.996, test accuracy 0.946\n",
      "epoch  150: train accuracy 0.998, test accuracy 0.947\n",
      "epoch  155: train accuracy 0.996, test accuracy 0.953\n",
      "epoch  160: train accuracy 0.998, test accuracy 0.947\n",
      "epoch  165: train accuracy 0.998, test accuracy 0.949\n",
      "epoch  170: train accuracy 0.998, test accuracy 0.948\n",
      "epoch  175: train accuracy 0.998, test accuracy 0.955\n",
      "epoch  180: train accuracy 0.994, test accuracy 0.948\n",
      "epoch  185: train accuracy 0.998, test accuracy 0.952\n",
      "epoch  190: train accuracy 0.998, test accuracy 0.955\n",
      "epoch  195: train accuracy 0.996, test accuracy 0.951\n",
      "epoch  200: train accuracy 0.998, test accuracy 0.956\n",
      " 40.049357 seconds (4.34 M allocations: 529.825 MiB, 0.60% gc time)\n"
     ]
    }
   ],
   "source": [
    "async_train_augmented(epochs=1) # warm-up\n",
    "augmented_log = @time async_train_augmented(epochs=200);"
   ]
  },
  {
   "cell_type": "markdown",
   "metadata": {},
   "source": [
    "## Visualizing the Results"
   ]
  },
  {
   "cell_type": "markdown",
   "metadata": {},
   "source": [
    "Before we end this tutorial, let us make use the\n",
    "[Plots.jl](https://github.com/JuliaPlots/Plots.jl) package to\n",
    "visualize and discuss the recorded training curves.\n",
    "We will plot the accuracy curves of both networks side by side\n",
    "in order to get a good feeling about their differences."
   ]
  },
  {
   "cell_type": "code",
   "execution_count": 24,
   "metadata": {},
   "outputs": [
    {
     "data": {
      "text/plain": [
       "Plots.GRBackend()"
      ]
     },
     "execution_count": 24,
     "metadata": {},
     "output_type": "execute_result"
    }
   ],
   "source": [
    "using Plots\n",
    "gr()"
   ]
  },
  {
   "cell_type": "code",
   "execution_count": 25,
   "metadata": {},
   "outputs": [
    {
     "name": "stderr",
     "output_type": "stream",
     "text": [
      "┌ Warning: In `filter(f, dict)`, `f` is now passed a single pair instead of two arguments.\n",
      "│   caller = _filter_plotable_histories at recipes.jl:5 [inlined]\n",
      "└ @ Core /home/ubuntu/.julia/packages/ValueHistories/Jc36u/src/recipes.jl:5\n"
     ]
    },
    {
     "data": {
      "image/svg+xml": [
       "<?xml version=\"1.0\" encoding=\"utf-8\"?>\n",
       "<svg xmlns=\"http://www.w3.org/2000/svg\" xmlns:xlink=\"http://www.w3.org/1999/xlink\" width=\"900\" height=\"400\" viewBox=\"0 0 3600 1600\">\n",
       "<defs>\n",
       "  <clipPath id=\"clip9600\">\n",
       "    <rect x=\"0\" y=\"0\" width=\"2000\" height=\"2000\"/>\n",
       "  </clipPath>\n",
       "</defs>\n",
       "<defs>\n",
       "  <clipPath id=\"clip9601\">\n",
       "    <rect x=\"0\" y=\"0\" width=\"3600\" height=\"1600\"/>\n",
       "  </clipPath>\n",
       "</defs>\n",
       "<polygon clip-path=\"url(#clip9601)\" points=\"\n",
       "0,1600 3600,1600 3600,0 0,0 \n",
       "  \" fill=\"#ffffff\" fill-rule=\"evenodd\" fill-opacity=\"1\"/>\n",
       "<defs>\n",
       "  <clipPath id=\"clip9602\">\n",
       "    <rect x=\"720\" y=\"0\" width=\"2521\" height=\"1600\"/>\n",
       "  </clipPath>\n",
       "</defs>\n",
       "<polygon clip-path=\"url(#clip9601)\" points=\"\n",
       "224.386,1440.48 1721.26,1440.48 1721.26,125.984 224.386,125.984 \n",
       "  \" fill=\"#ffffff\" fill-rule=\"evenodd\" fill-opacity=\"1\"/>\n",
       "<defs>\n",
       "  <clipPath id=\"clip9603\">\n",
       "    <rect x=\"224\" y=\"125\" width=\"1498\" height=\"1315\"/>\n",
       "  </clipPath>\n",
       "</defs>\n",
       "<polyline clip-path=\"url(#clip9603)\" style=\"stroke:#000000; stroke-width:2; stroke-opacity:0.1; fill:none\" points=\"\n",
       "  230.542,1440.48 230.542,125.984 \n",
       "  \"/>\n",
       "<polyline clip-path=\"url(#clip9603)\" style=\"stroke:#000000; stroke-width:2; stroke-opacity:0.1; fill:none\" points=\"\n",
       "  592.63,1440.48 592.63,125.984 \n",
       "  \"/>\n",
       "<polyline clip-path=\"url(#clip9603)\" style=\"stroke:#000000; stroke-width:2; stroke-opacity:0.1; fill:none\" points=\"\n",
       "  954.719,1440.48 954.719,125.984 \n",
       "  \"/>\n",
       "<polyline clip-path=\"url(#clip9603)\" style=\"stroke:#000000; stroke-width:2; stroke-opacity:0.1; fill:none\" points=\"\n",
       "  1316.81,1440.48 1316.81,125.984 \n",
       "  \"/>\n",
       "<polyline clip-path=\"url(#clip9603)\" style=\"stroke:#000000; stroke-width:2; stroke-opacity:0.1; fill:none\" points=\"\n",
       "  1678.9,1440.48 1678.9,125.984 \n",
       "  \"/>\n",
       "<polyline clip-path=\"url(#clip9603)\" style=\"stroke:#000000; stroke-width:2; stroke-opacity:0.1; fill:none\" points=\"\n",
       "  224.386,1440.48 1721.26,1440.48 \n",
       "  \"/>\n",
       "<polyline clip-path=\"url(#clip9603)\" style=\"stroke:#000000; stroke-width:2; stroke-opacity:0.1; fill:none\" points=\"\n",
       "  224.386,1177.58 1721.26,1177.58 \n",
       "  \"/>\n",
       "<polyline clip-path=\"url(#clip9603)\" style=\"stroke:#000000; stroke-width:2; stroke-opacity:0.1; fill:none\" points=\"\n",
       "  224.386,914.683 1721.26,914.683 \n",
       "  \"/>\n",
       "<polyline clip-path=\"url(#clip9603)\" style=\"stroke:#000000; stroke-width:2; stroke-opacity:0.1; fill:none\" points=\"\n",
       "  224.386,651.784 1721.26,651.784 \n",
       "  \"/>\n",
       "<polyline clip-path=\"url(#clip9603)\" style=\"stroke:#000000; stroke-width:2; stroke-opacity:0.1; fill:none\" points=\"\n",
       "  224.386,388.884 1721.26,388.884 \n",
       "  \"/>\n",
       "<polyline clip-path=\"url(#clip9603)\" style=\"stroke:#000000; stroke-width:2; stroke-opacity:0.1; fill:none\" points=\"\n",
       "  224.386,125.984 1721.26,125.984 \n",
       "  \"/>\n",
       "<polyline clip-path=\"url(#clip9601)\" style=\"stroke:#000000; stroke-width:4; stroke-opacity:1; fill:none\" points=\"\n",
       "  224.386,1440.48 1721.26,1440.48 \n",
       "  \"/>\n",
       "<polyline clip-path=\"url(#clip9601)\" style=\"stroke:#000000; stroke-width:4; stroke-opacity:1; fill:none\" points=\"\n",
       "  224.386,1440.48 224.386,125.984 \n",
       "  \"/>\n",
       "<polyline clip-path=\"url(#clip9601)\" style=\"stroke:#000000; stroke-width:4; stroke-opacity:1; fill:none\" points=\"\n",
       "  230.542,1440.48 230.542,1420.77 \n",
       "  \"/>\n",
       "<polyline clip-path=\"url(#clip9601)\" style=\"stroke:#000000; stroke-width:4; stroke-opacity:1; fill:none\" points=\"\n",
       "  592.63,1440.48 592.63,1420.77 \n",
       "  \"/>\n",
       "<polyline clip-path=\"url(#clip9601)\" style=\"stroke:#000000; stroke-width:4; stroke-opacity:1; fill:none\" points=\"\n",
       "  954.719,1440.48 954.719,1420.77 \n",
       "  \"/>\n",
       "<polyline clip-path=\"url(#clip9601)\" style=\"stroke:#000000; stroke-width:4; stroke-opacity:1; fill:none\" points=\"\n",
       "  1316.81,1440.48 1316.81,1420.77 \n",
       "  \"/>\n",
       "<polyline clip-path=\"url(#clip9601)\" style=\"stroke:#000000; stroke-width:4; stroke-opacity:1; fill:none\" points=\"\n",
       "  1678.9,1440.48 1678.9,1420.77 \n",
       "  \"/>\n",
       "<polyline clip-path=\"url(#clip9601)\" style=\"stroke:#000000; stroke-width:4; stroke-opacity:1; fill:none\" points=\"\n",
       "  224.386,1440.48 246.839,1440.48 \n",
       "  \"/>\n",
       "<polyline clip-path=\"url(#clip9601)\" style=\"stroke:#000000; stroke-width:4; stroke-opacity:1; fill:none\" points=\"\n",
       "  224.386,1177.58 246.839,1177.58 \n",
       "  \"/>\n",
       "<polyline clip-path=\"url(#clip9601)\" style=\"stroke:#000000; stroke-width:4; stroke-opacity:1; fill:none\" points=\"\n",
       "  224.386,914.683 246.839,914.683 \n",
       "  \"/>\n",
       "<polyline clip-path=\"url(#clip9601)\" style=\"stroke:#000000; stroke-width:4; stroke-opacity:1; fill:none\" points=\"\n",
       "  224.386,651.784 246.839,651.784 \n",
       "  \"/>\n",
       "<polyline clip-path=\"url(#clip9601)\" style=\"stroke:#000000; stroke-width:4; stroke-opacity:1; fill:none\" points=\"\n",
       "  224.386,388.884 246.839,388.884 \n",
       "  \"/>\n",
       "<polyline clip-path=\"url(#clip9601)\" style=\"stroke:#000000; stroke-width:4; stroke-opacity:1; fill:none\" points=\"\n",
       "  224.386,125.984 246.839,125.984 \n",
       "  \"/>\n",
       "<g clip-path=\"url(#clip9601)\">\n",
       "<text style=\"fill:#000000; fill-opacity:1; font-family:Arial,Helvetica Neue,Helvetica,sans-serif; font-size:48px; text-anchor:middle;\" transform=\"rotate(0, 230.542, 1500.48)\" x=\"230.542\" y=\"1500.48\">0</text>\n",
       "</g>\n",
       "<g clip-path=\"url(#clip9601)\">\n",
       "<text style=\"fill:#000000; fill-opacity:1; font-family:Arial,Helvetica Neue,Helvetica,sans-serif; font-size:48px; text-anchor:middle;\" transform=\"rotate(0, 592.63, 1500.48)\" x=\"592.63\" y=\"1500.48\">50</text>\n",
       "</g>\n",
       "<g clip-path=\"url(#clip9601)\">\n",
       "<text style=\"fill:#000000; fill-opacity:1; font-family:Arial,Helvetica Neue,Helvetica,sans-serif; font-size:48px; text-anchor:middle;\" transform=\"rotate(0, 954.719, 1500.48)\" x=\"954.719\" y=\"1500.48\">100</text>\n",
       "</g>\n",
       "<g clip-path=\"url(#clip9601)\">\n",
       "<text style=\"fill:#000000; fill-opacity:1; font-family:Arial,Helvetica Neue,Helvetica,sans-serif; font-size:48px; text-anchor:middle;\" transform=\"rotate(0, 1316.81, 1500.48)\" x=\"1316.81\" y=\"1500.48\">150</text>\n",
       "</g>\n",
       "<g clip-path=\"url(#clip9601)\">\n",
       "<text style=\"fill:#000000; fill-opacity:1; font-family:Arial,Helvetica Neue,Helvetica,sans-serif; font-size:48px; text-anchor:middle;\" transform=\"rotate(0, 1678.9, 1500.48)\" x=\"1678.9\" y=\"1500.48\">200</text>\n",
       "</g>\n",
       "<g clip-path=\"url(#clip9601)\">\n",
       "<text style=\"fill:#000000; fill-opacity:1; font-family:Arial,Helvetica Neue,Helvetica,sans-serif; font-size:48px; text-anchor:end;\" transform=\"rotate(0, 188.386, 1457.98)\" x=\"188.386\" y=\"1457.98\">0.5</text>\n",
       "</g>\n",
       "<g clip-path=\"url(#clip9601)\">\n",
       "<text style=\"fill:#000000; fill-opacity:1; font-family:Arial,Helvetica Neue,Helvetica,sans-serif; font-size:48px; text-anchor:end;\" transform=\"rotate(0, 188.386, 1195.08)\" x=\"188.386\" y=\"1195.08\">0.6</text>\n",
       "</g>\n",
       "<g clip-path=\"url(#clip9601)\">\n",
       "<text style=\"fill:#000000; fill-opacity:1; font-family:Arial,Helvetica Neue,Helvetica,sans-serif; font-size:48px; text-anchor:end;\" transform=\"rotate(0, 188.386, 932.183)\" x=\"188.386\" y=\"932.183\">0.7</text>\n",
       "</g>\n",
       "<g clip-path=\"url(#clip9601)\">\n",
       "<text style=\"fill:#000000; fill-opacity:1; font-family:Arial,Helvetica Neue,Helvetica,sans-serif; font-size:48px; text-anchor:end;\" transform=\"rotate(0, 188.386, 669.284)\" x=\"188.386\" y=\"669.284\">0.8</text>\n",
       "</g>\n",
       "<g clip-path=\"url(#clip9601)\">\n",
       "<text style=\"fill:#000000; fill-opacity:1; font-family:Arial,Helvetica Neue,Helvetica,sans-serif; font-size:48px; text-anchor:end;\" transform=\"rotate(0, 188.386, 406.384)\" x=\"188.386\" y=\"406.384\">0.9</text>\n",
       "</g>\n",
       "<g clip-path=\"url(#clip9601)\">\n",
       "<text style=\"fill:#000000; fill-opacity:1; font-family:Arial,Helvetica Neue,Helvetica,sans-serif; font-size:48px; text-anchor:end;\" transform=\"rotate(0, 188.386, 143.484)\" x=\"188.386\" y=\"143.484\">1.0</text>\n",
       "</g>\n",
       "<g clip-path=\"url(#clip9601)\">\n",
       "<text style=\"fill:#000000; fill-opacity:1; font-family:Arial,Helvetica Neue,Helvetica,sans-serif; font-size:82px; text-anchor:middle;\" transform=\"rotate(0, 972.823, 72)\" x=\"972.823\" y=\"72\">Baseline</text>\n",
       "</g>\n",
       "<g clip-path=\"url(#clip9601)\">\n",
       "<text style=\"fill:#000000; fill-opacity:1; font-family:Arial,Helvetica Neue,Helvetica,sans-serif; font-size:66px; text-anchor:middle;\" transform=\"rotate(0, 972.823, 1590.4)\" x=\"972.823\" y=\"1590.4\">Epoch</text>\n",
       "</g>\n",
       "<g clip-path=\"url(#clip9601)\">\n",
       "<text style=\"fill:#000000; fill-opacity:1; font-family:Arial,Helvetica Neue,Helvetica,sans-serif; font-size:66px; text-anchor:middle;\" transform=\"rotate(-90, 57.6, 783.233)\" x=\"57.6\" y=\"783.233\">Accuracy</text>\n",
       "</g>\n",
       "<polyline clip-path=\"url(#clip9603)\" style=\"stroke:#009af9; stroke-width:4; stroke-opacity:1; fill:none\" points=\"\n",
       "  266.751,1715.48 302.959,1096.08 339.168,837.654 375.377,725.921 411.586,651.784 447.795,546.624 484.004,503.508 520.212,492.729 556.421,477.481 592.63,469.857 \n",
       "  628.839,461.707 665.048,455.135 701.257,448.299 737.466,441.727 773.674,440.412 809.883,436.469 846.092,431.999 882.301,432.262 918.51,430.948 954.719,428.319 \n",
       "  990.927,428.582 1027.14,427.793 1063.35,428.582 1099.55,426.741 1135.76,427.53 1171.97,428.056 1208.18,427.004 1244.39,426.479 1280.6,425.164 1316.81,424.112 \n",
       "  1353.02,423.324 1389.22,423.587 1425.43,423.061 1461.64,423.324 1497.85,422.798 1534.06,422.535 1570.27,421.746 1606.48,420.958 1642.69,420.958 1678.9,420.958 \n",
       "  \n",
       "  \"/>\n",
       "<circle clip-path=\"url(#clip9603)\" style=\"fill:#000000; stroke:none; fill-opacity:1\" cx=\"302.959\" cy=\"1096.08\" r=\"7\"/>\n",
       "<circle clip-path=\"url(#clip9603)\" style=\"fill:#009af9; stroke:none; fill-opacity:1\" cx=\"302.959\" cy=\"1096.08\" r=\"3\"/>\n",
       "<circle clip-path=\"url(#clip9603)\" style=\"fill:#000000; stroke:none; fill-opacity:1\" cx=\"339.168\" cy=\"837.654\" r=\"7\"/>\n",
       "<circle clip-path=\"url(#clip9603)\" style=\"fill:#009af9; stroke:none; fill-opacity:1\" cx=\"339.168\" cy=\"837.654\" r=\"3\"/>\n",
       "<circle clip-path=\"url(#clip9603)\" style=\"fill:#000000; stroke:none; fill-opacity:1\" cx=\"375.377\" cy=\"725.921\" r=\"7\"/>\n",
       "<circle clip-path=\"url(#clip9603)\" style=\"fill:#009af9; stroke:none; fill-opacity:1\" cx=\"375.377\" cy=\"725.921\" r=\"3\"/>\n",
       "<circle clip-path=\"url(#clip9603)\" style=\"fill:#000000; stroke:none; fill-opacity:1\" cx=\"411.586\" cy=\"651.784\" r=\"7\"/>\n",
       "<circle clip-path=\"url(#clip9603)\" style=\"fill:#009af9; stroke:none; fill-opacity:1\" cx=\"411.586\" cy=\"651.784\" r=\"3\"/>\n",
       "<circle clip-path=\"url(#clip9603)\" style=\"fill:#000000; stroke:none; fill-opacity:1\" cx=\"447.795\" cy=\"546.624\" r=\"7\"/>\n",
       "<circle clip-path=\"url(#clip9603)\" style=\"fill:#009af9; stroke:none; fill-opacity:1\" cx=\"447.795\" cy=\"546.624\" r=\"3\"/>\n",
       "<circle clip-path=\"url(#clip9603)\" style=\"fill:#000000; stroke:none; fill-opacity:1\" cx=\"484.004\" cy=\"503.508\" r=\"7\"/>\n",
       "<circle clip-path=\"url(#clip9603)\" style=\"fill:#009af9; stroke:none; fill-opacity:1\" cx=\"484.004\" cy=\"503.508\" r=\"3\"/>\n",
       "<circle clip-path=\"url(#clip9603)\" style=\"fill:#000000; stroke:none; fill-opacity:1\" cx=\"520.212\" cy=\"492.729\" r=\"7\"/>\n",
       "<circle clip-path=\"url(#clip9603)\" style=\"fill:#009af9; stroke:none; fill-opacity:1\" cx=\"520.212\" cy=\"492.729\" r=\"3\"/>\n",
       "<circle clip-path=\"url(#clip9603)\" style=\"fill:#000000; stroke:none; fill-opacity:1\" cx=\"556.421\" cy=\"477.481\" r=\"7\"/>\n",
       "<circle clip-path=\"url(#clip9603)\" style=\"fill:#009af9; stroke:none; fill-opacity:1\" cx=\"556.421\" cy=\"477.481\" r=\"3\"/>\n",
       "<circle clip-path=\"url(#clip9603)\" style=\"fill:#000000; stroke:none; fill-opacity:1\" cx=\"592.63\" cy=\"469.857\" r=\"7\"/>\n",
       "<circle clip-path=\"url(#clip9603)\" style=\"fill:#009af9; stroke:none; fill-opacity:1\" cx=\"592.63\" cy=\"469.857\" r=\"3\"/>\n",
       "<circle clip-path=\"url(#clip9603)\" style=\"fill:#000000; stroke:none; fill-opacity:1\" cx=\"628.839\" cy=\"461.707\" r=\"7\"/>\n",
       "<circle clip-path=\"url(#clip9603)\" style=\"fill:#009af9; stroke:none; fill-opacity:1\" cx=\"628.839\" cy=\"461.707\" r=\"3\"/>\n",
       "<circle clip-path=\"url(#clip9603)\" style=\"fill:#000000; stroke:none; fill-opacity:1\" cx=\"665.048\" cy=\"455.135\" r=\"7\"/>\n",
       "<circle clip-path=\"url(#clip9603)\" style=\"fill:#009af9; stroke:none; fill-opacity:1\" cx=\"665.048\" cy=\"455.135\" r=\"3\"/>\n",
       "<circle clip-path=\"url(#clip9603)\" style=\"fill:#000000; stroke:none; fill-opacity:1\" cx=\"701.257\" cy=\"448.299\" r=\"7\"/>\n",
       "<circle clip-path=\"url(#clip9603)\" style=\"fill:#009af9; stroke:none; fill-opacity:1\" cx=\"701.257\" cy=\"448.299\" r=\"3\"/>\n",
       "<circle clip-path=\"url(#clip9603)\" style=\"fill:#000000; stroke:none; fill-opacity:1\" cx=\"737.466\" cy=\"441.727\" r=\"7\"/>\n",
       "<circle clip-path=\"url(#clip9603)\" style=\"fill:#009af9; stroke:none; fill-opacity:1\" cx=\"737.466\" cy=\"441.727\" r=\"3\"/>\n",
       "<circle clip-path=\"url(#clip9603)\" style=\"fill:#000000; stroke:none; fill-opacity:1\" cx=\"773.674\" cy=\"440.412\" r=\"7\"/>\n",
       "<circle clip-path=\"url(#clip9603)\" style=\"fill:#009af9; stroke:none; fill-opacity:1\" cx=\"773.674\" cy=\"440.412\" r=\"3\"/>\n",
       "<circle clip-path=\"url(#clip9603)\" style=\"fill:#000000; stroke:none; fill-opacity:1\" cx=\"809.883\" cy=\"436.469\" r=\"7\"/>\n",
       "<circle clip-path=\"url(#clip9603)\" style=\"fill:#009af9; stroke:none; fill-opacity:1\" cx=\"809.883\" cy=\"436.469\" r=\"3\"/>\n",
       "<circle clip-path=\"url(#clip9603)\" style=\"fill:#000000; stroke:none; fill-opacity:1\" cx=\"846.092\" cy=\"431.999\" r=\"7\"/>\n",
       "<circle clip-path=\"url(#clip9603)\" style=\"fill:#009af9; stroke:none; fill-opacity:1\" cx=\"846.092\" cy=\"431.999\" r=\"3\"/>\n",
       "<circle clip-path=\"url(#clip9603)\" style=\"fill:#000000; stroke:none; fill-opacity:1\" cx=\"882.301\" cy=\"432.262\" r=\"7\"/>\n",
       "<circle clip-path=\"url(#clip9603)\" style=\"fill:#009af9; stroke:none; fill-opacity:1\" cx=\"882.301\" cy=\"432.262\" r=\"3\"/>\n",
       "<circle clip-path=\"url(#clip9603)\" style=\"fill:#000000; stroke:none; fill-opacity:1\" cx=\"918.51\" cy=\"430.948\" r=\"7\"/>\n",
       "<circle clip-path=\"url(#clip9603)\" style=\"fill:#009af9; stroke:none; fill-opacity:1\" cx=\"918.51\" cy=\"430.948\" r=\"3\"/>\n",
       "<circle clip-path=\"url(#clip9603)\" style=\"fill:#000000; stroke:none; fill-opacity:1\" cx=\"954.719\" cy=\"428.319\" r=\"7\"/>\n",
       "<circle clip-path=\"url(#clip9603)\" style=\"fill:#009af9; stroke:none; fill-opacity:1\" cx=\"954.719\" cy=\"428.319\" r=\"3\"/>\n",
       "<circle clip-path=\"url(#clip9603)\" style=\"fill:#000000; stroke:none; fill-opacity:1\" cx=\"990.927\" cy=\"428.582\" r=\"7\"/>\n",
       "<circle clip-path=\"url(#clip9603)\" style=\"fill:#009af9; stroke:none; fill-opacity:1\" cx=\"990.927\" cy=\"428.582\" r=\"3\"/>\n",
       "<circle clip-path=\"url(#clip9603)\" style=\"fill:#000000; stroke:none; fill-opacity:1\" cx=\"1027.14\" cy=\"427.793\" r=\"7\"/>\n",
       "<circle clip-path=\"url(#clip9603)\" style=\"fill:#009af9; stroke:none; fill-opacity:1\" cx=\"1027.14\" cy=\"427.793\" r=\"3\"/>\n",
       "<circle clip-path=\"url(#clip9603)\" style=\"fill:#000000; stroke:none; fill-opacity:1\" cx=\"1063.35\" cy=\"428.582\" r=\"7\"/>\n",
       "<circle clip-path=\"url(#clip9603)\" style=\"fill:#009af9; stroke:none; fill-opacity:1\" cx=\"1063.35\" cy=\"428.582\" r=\"3\"/>\n",
       "<circle clip-path=\"url(#clip9603)\" style=\"fill:#000000; stroke:none; fill-opacity:1\" cx=\"1099.55\" cy=\"426.741\" r=\"7\"/>\n",
       "<circle clip-path=\"url(#clip9603)\" style=\"fill:#009af9; stroke:none; fill-opacity:1\" cx=\"1099.55\" cy=\"426.741\" r=\"3\"/>\n",
       "<circle clip-path=\"url(#clip9603)\" style=\"fill:#000000; stroke:none; fill-opacity:1\" cx=\"1135.76\" cy=\"427.53\" r=\"7\"/>\n",
       "<circle clip-path=\"url(#clip9603)\" style=\"fill:#009af9; stroke:none; fill-opacity:1\" cx=\"1135.76\" cy=\"427.53\" r=\"3\"/>\n",
       "<circle clip-path=\"url(#clip9603)\" style=\"fill:#000000; stroke:none; fill-opacity:1\" cx=\"1171.97\" cy=\"428.056\" r=\"7\"/>\n",
       "<circle clip-path=\"url(#clip9603)\" style=\"fill:#009af9; stroke:none; fill-opacity:1\" cx=\"1171.97\" cy=\"428.056\" r=\"3\"/>\n",
       "<circle clip-path=\"url(#clip9603)\" style=\"fill:#000000; stroke:none; fill-opacity:1\" cx=\"1208.18\" cy=\"427.004\" r=\"7\"/>\n",
       "<circle clip-path=\"url(#clip9603)\" style=\"fill:#009af9; stroke:none; fill-opacity:1\" cx=\"1208.18\" cy=\"427.004\" r=\"3\"/>\n",
       "<circle clip-path=\"url(#clip9603)\" style=\"fill:#000000; stroke:none; fill-opacity:1\" cx=\"1244.39\" cy=\"426.479\" r=\"7\"/>\n",
       "<circle clip-path=\"url(#clip9603)\" style=\"fill:#009af9; stroke:none; fill-opacity:1\" cx=\"1244.39\" cy=\"426.479\" r=\"3\"/>\n",
       "<circle clip-path=\"url(#clip9603)\" style=\"fill:#000000; stroke:none; fill-opacity:1\" cx=\"1280.6\" cy=\"425.164\" r=\"7\"/>\n",
       "<circle clip-path=\"url(#clip9603)\" style=\"fill:#009af9; stroke:none; fill-opacity:1\" cx=\"1280.6\" cy=\"425.164\" r=\"3\"/>\n",
       "<circle clip-path=\"url(#clip9603)\" style=\"fill:#000000; stroke:none; fill-opacity:1\" cx=\"1316.81\" cy=\"424.112\" r=\"7\"/>\n",
       "<circle clip-path=\"url(#clip9603)\" style=\"fill:#009af9; stroke:none; fill-opacity:1\" cx=\"1316.81\" cy=\"424.112\" r=\"3\"/>\n",
       "<circle clip-path=\"url(#clip9603)\" style=\"fill:#000000; stroke:none; fill-opacity:1\" cx=\"1353.02\" cy=\"423.324\" r=\"7\"/>\n",
       "<circle clip-path=\"url(#clip9603)\" style=\"fill:#009af9; stroke:none; fill-opacity:1\" cx=\"1353.02\" cy=\"423.324\" r=\"3\"/>\n",
       "<circle clip-path=\"url(#clip9603)\" style=\"fill:#000000; stroke:none; fill-opacity:1\" cx=\"1389.22\" cy=\"423.587\" r=\"7\"/>\n",
       "<circle clip-path=\"url(#clip9603)\" style=\"fill:#009af9; stroke:none; fill-opacity:1\" cx=\"1389.22\" cy=\"423.587\" r=\"3\"/>\n",
       "<circle clip-path=\"url(#clip9603)\" style=\"fill:#000000; stroke:none; fill-opacity:1\" cx=\"1425.43\" cy=\"423.061\" r=\"7\"/>\n",
       "<circle clip-path=\"url(#clip9603)\" style=\"fill:#009af9; stroke:none; fill-opacity:1\" cx=\"1425.43\" cy=\"423.061\" r=\"3\"/>\n",
       "<circle clip-path=\"url(#clip9603)\" style=\"fill:#000000; stroke:none; fill-opacity:1\" cx=\"1461.64\" cy=\"423.324\" r=\"7\"/>\n",
       "<circle clip-path=\"url(#clip9603)\" style=\"fill:#009af9; stroke:none; fill-opacity:1\" cx=\"1461.64\" cy=\"423.324\" r=\"3\"/>\n",
       "<circle clip-path=\"url(#clip9603)\" style=\"fill:#000000; stroke:none; fill-opacity:1\" cx=\"1497.85\" cy=\"422.798\" r=\"7\"/>\n",
       "<circle clip-path=\"url(#clip9603)\" style=\"fill:#009af9; stroke:none; fill-opacity:1\" cx=\"1497.85\" cy=\"422.798\" r=\"3\"/>\n",
       "<circle clip-path=\"url(#clip9603)\" style=\"fill:#000000; stroke:none; fill-opacity:1\" cx=\"1534.06\" cy=\"422.535\" r=\"7\"/>\n",
       "<circle clip-path=\"url(#clip9603)\" style=\"fill:#009af9; stroke:none; fill-opacity:1\" cx=\"1534.06\" cy=\"422.535\" r=\"3\"/>\n",
       "<circle clip-path=\"url(#clip9603)\" style=\"fill:#000000; stroke:none; fill-opacity:1\" cx=\"1570.27\" cy=\"421.746\" r=\"7\"/>\n",
       "<circle clip-path=\"url(#clip9603)\" style=\"fill:#009af9; stroke:none; fill-opacity:1\" cx=\"1570.27\" cy=\"421.746\" r=\"3\"/>\n",
       "<circle clip-path=\"url(#clip9603)\" style=\"fill:#000000; stroke:none; fill-opacity:1\" cx=\"1606.48\" cy=\"420.958\" r=\"7\"/>\n",
       "<circle clip-path=\"url(#clip9603)\" style=\"fill:#009af9; stroke:none; fill-opacity:1\" cx=\"1606.48\" cy=\"420.958\" r=\"3\"/>\n",
       "<circle clip-path=\"url(#clip9603)\" style=\"fill:#000000; stroke:none; fill-opacity:1\" cx=\"1642.69\" cy=\"420.958\" r=\"7\"/>\n",
       "<circle clip-path=\"url(#clip9603)\" style=\"fill:#009af9; stroke:none; fill-opacity:1\" cx=\"1642.69\" cy=\"420.958\" r=\"3\"/>\n",
       "<circle clip-path=\"url(#clip9603)\" style=\"fill:#000000; stroke:none; fill-opacity:1\" cx=\"1678.9\" cy=\"420.958\" r=\"7\"/>\n",
       "<circle clip-path=\"url(#clip9603)\" style=\"fill:#009af9; stroke:none; fill-opacity:1\" cx=\"1678.9\" cy=\"420.958\" r=\"3\"/>\n",
       "<polyline clip-path=\"url(#clip9603)\" style=\"stroke:#e26f46; stroke-width:4; stroke-opacity:1; fill:none\" points=\"\n",
       "  266.751,1487.8 302.959,862.103 339.168,625.494 375.377,525.592 411.586,441.464 447.795,383.626 484.004,352.078 520.212,299.498 556.421,278.466 592.63,257.434 \n",
       "  628.839,241.66 665.048,220.628 701.257,199.596 737.466,183.822 773.674,178.564 809.883,157.532 846.092,147.016 882.301,131.242 918.51,125.984 954.719,125.984 \n",
       "  990.927,125.984 1027.14,125.984 1063.35,125.984 1099.55,125.984 1135.76,125.984 1171.97,125.984 1208.18,125.984 1244.39,125.984 1280.6,125.984 1316.81,125.984 \n",
       "  1353.02,125.984 1389.22,125.984 1425.43,125.984 1461.64,125.984 1497.85,125.984 1534.06,125.984 1570.27,125.984 1606.48,125.984 1642.69,125.984 1678.9,125.984 \n",
       "  \n",
       "  \"/>\n",
       "<circle clip-path=\"url(#clip9603)\" style=\"fill:#000000; stroke:none; fill-opacity:1\" cx=\"302.959\" cy=\"862.103\" r=\"7\"/>\n",
       "<circle clip-path=\"url(#clip9603)\" style=\"fill:#e26f46; stroke:none; fill-opacity:1\" cx=\"302.959\" cy=\"862.103\" r=\"3\"/>\n",
       "<circle clip-path=\"url(#clip9603)\" style=\"fill:#000000; stroke:none; fill-opacity:1\" cx=\"339.168\" cy=\"625.494\" r=\"7\"/>\n",
       "<circle clip-path=\"url(#clip9603)\" style=\"fill:#e26f46; stroke:none; fill-opacity:1\" cx=\"339.168\" cy=\"625.494\" r=\"3\"/>\n",
       "<circle clip-path=\"url(#clip9603)\" style=\"fill:#000000; stroke:none; fill-opacity:1\" cx=\"375.377\" cy=\"525.592\" r=\"7\"/>\n",
       "<circle clip-path=\"url(#clip9603)\" style=\"fill:#e26f46; stroke:none; fill-opacity:1\" cx=\"375.377\" cy=\"525.592\" r=\"3\"/>\n",
       "<circle clip-path=\"url(#clip9603)\" style=\"fill:#000000; stroke:none; fill-opacity:1\" cx=\"411.586\" cy=\"441.464\" r=\"7\"/>\n",
       "<circle clip-path=\"url(#clip9603)\" style=\"fill:#e26f46; stroke:none; fill-opacity:1\" cx=\"411.586\" cy=\"441.464\" r=\"3\"/>\n",
       "<circle clip-path=\"url(#clip9603)\" style=\"fill:#000000; stroke:none; fill-opacity:1\" cx=\"447.795\" cy=\"383.626\" r=\"7\"/>\n",
       "<circle clip-path=\"url(#clip9603)\" style=\"fill:#e26f46; stroke:none; fill-opacity:1\" cx=\"447.795\" cy=\"383.626\" r=\"3\"/>\n",
       "<circle clip-path=\"url(#clip9603)\" style=\"fill:#000000; stroke:none; fill-opacity:1\" cx=\"484.004\" cy=\"352.078\" r=\"7\"/>\n",
       "<circle clip-path=\"url(#clip9603)\" style=\"fill:#e26f46; stroke:none; fill-opacity:1\" cx=\"484.004\" cy=\"352.078\" r=\"3\"/>\n",
       "<circle clip-path=\"url(#clip9603)\" style=\"fill:#000000; stroke:none; fill-opacity:1\" cx=\"520.212\" cy=\"299.498\" r=\"7\"/>\n",
       "<circle clip-path=\"url(#clip9603)\" style=\"fill:#e26f46; stroke:none; fill-opacity:1\" cx=\"520.212\" cy=\"299.498\" r=\"3\"/>\n",
       "<circle clip-path=\"url(#clip9603)\" style=\"fill:#000000; stroke:none; fill-opacity:1\" cx=\"556.421\" cy=\"278.466\" r=\"7\"/>\n",
       "<circle clip-path=\"url(#clip9603)\" style=\"fill:#e26f46; stroke:none; fill-opacity:1\" cx=\"556.421\" cy=\"278.466\" r=\"3\"/>\n",
       "<circle clip-path=\"url(#clip9603)\" style=\"fill:#000000; stroke:none; fill-opacity:1\" cx=\"592.63\" cy=\"257.434\" r=\"7\"/>\n",
       "<circle clip-path=\"url(#clip9603)\" style=\"fill:#e26f46; stroke:none; fill-opacity:1\" cx=\"592.63\" cy=\"257.434\" r=\"3\"/>\n",
       "<circle clip-path=\"url(#clip9603)\" style=\"fill:#000000; stroke:none; fill-opacity:1\" cx=\"628.839\" cy=\"241.66\" r=\"7\"/>\n",
       "<circle clip-path=\"url(#clip9603)\" style=\"fill:#e26f46; stroke:none; fill-opacity:1\" cx=\"628.839\" cy=\"241.66\" r=\"3\"/>\n",
       "<circle clip-path=\"url(#clip9603)\" style=\"fill:#000000; stroke:none; fill-opacity:1\" cx=\"665.048\" cy=\"220.628\" r=\"7\"/>\n",
       "<circle clip-path=\"url(#clip9603)\" style=\"fill:#e26f46; stroke:none; fill-opacity:1\" cx=\"665.048\" cy=\"220.628\" r=\"3\"/>\n",
       "<circle clip-path=\"url(#clip9603)\" style=\"fill:#000000; stroke:none; fill-opacity:1\" cx=\"701.257\" cy=\"199.596\" r=\"7\"/>\n",
       "<circle clip-path=\"url(#clip9603)\" style=\"fill:#e26f46; stroke:none; fill-opacity:1\" cx=\"701.257\" cy=\"199.596\" r=\"3\"/>\n",
       "<circle clip-path=\"url(#clip9603)\" style=\"fill:#000000; stroke:none; fill-opacity:1\" cx=\"737.466\" cy=\"183.822\" r=\"7\"/>\n",
       "<circle clip-path=\"url(#clip9603)\" style=\"fill:#e26f46; stroke:none; fill-opacity:1\" cx=\"737.466\" cy=\"183.822\" r=\"3\"/>\n",
       "<circle clip-path=\"url(#clip9603)\" style=\"fill:#000000; stroke:none; fill-opacity:1\" cx=\"773.674\" cy=\"178.564\" r=\"7\"/>\n",
       "<circle clip-path=\"url(#clip9603)\" style=\"fill:#e26f46; stroke:none; fill-opacity:1\" cx=\"773.674\" cy=\"178.564\" r=\"3\"/>\n",
       "<circle clip-path=\"url(#clip9603)\" style=\"fill:#000000; stroke:none; fill-opacity:1\" cx=\"809.883\" cy=\"157.532\" r=\"7\"/>\n",
       "<circle clip-path=\"url(#clip9603)\" style=\"fill:#e26f46; stroke:none; fill-opacity:1\" cx=\"809.883\" cy=\"157.532\" r=\"3\"/>\n",
       "<circle clip-path=\"url(#clip9603)\" style=\"fill:#000000; stroke:none; fill-opacity:1\" cx=\"846.092\" cy=\"147.016\" r=\"7\"/>\n",
       "<circle clip-path=\"url(#clip9603)\" style=\"fill:#e26f46; stroke:none; fill-opacity:1\" cx=\"846.092\" cy=\"147.016\" r=\"3\"/>\n",
       "<circle clip-path=\"url(#clip9603)\" style=\"fill:#000000; stroke:none; fill-opacity:1\" cx=\"882.301\" cy=\"131.242\" r=\"7\"/>\n",
       "<circle clip-path=\"url(#clip9603)\" style=\"fill:#e26f46; stroke:none; fill-opacity:1\" cx=\"882.301\" cy=\"131.242\" r=\"3\"/>\n",
       "<circle clip-path=\"url(#clip9603)\" style=\"fill:#000000; stroke:none; fill-opacity:1\" cx=\"918.51\" cy=\"125.984\" r=\"7\"/>\n",
       "<circle clip-path=\"url(#clip9603)\" style=\"fill:#e26f46; stroke:none; fill-opacity:1\" cx=\"918.51\" cy=\"125.984\" r=\"3\"/>\n",
       "<circle clip-path=\"url(#clip9603)\" style=\"fill:#000000; stroke:none; fill-opacity:1\" cx=\"954.719\" cy=\"125.984\" r=\"7\"/>\n",
       "<circle clip-path=\"url(#clip9603)\" style=\"fill:#e26f46; stroke:none; fill-opacity:1\" cx=\"954.719\" cy=\"125.984\" r=\"3\"/>\n",
       "<circle clip-path=\"url(#clip9603)\" style=\"fill:#000000; stroke:none; fill-opacity:1\" cx=\"990.927\" cy=\"125.984\" r=\"7\"/>\n",
       "<circle clip-path=\"url(#clip9603)\" style=\"fill:#e26f46; stroke:none; fill-opacity:1\" cx=\"990.927\" cy=\"125.984\" r=\"3\"/>\n",
       "<circle clip-path=\"url(#clip9603)\" style=\"fill:#000000; stroke:none; fill-opacity:1\" cx=\"1027.14\" cy=\"125.984\" r=\"7\"/>\n",
       "<circle clip-path=\"url(#clip9603)\" style=\"fill:#e26f46; stroke:none; fill-opacity:1\" cx=\"1027.14\" cy=\"125.984\" r=\"3\"/>\n",
       "<circle clip-path=\"url(#clip9603)\" style=\"fill:#000000; stroke:none; fill-opacity:1\" cx=\"1063.35\" cy=\"125.984\" r=\"7\"/>\n",
       "<circle clip-path=\"url(#clip9603)\" style=\"fill:#e26f46; stroke:none; fill-opacity:1\" cx=\"1063.35\" cy=\"125.984\" r=\"3\"/>\n",
       "<circle clip-path=\"url(#clip9603)\" style=\"fill:#000000; stroke:none; fill-opacity:1\" cx=\"1099.55\" cy=\"125.984\" r=\"7\"/>\n",
       "<circle clip-path=\"url(#clip9603)\" style=\"fill:#e26f46; stroke:none; fill-opacity:1\" cx=\"1099.55\" cy=\"125.984\" r=\"3\"/>\n",
       "<circle clip-path=\"url(#clip9603)\" style=\"fill:#000000; stroke:none; fill-opacity:1\" cx=\"1135.76\" cy=\"125.984\" r=\"7\"/>\n",
       "<circle clip-path=\"url(#clip9603)\" style=\"fill:#e26f46; stroke:none; fill-opacity:1\" cx=\"1135.76\" cy=\"125.984\" r=\"3\"/>\n",
       "<circle clip-path=\"url(#clip9603)\" style=\"fill:#000000; stroke:none; fill-opacity:1\" cx=\"1171.97\" cy=\"125.984\" r=\"7\"/>\n",
       "<circle clip-path=\"url(#clip9603)\" style=\"fill:#e26f46; stroke:none; fill-opacity:1\" cx=\"1171.97\" cy=\"125.984\" r=\"3\"/>\n",
       "<circle clip-path=\"url(#clip9603)\" style=\"fill:#000000; stroke:none; fill-opacity:1\" cx=\"1208.18\" cy=\"125.984\" r=\"7\"/>\n",
       "<circle clip-path=\"url(#clip9603)\" style=\"fill:#e26f46; stroke:none; fill-opacity:1\" cx=\"1208.18\" cy=\"125.984\" r=\"3\"/>\n",
       "<circle clip-path=\"url(#clip9603)\" style=\"fill:#000000; stroke:none; fill-opacity:1\" cx=\"1244.39\" cy=\"125.984\" r=\"7\"/>\n",
       "<circle clip-path=\"url(#clip9603)\" style=\"fill:#e26f46; stroke:none; fill-opacity:1\" cx=\"1244.39\" cy=\"125.984\" r=\"3\"/>\n",
       "<circle clip-path=\"url(#clip9603)\" style=\"fill:#000000; stroke:none; fill-opacity:1\" cx=\"1280.6\" cy=\"125.984\" r=\"7\"/>\n",
       "<circle clip-path=\"url(#clip9603)\" style=\"fill:#e26f46; stroke:none; fill-opacity:1\" cx=\"1280.6\" cy=\"125.984\" r=\"3\"/>\n",
       "<circle clip-path=\"url(#clip9603)\" style=\"fill:#000000; stroke:none; fill-opacity:1\" cx=\"1316.81\" cy=\"125.984\" r=\"7\"/>\n",
       "<circle clip-path=\"url(#clip9603)\" style=\"fill:#e26f46; stroke:none; fill-opacity:1\" cx=\"1316.81\" cy=\"125.984\" r=\"3\"/>\n",
       "<circle clip-path=\"url(#clip9603)\" style=\"fill:#000000; stroke:none; fill-opacity:1\" cx=\"1353.02\" cy=\"125.984\" r=\"7\"/>\n",
       "<circle clip-path=\"url(#clip9603)\" style=\"fill:#e26f46; stroke:none; fill-opacity:1\" cx=\"1353.02\" cy=\"125.984\" r=\"3\"/>\n",
       "<circle clip-path=\"url(#clip9603)\" style=\"fill:#000000; stroke:none; fill-opacity:1\" cx=\"1389.22\" cy=\"125.984\" r=\"7\"/>\n",
       "<circle clip-path=\"url(#clip9603)\" style=\"fill:#e26f46; stroke:none; fill-opacity:1\" cx=\"1389.22\" cy=\"125.984\" r=\"3\"/>\n",
       "<circle clip-path=\"url(#clip9603)\" style=\"fill:#000000; stroke:none; fill-opacity:1\" cx=\"1425.43\" cy=\"125.984\" r=\"7\"/>\n",
       "<circle clip-path=\"url(#clip9603)\" style=\"fill:#e26f46; stroke:none; fill-opacity:1\" cx=\"1425.43\" cy=\"125.984\" r=\"3\"/>\n",
       "<circle clip-path=\"url(#clip9603)\" style=\"fill:#000000; stroke:none; fill-opacity:1\" cx=\"1461.64\" cy=\"125.984\" r=\"7\"/>\n",
       "<circle clip-path=\"url(#clip9603)\" style=\"fill:#e26f46; stroke:none; fill-opacity:1\" cx=\"1461.64\" cy=\"125.984\" r=\"3\"/>\n",
       "<circle clip-path=\"url(#clip9603)\" style=\"fill:#000000; stroke:none; fill-opacity:1\" cx=\"1497.85\" cy=\"125.984\" r=\"7\"/>\n",
       "<circle clip-path=\"url(#clip9603)\" style=\"fill:#e26f46; stroke:none; fill-opacity:1\" cx=\"1497.85\" cy=\"125.984\" r=\"3\"/>\n",
       "<circle clip-path=\"url(#clip9603)\" style=\"fill:#000000; stroke:none; fill-opacity:1\" cx=\"1534.06\" cy=\"125.984\" r=\"7\"/>\n",
       "<circle clip-path=\"url(#clip9603)\" style=\"fill:#e26f46; stroke:none; fill-opacity:1\" cx=\"1534.06\" cy=\"125.984\" r=\"3\"/>\n",
       "<circle clip-path=\"url(#clip9603)\" style=\"fill:#000000; stroke:none; fill-opacity:1\" cx=\"1570.27\" cy=\"125.984\" r=\"7\"/>\n",
       "<circle clip-path=\"url(#clip9603)\" style=\"fill:#e26f46; stroke:none; fill-opacity:1\" cx=\"1570.27\" cy=\"125.984\" r=\"3\"/>\n",
       "<circle clip-path=\"url(#clip9603)\" style=\"fill:#000000; stroke:none; fill-opacity:1\" cx=\"1606.48\" cy=\"125.984\" r=\"7\"/>\n",
       "<circle clip-path=\"url(#clip9603)\" style=\"fill:#e26f46; stroke:none; fill-opacity:1\" cx=\"1606.48\" cy=\"125.984\" r=\"3\"/>\n",
       "<circle clip-path=\"url(#clip9603)\" style=\"fill:#000000; stroke:none; fill-opacity:1\" cx=\"1642.69\" cy=\"125.984\" r=\"7\"/>\n",
       "<circle clip-path=\"url(#clip9603)\" style=\"fill:#e26f46; stroke:none; fill-opacity:1\" cx=\"1642.69\" cy=\"125.984\" r=\"3\"/>\n",
       "<circle clip-path=\"url(#clip9603)\" style=\"fill:#000000; stroke:none; fill-opacity:1\" cx=\"1678.9\" cy=\"125.984\" r=\"7\"/>\n",
       "<circle clip-path=\"url(#clip9603)\" style=\"fill:#e26f46; stroke:none; fill-opacity:1\" cx=\"1678.9\" cy=\"125.984\" r=\"3\"/>\n",
       "<polygon clip-path=\"url(#clip9601)\" points=\"\n",
       "1159.64,462.944 1613.26,462.944 1613.26,281.504 1159.64,281.504 \n",
       "  \" fill=\"#ffffff\" fill-rule=\"evenodd\" fill-opacity=\"1\"/>\n",
       "<polyline clip-path=\"url(#clip9601)\" style=\"stroke:#000000; stroke-width:4; stroke-opacity:1; fill:none\" points=\"\n",
       "  1159.64,462.944 1613.26,462.944 1613.26,281.504 1159.64,281.504 1159.64,462.944 \n",
       "  \"/>\n",
       "<polyline clip-path=\"url(#clip9601)\" style=\"stroke:#009af9; stroke-width:4; stroke-opacity:1; fill:none\" points=\"\n",
       "  1195.64,341.984 1411.64,341.984 \n",
       "  \"/>\n",
       "<circle clip-path=\"url(#clip9601)\" style=\"fill:#000000; stroke:none; fill-opacity:1\" cx=\"1321.64\" cy=\"341.984\" r=\"25\"/>\n",
       "<circle clip-path=\"url(#clip9601)\" style=\"fill:#009af9; stroke:none; fill-opacity:1\" cx=\"1321.64\" cy=\"341.984\" r=\"21\"/>\n",
       "<g clip-path=\"url(#clip9601)\">\n",
       "<text style=\"fill:#000000; fill-opacity:1; font-family:Arial,Helvetica Neue,Helvetica,sans-serif; font-size:48px; text-anchor:start;\" transform=\"rotate(0, 1447.64, 359.484)\" x=\"1447.64\" y=\"359.484\">test</text>\n",
       "</g>\n",
       "<polyline clip-path=\"url(#clip9601)\" style=\"stroke:#e26f46; stroke-width:4; stroke-opacity:1; fill:none\" points=\"\n",
       "  1195.64,402.464 1411.64,402.464 \n",
       "  \"/>\n",
       "<circle clip-path=\"url(#clip9601)\" style=\"fill:#000000; stroke:none; fill-opacity:1\" cx=\"1321.64\" cy=\"402.464\" r=\"25\"/>\n",
       "<circle clip-path=\"url(#clip9601)\" style=\"fill:#e26f46; stroke:none; fill-opacity:1\" cx=\"1321.64\" cy=\"402.464\" r=\"21\"/>\n",
       "<g clip-path=\"url(#clip9601)\">\n",
       "<text style=\"fill:#000000; fill-opacity:1; font-family:Arial,Helvetica Neue,Helvetica,sans-serif; font-size:48px; text-anchor:start;\" transform=\"rotate(0, 1447.64, 419.964)\" x=\"1447.64\" y=\"419.964\">train</text>\n",
       "</g>\n",
       "<polygon clip-path=\"url(#clip9601)\" points=\"\n",
       "2024.39,1440.48 3521.26,1440.48 3521.26,125.984 2024.39,125.984 \n",
       "  \" fill=\"#ffffff\" fill-rule=\"evenodd\" fill-opacity=\"1\"/>\n",
       "<defs>\n",
       "  <clipPath id=\"clip9604\">\n",
       "    <rect x=\"2024\" y=\"125\" width=\"1498\" height=\"1315\"/>\n",
       "  </clipPath>\n",
       "</defs>\n",
       "<polyline clip-path=\"url(#clip9604)\" style=\"stroke:#000000; stroke-width:2; stroke-opacity:0.1; fill:none\" points=\"\n",
       "  2030.54,1440.48 2030.54,125.984 \n",
       "  \"/>\n",
       "<polyline clip-path=\"url(#clip9604)\" style=\"stroke:#000000; stroke-width:2; stroke-opacity:0.1; fill:none\" points=\"\n",
       "  2392.63,1440.48 2392.63,125.984 \n",
       "  \"/>\n",
       "<polyline clip-path=\"url(#clip9604)\" style=\"stroke:#000000; stroke-width:2; stroke-opacity:0.1; fill:none\" points=\"\n",
       "  2754.72,1440.48 2754.72,125.984 \n",
       "  \"/>\n",
       "<polyline clip-path=\"url(#clip9604)\" style=\"stroke:#000000; stroke-width:2; stroke-opacity:0.1; fill:none\" points=\"\n",
       "  3116.81,1440.48 3116.81,125.984 \n",
       "  \"/>\n",
       "<polyline clip-path=\"url(#clip9604)\" style=\"stroke:#000000; stroke-width:2; stroke-opacity:0.1; fill:none\" points=\"\n",
       "  3478.9,1440.48 3478.9,125.984 \n",
       "  \"/>\n",
       "<polyline clip-path=\"url(#clip9604)\" style=\"stroke:#000000; stroke-width:2; stroke-opacity:0.1; fill:none\" points=\"\n",
       "  2024.39,1440.48 3521.26,1440.48 \n",
       "  \"/>\n",
       "<polyline clip-path=\"url(#clip9604)\" style=\"stroke:#000000; stroke-width:2; stroke-opacity:0.1; fill:none\" points=\"\n",
       "  2024.39,1177.58 3521.26,1177.58 \n",
       "  \"/>\n",
       "<polyline clip-path=\"url(#clip9604)\" style=\"stroke:#000000; stroke-width:2; stroke-opacity:0.1; fill:none\" points=\"\n",
       "  2024.39,914.683 3521.26,914.683 \n",
       "  \"/>\n",
       "<polyline clip-path=\"url(#clip9604)\" style=\"stroke:#000000; stroke-width:2; stroke-opacity:0.1; fill:none\" points=\"\n",
       "  2024.39,651.784 3521.26,651.784 \n",
       "  \"/>\n",
       "<polyline clip-path=\"url(#clip9604)\" style=\"stroke:#000000; stroke-width:2; stroke-opacity:0.1; fill:none\" points=\"\n",
       "  2024.39,388.884 3521.26,388.884 \n",
       "  \"/>\n",
       "<polyline clip-path=\"url(#clip9604)\" style=\"stroke:#000000; stroke-width:2; stroke-opacity:0.1; fill:none\" points=\"\n",
       "  2024.39,125.984 3521.26,125.984 \n",
       "  \"/>\n",
       "<polyline clip-path=\"url(#clip9601)\" style=\"stroke:#000000; stroke-width:4; stroke-opacity:1; fill:none\" points=\"\n",
       "  2024.39,1440.48 3521.26,1440.48 \n",
       "  \"/>\n",
       "<polyline clip-path=\"url(#clip9601)\" style=\"stroke:#000000; stroke-width:4; stroke-opacity:1; fill:none\" points=\"\n",
       "  2024.39,1440.48 2024.39,125.984 \n",
       "  \"/>\n",
       "<polyline clip-path=\"url(#clip9601)\" style=\"stroke:#000000; stroke-width:4; stroke-opacity:1; fill:none\" points=\"\n",
       "  2030.54,1440.48 2030.54,1420.77 \n",
       "  \"/>\n",
       "<polyline clip-path=\"url(#clip9601)\" style=\"stroke:#000000; stroke-width:4; stroke-opacity:1; fill:none\" points=\"\n",
       "  2392.63,1440.48 2392.63,1420.77 \n",
       "  \"/>\n",
       "<polyline clip-path=\"url(#clip9601)\" style=\"stroke:#000000; stroke-width:4; stroke-opacity:1; fill:none\" points=\"\n",
       "  2754.72,1440.48 2754.72,1420.77 \n",
       "  \"/>\n",
       "<polyline clip-path=\"url(#clip9601)\" style=\"stroke:#000000; stroke-width:4; stroke-opacity:1; fill:none\" points=\"\n",
       "  3116.81,1440.48 3116.81,1420.77 \n",
       "  \"/>\n",
       "<polyline clip-path=\"url(#clip9601)\" style=\"stroke:#000000; stroke-width:4; stroke-opacity:1; fill:none\" points=\"\n",
       "  3478.9,1440.48 3478.9,1420.77 \n",
       "  \"/>\n",
       "<polyline clip-path=\"url(#clip9601)\" style=\"stroke:#000000; stroke-width:4; stroke-opacity:1; fill:none\" points=\"\n",
       "  2024.39,1440.48 2046.84,1440.48 \n",
       "  \"/>\n",
       "<polyline clip-path=\"url(#clip9601)\" style=\"stroke:#000000; stroke-width:4; stroke-opacity:1; fill:none\" points=\"\n",
       "  2024.39,1177.58 2046.84,1177.58 \n",
       "  \"/>\n",
       "<polyline clip-path=\"url(#clip9601)\" style=\"stroke:#000000; stroke-width:4; stroke-opacity:1; fill:none\" points=\"\n",
       "  2024.39,914.683 2046.84,914.683 \n",
       "  \"/>\n",
       "<polyline clip-path=\"url(#clip9601)\" style=\"stroke:#000000; stroke-width:4; stroke-opacity:1; fill:none\" points=\"\n",
       "  2024.39,651.784 2046.84,651.784 \n",
       "  \"/>\n",
       "<polyline clip-path=\"url(#clip9601)\" style=\"stroke:#000000; stroke-width:4; stroke-opacity:1; fill:none\" points=\"\n",
       "  2024.39,388.884 2046.84,388.884 \n",
       "  \"/>\n",
       "<polyline clip-path=\"url(#clip9601)\" style=\"stroke:#000000; stroke-width:4; stroke-opacity:1; fill:none\" points=\"\n",
       "  2024.39,125.984 2046.84,125.984 \n",
       "  \"/>\n",
       "<g clip-path=\"url(#clip9601)\">\n",
       "<text style=\"fill:#000000; fill-opacity:1; font-family:Arial,Helvetica Neue,Helvetica,sans-serif; font-size:48px; text-anchor:middle;\" transform=\"rotate(0, 2030.54, 1500.48)\" x=\"2030.54\" y=\"1500.48\">0</text>\n",
       "</g>\n",
       "<g clip-path=\"url(#clip9601)\">\n",
       "<text style=\"fill:#000000; fill-opacity:1; font-family:Arial,Helvetica Neue,Helvetica,sans-serif; font-size:48px; text-anchor:middle;\" transform=\"rotate(0, 2392.63, 1500.48)\" x=\"2392.63\" y=\"1500.48\">50</text>\n",
       "</g>\n",
       "<g clip-path=\"url(#clip9601)\">\n",
       "<text style=\"fill:#000000; fill-opacity:1; font-family:Arial,Helvetica Neue,Helvetica,sans-serif; font-size:48px; text-anchor:middle;\" transform=\"rotate(0, 2754.72, 1500.48)\" x=\"2754.72\" y=\"1500.48\">100</text>\n",
       "</g>\n",
       "<g clip-path=\"url(#clip9601)\">\n",
       "<text style=\"fill:#000000; fill-opacity:1; font-family:Arial,Helvetica Neue,Helvetica,sans-serif; font-size:48px; text-anchor:middle;\" transform=\"rotate(0, 3116.81, 1500.48)\" x=\"3116.81\" y=\"1500.48\">150</text>\n",
       "</g>\n",
       "<g clip-path=\"url(#clip9601)\">\n",
       "<text style=\"fill:#000000; fill-opacity:1; font-family:Arial,Helvetica Neue,Helvetica,sans-serif; font-size:48px; text-anchor:middle;\" transform=\"rotate(0, 3478.9, 1500.48)\" x=\"3478.9\" y=\"1500.48\">200</text>\n",
       "</g>\n",
       "<g clip-path=\"url(#clip9601)\">\n",
       "<text style=\"fill:#000000; fill-opacity:1; font-family:Arial,Helvetica Neue,Helvetica,sans-serif; font-size:48px; text-anchor:end;\" transform=\"rotate(0, 1988.39, 1457.98)\" x=\"1988.39\" y=\"1457.98\">0.5</text>\n",
       "</g>\n",
       "<g clip-path=\"url(#clip9601)\">\n",
       "<text style=\"fill:#000000; fill-opacity:1; font-family:Arial,Helvetica Neue,Helvetica,sans-serif; font-size:48px; text-anchor:end;\" transform=\"rotate(0, 1988.39, 1195.08)\" x=\"1988.39\" y=\"1195.08\">0.6</text>\n",
       "</g>\n",
       "<g clip-path=\"url(#clip9601)\">\n",
       "<text style=\"fill:#000000; fill-opacity:1; font-family:Arial,Helvetica Neue,Helvetica,sans-serif; font-size:48px; text-anchor:end;\" transform=\"rotate(0, 1988.39, 932.183)\" x=\"1988.39\" y=\"932.183\">0.7</text>\n",
       "</g>\n",
       "<g clip-path=\"url(#clip9601)\">\n",
       "<text style=\"fill:#000000; fill-opacity:1; font-family:Arial,Helvetica Neue,Helvetica,sans-serif; font-size:48px; text-anchor:end;\" transform=\"rotate(0, 1988.39, 669.284)\" x=\"1988.39\" y=\"669.284\">0.8</text>\n",
       "</g>\n",
       "<g clip-path=\"url(#clip9601)\">\n",
       "<text style=\"fill:#000000; fill-opacity:1; font-family:Arial,Helvetica Neue,Helvetica,sans-serif; font-size:48px; text-anchor:end;\" transform=\"rotate(0, 1988.39, 406.384)\" x=\"1988.39\" y=\"406.384\">0.9</text>\n",
       "</g>\n",
       "<g clip-path=\"url(#clip9601)\">\n",
       "<text style=\"fill:#000000; fill-opacity:1; font-family:Arial,Helvetica Neue,Helvetica,sans-serif; font-size:48px; text-anchor:end;\" transform=\"rotate(0, 1988.39, 143.484)\" x=\"1988.39\" y=\"143.484\">1.0</text>\n",
       "</g>\n",
       "<g clip-path=\"url(#clip9601)\">\n",
       "<text style=\"fill:#000000; fill-opacity:1; font-family:Arial,Helvetica Neue,Helvetica,sans-serif; font-size:82px; text-anchor:middle;\" transform=\"rotate(0, 2772.82, 72)\" x=\"2772.82\" y=\"72\">Augmented</text>\n",
       "</g>\n",
       "<g clip-path=\"url(#clip9601)\">\n",
       "<text style=\"fill:#000000; fill-opacity:1; font-family:Arial,Helvetica Neue,Helvetica,sans-serif; font-size:66px; text-anchor:middle;\" transform=\"rotate(0, 2772.82, 1590.4)\" x=\"2772.82\" y=\"1590.4\">Epoch</text>\n",
       "</g>\n",
       "<g clip-path=\"url(#clip9601)\">\n",
       "<text style=\"fill:#000000; fill-opacity:1; font-family:Arial,Helvetica Neue,Helvetica,sans-serif; font-size:66px; text-anchor:middle;\" transform=\"rotate(-90, 1857.6, 783.233)\" x=\"1857.6\" y=\"783.233\">Accuracy</text>\n",
       "</g>\n",
       "<polyline clip-path=\"url(#clip9604)\" style=\"stroke:#009af9; stroke-width:4; stroke-opacity:1; fill:none\" points=\"\n",
       "  2066.75,1560.89 2102.96,1146.03 2139.17,962.005 2175.38,685.172 2211.59,628.386 2247.79,533.479 2284,511.658 2320.21,451.454 2356.42,444.356 2392.63,389.936 \n",
       "  2428.84,427.53 2465.05,385.729 2501.26,339.722 2537.47,326.577 2573.67,341.825 2609.88,330.257 2646.09,357.336 2682.3,309.488 2718.51,296.343 2754.72,293.714 \n",
       "  2790.93,293.451 2827.14,293.977 2863.35,290.297 2899.55,310.277 2935.76,291.611 2971.97,262.955 3008.18,278.466 3044.39,272.419 3080.6,269.265 3116.81,264.795 \n",
       "  3153.02,250.599 3189.22,264.269 3225.43,259.8 3261.64,262.692 3297.85,244.815 3334.06,263.218 3370.27,253.228 3406.48,244.026 3442.69,254.016 3478.9,241.397 \n",
       "  \n",
       "  \"/>\n",
       "<circle clip-path=\"url(#clip9604)\" style=\"fill:#000000; stroke:none; fill-opacity:1\" cx=\"2102.96\" cy=\"1146.03\" r=\"7\"/>\n",
       "<circle clip-path=\"url(#clip9604)\" style=\"fill:#009af9; stroke:none; fill-opacity:1\" cx=\"2102.96\" cy=\"1146.03\" r=\"3\"/>\n",
       "<circle clip-path=\"url(#clip9604)\" style=\"fill:#000000; stroke:none; fill-opacity:1\" cx=\"2139.17\" cy=\"962.005\" r=\"7\"/>\n",
       "<circle clip-path=\"url(#clip9604)\" style=\"fill:#009af9; stroke:none; fill-opacity:1\" cx=\"2139.17\" cy=\"962.005\" r=\"3\"/>\n",
       "<circle clip-path=\"url(#clip9604)\" style=\"fill:#000000; stroke:none; fill-opacity:1\" cx=\"2175.38\" cy=\"685.172\" r=\"7\"/>\n",
       "<circle clip-path=\"url(#clip9604)\" style=\"fill:#009af9; stroke:none; fill-opacity:1\" cx=\"2175.38\" cy=\"685.172\" r=\"3\"/>\n",
       "<circle clip-path=\"url(#clip9604)\" style=\"fill:#000000; stroke:none; fill-opacity:1\" cx=\"2211.59\" cy=\"628.386\" r=\"7\"/>\n",
       "<circle clip-path=\"url(#clip9604)\" style=\"fill:#009af9; stroke:none; fill-opacity:1\" cx=\"2211.59\" cy=\"628.386\" r=\"3\"/>\n",
       "<circle clip-path=\"url(#clip9604)\" style=\"fill:#000000; stroke:none; fill-opacity:1\" cx=\"2247.79\" cy=\"533.479\" r=\"7\"/>\n",
       "<circle clip-path=\"url(#clip9604)\" style=\"fill:#009af9; stroke:none; fill-opacity:1\" cx=\"2247.79\" cy=\"533.479\" r=\"3\"/>\n",
       "<circle clip-path=\"url(#clip9604)\" style=\"fill:#000000; stroke:none; fill-opacity:1\" cx=\"2284\" cy=\"511.658\" r=\"7\"/>\n",
       "<circle clip-path=\"url(#clip9604)\" style=\"fill:#009af9; stroke:none; fill-opacity:1\" cx=\"2284\" cy=\"511.658\" r=\"3\"/>\n",
       "<circle clip-path=\"url(#clip9604)\" style=\"fill:#000000; stroke:none; fill-opacity:1\" cx=\"2320.21\" cy=\"451.454\" r=\"7\"/>\n",
       "<circle clip-path=\"url(#clip9604)\" style=\"fill:#009af9; stroke:none; fill-opacity:1\" cx=\"2320.21\" cy=\"451.454\" r=\"3\"/>\n",
       "<circle clip-path=\"url(#clip9604)\" style=\"fill:#000000; stroke:none; fill-opacity:1\" cx=\"2356.42\" cy=\"444.356\" r=\"7\"/>\n",
       "<circle clip-path=\"url(#clip9604)\" style=\"fill:#009af9; stroke:none; fill-opacity:1\" cx=\"2356.42\" cy=\"444.356\" r=\"3\"/>\n",
       "<circle clip-path=\"url(#clip9604)\" style=\"fill:#000000; stroke:none; fill-opacity:1\" cx=\"2392.63\" cy=\"389.936\" r=\"7\"/>\n",
       "<circle clip-path=\"url(#clip9604)\" style=\"fill:#009af9; stroke:none; fill-opacity:1\" cx=\"2392.63\" cy=\"389.936\" r=\"3\"/>\n",
       "<circle clip-path=\"url(#clip9604)\" style=\"fill:#000000; stroke:none; fill-opacity:1\" cx=\"2428.84\" cy=\"427.53\" r=\"7\"/>\n",
       "<circle clip-path=\"url(#clip9604)\" style=\"fill:#009af9; stroke:none; fill-opacity:1\" cx=\"2428.84\" cy=\"427.53\" r=\"3\"/>\n",
       "<circle clip-path=\"url(#clip9604)\" style=\"fill:#000000; stroke:none; fill-opacity:1\" cx=\"2465.05\" cy=\"385.729\" r=\"7\"/>\n",
       "<circle clip-path=\"url(#clip9604)\" style=\"fill:#009af9; stroke:none; fill-opacity:1\" cx=\"2465.05\" cy=\"385.729\" r=\"3\"/>\n",
       "<circle clip-path=\"url(#clip9604)\" style=\"fill:#000000; stroke:none; fill-opacity:1\" cx=\"2501.26\" cy=\"339.722\" r=\"7\"/>\n",
       "<circle clip-path=\"url(#clip9604)\" style=\"fill:#009af9; stroke:none; fill-opacity:1\" cx=\"2501.26\" cy=\"339.722\" r=\"3\"/>\n",
       "<circle clip-path=\"url(#clip9604)\" style=\"fill:#000000; stroke:none; fill-opacity:1\" cx=\"2537.47\" cy=\"326.577\" r=\"7\"/>\n",
       "<circle clip-path=\"url(#clip9604)\" style=\"fill:#009af9; stroke:none; fill-opacity:1\" cx=\"2537.47\" cy=\"326.577\" r=\"3\"/>\n",
       "<circle clip-path=\"url(#clip9604)\" style=\"fill:#000000; stroke:none; fill-opacity:1\" cx=\"2573.67\" cy=\"341.825\" r=\"7\"/>\n",
       "<circle clip-path=\"url(#clip9604)\" style=\"fill:#009af9; stroke:none; fill-opacity:1\" cx=\"2573.67\" cy=\"341.825\" r=\"3\"/>\n",
       "<circle clip-path=\"url(#clip9604)\" style=\"fill:#000000; stroke:none; fill-opacity:1\" cx=\"2609.88\" cy=\"330.257\" r=\"7\"/>\n",
       "<circle clip-path=\"url(#clip9604)\" style=\"fill:#009af9; stroke:none; fill-opacity:1\" cx=\"2609.88\" cy=\"330.257\" r=\"3\"/>\n",
       "<circle clip-path=\"url(#clip9604)\" style=\"fill:#000000; stroke:none; fill-opacity:1\" cx=\"2646.09\" cy=\"357.336\" r=\"7\"/>\n",
       "<circle clip-path=\"url(#clip9604)\" style=\"fill:#009af9; stroke:none; fill-opacity:1\" cx=\"2646.09\" cy=\"357.336\" r=\"3\"/>\n",
       "<circle clip-path=\"url(#clip9604)\" style=\"fill:#000000; stroke:none; fill-opacity:1\" cx=\"2682.3\" cy=\"309.488\" r=\"7\"/>\n",
       "<circle clip-path=\"url(#clip9604)\" style=\"fill:#009af9; stroke:none; fill-opacity:1\" cx=\"2682.3\" cy=\"309.488\" r=\"3\"/>\n",
       "<circle clip-path=\"url(#clip9604)\" style=\"fill:#000000; stroke:none; fill-opacity:1\" cx=\"2718.51\" cy=\"296.343\" r=\"7\"/>\n",
       "<circle clip-path=\"url(#clip9604)\" style=\"fill:#009af9; stroke:none; fill-opacity:1\" cx=\"2718.51\" cy=\"296.343\" r=\"3\"/>\n",
       "<circle clip-path=\"url(#clip9604)\" style=\"fill:#000000; stroke:none; fill-opacity:1\" cx=\"2754.72\" cy=\"293.714\" r=\"7\"/>\n",
       "<circle clip-path=\"url(#clip9604)\" style=\"fill:#009af9; stroke:none; fill-opacity:1\" cx=\"2754.72\" cy=\"293.714\" r=\"3\"/>\n",
       "<circle clip-path=\"url(#clip9604)\" style=\"fill:#000000; stroke:none; fill-opacity:1\" cx=\"2790.93\" cy=\"293.451\" r=\"7\"/>\n",
       "<circle clip-path=\"url(#clip9604)\" style=\"fill:#009af9; stroke:none; fill-opacity:1\" cx=\"2790.93\" cy=\"293.451\" r=\"3\"/>\n",
       "<circle clip-path=\"url(#clip9604)\" style=\"fill:#000000; stroke:none; fill-opacity:1\" cx=\"2827.14\" cy=\"293.977\" r=\"7\"/>\n",
       "<circle clip-path=\"url(#clip9604)\" style=\"fill:#009af9; stroke:none; fill-opacity:1\" cx=\"2827.14\" cy=\"293.977\" r=\"3\"/>\n",
       "<circle clip-path=\"url(#clip9604)\" style=\"fill:#000000; stroke:none; fill-opacity:1\" cx=\"2863.35\" cy=\"290.297\" r=\"7\"/>\n",
       "<circle clip-path=\"url(#clip9604)\" style=\"fill:#009af9; stroke:none; fill-opacity:1\" cx=\"2863.35\" cy=\"290.297\" r=\"3\"/>\n",
       "<circle clip-path=\"url(#clip9604)\" style=\"fill:#000000; stroke:none; fill-opacity:1\" cx=\"2899.55\" cy=\"310.277\" r=\"7\"/>\n",
       "<circle clip-path=\"url(#clip9604)\" style=\"fill:#009af9; stroke:none; fill-opacity:1\" cx=\"2899.55\" cy=\"310.277\" r=\"3\"/>\n",
       "<circle clip-path=\"url(#clip9604)\" style=\"fill:#000000; stroke:none; fill-opacity:1\" cx=\"2935.76\" cy=\"291.611\" r=\"7\"/>\n",
       "<circle clip-path=\"url(#clip9604)\" style=\"fill:#009af9; stroke:none; fill-opacity:1\" cx=\"2935.76\" cy=\"291.611\" r=\"3\"/>\n",
       "<circle clip-path=\"url(#clip9604)\" style=\"fill:#000000; stroke:none; fill-opacity:1\" cx=\"2971.97\" cy=\"262.955\" r=\"7\"/>\n",
       "<circle clip-path=\"url(#clip9604)\" style=\"fill:#009af9; stroke:none; fill-opacity:1\" cx=\"2971.97\" cy=\"262.955\" r=\"3\"/>\n",
       "<circle clip-path=\"url(#clip9604)\" style=\"fill:#000000; stroke:none; fill-opacity:1\" cx=\"3008.18\" cy=\"278.466\" r=\"7\"/>\n",
       "<circle clip-path=\"url(#clip9604)\" style=\"fill:#009af9; stroke:none; fill-opacity:1\" cx=\"3008.18\" cy=\"278.466\" r=\"3\"/>\n",
       "<circle clip-path=\"url(#clip9604)\" style=\"fill:#000000; stroke:none; fill-opacity:1\" cx=\"3044.39\" cy=\"272.419\" r=\"7\"/>\n",
       "<circle clip-path=\"url(#clip9604)\" style=\"fill:#009af9; stroke:none; fill-opacity:1\" cx=\"3044.39\" cy=\"272.419\" r=\"3\"/>\n",
       "<circle clip-path=\"url(#clip9604)\" style=\"fill:#000000; stroke:none; fill-opacity:1\" cx=\"3080.6\" cy=\"269.265\" r=\"7\"/>\n",
       "<circle clip-path=\"url(#clip9604)\" style=\"fill:#009af9; stroke:none; fill-opacity:1\" cx=\"3080.6\" cy=\"269.265\" r=\"3\"/>\n",
       "<circle clip-path=\"url(#clip9604)\" style=\"fill:#000000; stroke:none; fill-opacity:1\" cx=\"3116.81\" cy=\"264.795\" r=\"7\"/>\n",
       "<circle clip-path=\"url(#clip9604)\" style=\"fill:#009af9; stroke:none; fill-opacity:1\" cx=\"3116.81\" cy=\"264.795\" r=\"3\"/>\n",
       "<circle clip-path=\"url(#clip9604)\" style=\"fill:#000000; stroke:none; fill-opacity:1\" cx=\"3153.02\" cy=\"250.599\" r=\"7\"/>\n",
       "<circle clip-path=\"url(#clip9604)\" style=\"fill:#009af9; stroke:none; fill-opacity:1\" cx=\"3153.02\" cy=\"250.599\" r=\"3\"/>\n",
       "<circle clip-path=\"url(#clip9604)\" style=\"fill:#000000; stroke:none; fill-opacity:1\" cx=\"3189.22\" cy=\"264.269\" r=\"7\"/>\n",
       "<circle clip-path=\"url(#clip9604)\" style=\"fill:#009af9; stroke:none; fill-opacity:1\" cx=\"3189.22\" cy=\"264.269\" r=\"3\"/>\n",
       "<circle clip-path=\"url(#clip9604)\" style=\"fill:#000000; stroke:none; fill-opacity:1\" cx=\"3225.43\" cy=\"259.8\" r=\"7\"/>\n",
       "<circle clip-path=\"url(#clip9604)\" style=\"fill:#009af9; stroke:none; fill-opacity:1\" cx=\"3225.43\" cy=\"259.8\" r=\"3\"/>\n",
       "<circle clip-path=\"url(#clip9604)\" style=\"fill:#000000; stroke:none; fill-opacity:1\" cx=\"3261.64\" cy=\"262.692\" r=\"7\"/>\n",
       "<circle clip-path=\"url(#clip9604)\" style=\"fill:#009af9; stroke:none; fill-opacity:1\" cx=\"3261.64\" cy=\"262.692\" r=\"3\"/>\n",
       "<circle clip-path=\"url(#clip9604)\" style=\"fill:#000000; stroke:none; fill-opacity:1\" cx=\"3297.85\" cy=\"244.815\" r=\"7\"/>\n",
       "<circle clip-path=\"url(#clip9604)\" style=\"fill:#009af9; stroke:none; fill-opacity:1\" cx=\"3297.85\" cy=\"244.815\" r=\"3\"/>\n",
       "<circle clip-path=\"url(#clip9604)\" style=\"fill:#000000; stroke:none; fill-opacity:1\" cx=\"3334.06\" cy=\"263.218\" r=\"7\"/>\n",
       "<circle clip-path=\"url(#clip9604)\" style=\"fill:#009af9; stroke:none; fill-opacity:1\" cx=\"3334.06\" cy=\"263.218\" r=\"3\"/>\n",
       "<circle clip-path=\"url(#clip9604)\" style=\"fill:#000000; stroke:none; fill-opacity:1\" cx=\"3370.27\" cy=\"253.228\" r=\"7\"/>\n",
       "<circle clip-path=\"url(#clip9604)\" style=\"fill:#009af9; stroke:none; fill-opacity:1\" cx=\"3370.27\" cy=\"253.228\" r=\"3\"/>\n",
       "<circle clip-path=\"url(#clip9604)\" style=\"fill:#000000; stroke:none; fill-opacity:1\" cx=\"3406.48\" cy=\"244.026\" r=\"7\"/>\n",
       "<circle clip-path=\"url(#clip9604)\" style=\"fill:#009af9; stroke:none; fill-opacity:1\" cx=\"3406.48\" cy=\"244.026\" r=\"3\"/>\n",
       "<circle clip-path=\"url(#clip9604)\" style=\"fill:#000000; stroke:none; fill-opacity:1\" cx=\"3442.69\" cy=\"254.016\" r=\"7\"/>\n",
       "<circle clip-path=\"url(#clip9604)\" style=\"fill:#009af9; stroke:none; fill-opacity:1\" cx=\"3442.69\" cy=\"254.016\" r=\"3\"/>\n",
       "<circle clip-path=\"url(#clip9604)\" style=\"fill:#000000; stroke:none; fill-opacity:1\" cx=\"3478.9\" cy=\"241.397\" r=\"7\"/>\n",
       "<circle clip-path=\"url(#clip9604)\" style=\"fill:#009af9; stroke:none; fill-opacity:1\" cx=\"3478.9\" cy=\"241.397\" r=\"3\"/>\n",
       "<polyline clip-path=\"url(#clip9604)\" style=\"stroke:#e26f46; stroke-width:4; stroke-opacity:1; fill:none\" points=\"\n",
       "  2066.75,1440.48 2102.96,962.005 2139.17,799.007 2175.38,583.43 2211.59,530.85 2247.79,462.496 2284,415.174 2320.21,336.304 2356.42,341.562 2392.63,288.982 \n",
       "  2428.84,315.272 2465.05,267.95 2501.26,236.402 2537.47,236.402 2573.67,220.628 2609.88,210.112 2646.09,241.66 2682.3,183.822 2718.51,173.306 2754.72,162.79 \n",
       "  2790.93,168.048 2827.14,173.306 2863.35,152.274 2899.55,147.016 2935.76,141.758 2971.97,136.5 3008.18,147.016 3044.39,131.242 3080.6,136.5 3116.81,131.242 \n",
       "  3153.02,136.5 3189.22,131.242 3225.43,131.242 3261.64,131.242 3297.85,131.242 3334.06,141.758 3370.27,131.242 3406.48,131.242 3442.69,136.5 3478.9,131.242 \n",
       "  \n",
       "  \"/>\n",
       "<circle clip-path=\"url(#clip9604)\" style=\"fill:#000000; stroke:none; fill-opacity:1\" cx=\"2066.75\" cy=\"1440.48\" r=\"7\"/>\n",
       "<circle clip-path=\"url(#clip9604)\" style=\"fill:#e26f46; stroke:none; fill-opacity:1\" cx=\"2066.75\" cy=\"1440.48\" r=\"3\"/>\n",
       "<circle clip-path=\"url(#clip9604)\" style=\"fill:#000000; stroke:none; fill-opacity:1\" cx=\"2102.96\" cy=\"962.005\" r=\"7\"/>\n",
       "<circle clip-path=\"url(#clip9604)\" style=\"fill:#e26f46; stroke:none; fill-opacity:1\" cx=\"2102.96\" cy=\"962.005\" r=\"3\"/>\n",
       "<circle clip-path=\"url(#clip9604)\" style=\"fill:#000000; stroke:none; fill-opacity:1\" cx=\"2139.17\" cy=\"799.007\" r=\"7\"/>\n",
       "<circle clip-path=\"url(#clip9604)\" style=\"fill:#e26f46; stroke:none; fill-opacity:1\" cx=\"2139.17\" cy=\"799.007\" r=\"3\"/>\n",
       "<circle clip-path=\"url(#clip9604)\" style=\"fill:#000000; stroke:none; fill-opacity:1\" cx=\"2175.38\" cy=\"583.43\" r=\"7\"/>\n",
       "<circle clip-path=\"url(#clip9604)\" style=\"fill:#e26f46; stroke:none; fill-opacity:1\" cx=\"2175.38\" cy=\"583.43\" r=\"3\"/>\n",
       "<circle clip-path=\"url(#clip9604)\" style=\"fill:#000000; stroke:none; fill-opacity:1\" cx=\"2211.59\" cy=\"530.85\" r=\"7\"/>\n",
       "<circle clip-path=\"url(#clip9604)\" style=\"fill:#e26f46; stroke:none; fill-opacity:1\" cx=\"2211.59\" cy=\"530.85\" r=\"3\"/>\n",
       "<circle clip-path=\"url(#clip9604)\" style=\"fill:#000000; stroke:none; fill-opacity:1\" cx=\"2247.79\" cy=\"462.496\" r=\"7\"/>\n",
       "<circle clip-path=\"url(#clip9604)\" style=\"fill:#e26f46; stroke:none; fill-opacity:1\" cx=\"2247.79\" cy=\"462.496\" r=\"3\"/>\n",
       "<circle clip-path=\"url(#clip9604)\" style=\"fill:#000000; stroke:none; fill-opacity:1\" cx=\"2284\" cy=\"415.174\" r=\"7\"/>\n",
       "<circle clip-path=\"url(#clip9604)\" style=\"fill:#e26f46; stroke:none; fill-opacity:1\" cx=\"2284\" cy=\"415.174\" r=\"3\"/>\n",
       "<circle clip-path=\"url(#clip9604)\" style=\"fill:#000000; stroke:none; fill-opacity:1\" cx=\"2320.21\" cy=\"336.304\" r=\"7\"/>\n",
       "<circle clip-path=\"url(#clip9604)\" style=\"fill:#e26f46; stroke:none; fill-opacity:1\" cx=\"2320.21\" cy=\"336.304\" r=\"3\"/>\n",
       "<circle clip-path=\"url(#clip9604)\" style=\"fill:#000000; stroke:none; fill-opacity:1\" cx=\"2356.42\" cy=\"341.562\" r=\"7\"/>\n",
       "<circle clip-path=\"url(#clip9604)\" style=\"fill:#e26f46; stroke:none; fill-opacity:1\" cx=\"2356.42\" cy=\"341.562\" r=\"3\"/>\n",
       "<circle clip-path=\"url(#clip9604)\" style=\"fill:#000000; stroke:none; fill-opacity:1\" cx=\"2392.63\" cy=\"288.982\" r=\"7\"/>\n",
       "<circle clip-path=\"url(#clip9604)\" style=\"fill:#e26f46; stroke:none; fill-opacity:1\" cx=\"2392.63\" cy=\"288.982\" r=\"3\"/>\n",
       "<circle clip-path=\"url(#clip9604)\" style=\"fill:#000000; stroke:none; fill-opacity:1\" cx=\"2428.84\" cy=\"315.272\" r=\"7\"/>\n",
       "<circle clip-path=\"url(#clip9604)\" style=\"fill:#e26f46; stroke:none; fill-opacity:1\" cx=\"2428.84\" cy=\"315.272\" r=\"3\"/>\n",
       "<circle clip-path=\"url(#clip9604)\" style=\"fill:#000000; stroke:none; fill-opacity:1\" cx=\"2465.05\" cy=\"267.95\" r=\"7\"/>\n",
       "<circle clip-path=\"url(#clip9604)\" style=\"fill:#e26f46; stroke:none; fill-opacity:1\" cx=\"2465.05\" cy=\"267.95\" r=\"3\"/>\n",
       "<circle clip-path=\"url(#clip9604)\" style=\"fill:#000000; stroke:none; fill-opacity:1\" cx=\"2501.26\" cy=\"236.402\" r=\"7\"/>\n",
       "<circle clip-path=\"url(#clip9604)\" style=\"fill:#e26f46; stroke:none; fill-opacity:1\" cx=\"2501.26\" cy=\"236.402\" r=\"3\"/>\n",
       "<circle clip-path=\"url(#clip9604)\" style=\"fill:#000000; stroke:none; fill-opacity:1\" cx=\"2537.47\" cy=\"236.402\" r=\"7\"/>\n",
       "<circle clip-path=\"url(#clip9604)\" style=\"fill:#e26f46; stroke:none; fill-opacity:1\" cx=\"2537.47\" cy=\"236.402\" r=\"3\"/>\n",
       "<circle clip-path=\"url(#clip9604)\" style=\"fill:#000000; stroke:none; fill-opacity:1\" cx=\"2573.67\" cy=\"220.628\" r=\"7\"/>\n",
       "<circle clip-path=\"url(#clip9604)\" style=\"fill:#e26f46; stroke:none; fill-opacity:1\" cx=\"2573.67\" cy=\"220.628\" r=\"3\"/>\n",
       "<circle clip-path=\"url(#clip9604)\" style=\"fill:#000000; stroke:none; fill-opacity:1\" cx=\"2609.88\" cy=\"210.112\" r=\"7\"/>\n",
       "<circle clip-path=\"url(#clip9604)\" style=\"fill:#e26f46; stroke:none; fill-opacity:1\" cx=\"2609.88\" cy=\"210.112\" r=\"3\"/>\n",
       "<circle clip-path=\"url(#clip9604)\" style=\"fill:#000000; stroke:none; fill-opacity:1\" cx=\"2646.09\" cy=\"241.66\" r=\"7\"/>\n",
       "<circle clip-path=\"url(#clip9604)\" style=\"fill:#e26f46; stroke:none; fill-opacity:1\" cx=\"2646.09\" cy=\"241.66\" r=\"3\"/>\n",
       "<circle clip-path=\"url(#clip9604)\" style=\"fill:#000000; stroke:none; fill-opacity:1\" cx=\"2682.3\" cy=\"183.822\" r=\"7\"/>\n",
       "<circle clip-path=\"url(#clip9604)\" style=\"fill:#e26f46; stroke:none; fill-opacity:1\" cx=\"2682.3\" cy=\"183.822\" r=\"3\"/>\n",
       "<circle clip-path=\"url(#clip9604)\" style=\"fill:#000000; stroke:none; fill-opacity:1\" cx=\"2718.51\" cy=\"173.306\" r=\"7\"/>\n",
       "<circle clip-path=\"url(#clip9604)\" style=\"fill:#e26f46; stroke:none; fill-opacity:1\" cx=\"2718.51\" cy=\"173.306\" r=\"3\"/>\n",
       "<circle clip-path=\"url(#clip9604)\" style=\"fill:#000000; stroke:none; fill-opacity:1\" cx=\"2754.72\" cy=\"162.79\" r=\"7\"/>\n",
       "<circle clip-path=\"url(#clip9604)\" style=\"fill:#e26f46; stroke:none; fill-opacity:1\" cx=\"2754.72\" cy=\"162.79\" r=\"3\"/>\n",
       "<circle clip-path=\"url(#clip9604)\" style=\"fill:#000000; stroke:none; fill-opacity:1\" cx=\"2790.93\" cy=\"168.048\" r=\"7\"/>\n",
       "<circle clip-path=\"url(#clip9604)\" style=\"fill:#e26f46; stroke:none; fill-opacity:1\" cx=\"2790.93\" cy=\"168.048\" r=\"3\"/>\n",
       "<circle clip-path=\"url(#clip9604)\" style=\"fill:#000000; stroke:none; fill-opacity:1\" cx=\"2827.14\" cy=\"173.306\" r=\"7\"/>\n",
       "<circle clip-path=\"url(#clip9604)\" style=\"fill:#e26f46; stroke:none; fill-opacity:1\" cx=\"2827.14\" cy=\"173.306\" r=\"3\"/>\n",
       "<circle clip-path=\"url(#clip9604)\" style=\"fill:#000000; stroke:none; fill-opacity:1\" cx=\"2863.35\" cy=\"152.274\" r=\"7\"/>\n",
       "<circle clip-path=\"url(#clip9604)\" style=\"fill:#e26f46; stroke:none; fill-opacity:1\" cx=\"2863.35\" cy=\"152.274\" r=\"3\"/>\n",
       "<circle clip-path=\"url(#clip9604)\" style=\"fill:#000000; stroke:none; fill-opacity:1\" cx=\"2899.55\" cy=\"147.016\" r=\"7\"/>\n",
       "<circle clip-path=\"url(#clip9604)\" style=\"fill:#e26f46; stroke:none; fill-opacity:1\" cx=\"2899.55\" cy=\"147.016\" r=\"3\"/>\n",
       "<circle clip-path=\"url(#clip9604)\" style=\"fill:#000000; stroke:none; fill-opacity:1\" cx=\"2935.76\" cy=\"141.758\" r=\"7\"/>\n",
       "<circle clip-path=\"url(#clip9604)\" style=\"fill:#e26f46; stroke:none; fill-opacity:1\" cx=\"2935.76\" cy=\"141.758\" r=\"3\"/>\n",
       "<circle clip-path=\"url(#clip9604)\" style=\"fill:#000000; stroke:none; fill-opacity:1\" cx=\"2971.97\" cy=\"136.5\" r=\"7\"/>\n",
       "<circle clip-path=\"url(#clip9604)\" style=\"fill:#e26f46; stroke:none; fill-opacity:1\" cx=\"2971.97\" cy=\"136.5\" r=\"3\"/>\n",
       "<circle clip-path=\"url(#clip9604)\" style=\"fill:#000000; stroke:none; fill-opacity:1\" cx=\"3008.18\" cy=\"147.016\" r=\"7\"/>\n",
       "<circle clip-path=\"url(#clip9604)\" style=\"fill:#e26f46; stroke:none; fill-opacity:1\" cx=\"3008.18\" cy=\"147.016\" r=\"3\"/>\n",
       "<circle clip-path=\"url(#clip9604)\" style=\"fill:#000000; stroke:none; fill-opacity:1\" cx=\"3044.39\" cy=\"131.242\" r=\"7\"/>\n",
       "<circle clip-path=\"url(#clip9604)\" style=\"fill:#e26f46; stroke:none; fill-opacity:1\" cx=\"3044.39\" cy=\"131.242\" r=\"3\"/>\n",
       "<circle clip-path=\"url(#clip9604)\" style=\"fill:#000000; stroke:none; fill-opacity:1\" cx=\"3080.6\" cy=\"136.5\" r=\"7\"/>\n",
       "<circle clip-path=\"url(#clip9604)\" style=\"fill:#e26f46; stroke:none; fill-opacity:1\" cx=\"3080.6\" cy=\"136.5\" r=\"3\"/>\n",
       "<circle clip-path=\"url(#clip9604)\" style=\"fill:#000000; stroke:none; fill-opacity:1\" cx=\"3116.81\" cy=\"131.242\" r=\"7\"/>\n",
       "<circle clip-path=\"url(#clip9604)\" style=\"fill:#e26f46; stroke:none; fill-opacity:1\" cx=\"3116.81\" cy=\"131.242\" r=\"3\"/>\n",
       "<circle clip-path=\"url(#clip9604)\" style=\"fill:#000000; stroke:none; fill-opacity:1\" cx=\"3153.02\" cy=\"136.5\" r=\"7\"/>\n",
       "<circle clip-path=\"url(#clip9604)\" style=\"fill:#e26f46; stroke:none; fill-opacity:1\" cx=\"3153.02\" cy=\"136.5\" r=\"3\"/>\n",
       "<circle clip-path=\"url(#clip9604)\" style=\"fill:#000000; stroke:none; fill-opacity:1\" cx=\"3189.22\" cy=\"131.242\" r=\"7\"/>\n",
       "<circle clip-path=\"url(#clip9604)\" style=\"fill:#e26f46; stroke:none; fill-opacity:1\" cx=\"3189.22\" cy=\"131.242\" r=\"3\"/>\n",
       "<circle clip-path=\"url(#clip9604)\" style=\"fill:#000000; stroke:none; fill-opacity:1\" cx=\"3225.43\" cy=\"131.242\" r=\"7\"/>\n",
       "<circle clip-path=\"url(#clip9604)\" style=\"fill:#e26f46; stroke:none; fill-opacity:1\" cx=\"3225.43\" cy=\"131.242\" r=\"3\"/>\n",
       "<circle clip-path=\"url(#clip9604)\" style=\"fill:#000000; stroke:none; fill-opacity:1\" cx=\"3261.64\" cy=\"131.242\" r=\"7\"/>\n",
       "<circle clip-path=\"url(#clip9604)\" style=\"fill:#e26f46; stroke:none; fill-opacity:1\" cx=\"3261.64\" cy=\"131.242\" r=\"3\"/>\n",
       "<circle clip-path=\"url(#clip9604)\" style=\"fill:#000000; stroke:none; fill-opacity:1\" cx=\"3297.85\" cy=\"131.242\" r=\"7\"/>\n",
       "<circle clip-path=\"url(#clip9604)\" style=\"fill:#e26f46; stroke:none; fill-opacity:1\" cx=\"3297.85\" cy=\"131.242\" r=\"3\"/>\n",
       "<circle clip-path=\"url(#clip9604)\" style=\"fill:#000000; stroke:none; fill-opacity:1\" cx=\"3334.06\" cy=\"141.758\" r=\"7\"/>\n",
       "<circle clip-path=\"url(#clip9604)\" style=\"fill:#e26f46; stroke:none; fill-opacity:1\" cx=\"3334.06\" cy=\"141.758\" r=\"3\"/>\n",
       "<circle clip-path=\"url(#clip9604)\" style=\"fill:#000000; stroke:none; fill-opacity:1\" cx=\"3370.27\" cy=\"131.242\" r=\"7\"/>\n",
       "<circle clip-path=\"url(#clip9604)\" style=\"fill:#e26f46; stroke:none; fill-opacity:1\" cx=\"3370.27\" cy=\"131.242\" r=\"3\"/>\n",
       "<circle clip-path=\"url(#clip9604)\" style=\"fill:#000000; stroke:none; fill-opacity:1\" cx=\"3406.48\" cy=\"131.242\" r=\"7\"/>\n",
       "<circle clip-path=\"url(#clip9604)\" style=\"fill:#e26f46; stroke:none; fill-opacity:1\" cx=\"3406.48\" cy=\"131.242\" r=\"3\"/>\n",
       "<circle clip-path=\"url(#clip9604)\" style=\"fill:#000000; stroke:none; fill-opacity:1\" cx=\"3442.69\" cy=\"136.5\" r=\"7\"/>\n",
       "<circle clip-path=\"url(#clip9604)\" style=\"fill:#e26f46; stroke:none; fill-opacity:1\" cx=\"3442.69\" cy=\"136.5\" r=\"3\"/>\n",
       "<circle clip-path=\"url(#clip9604)\" style=\"fill:#000000; stroke:none; fill-opacity:1\" cx=\"3478.9\" cy=\"131.242\" r=\"7\"/>\n",
       "<circle clip-path=\"url(#clip9604)\" style=\"fill:#e26f46; stroke:none; fill-opacity:1\" cx=\"3478.9\" cy=\"131.242\" r=\"3\"/>\n",
       "<polygon clip-path=\"url(#clip9601)\" points=\"\n",
       "2959.64,462.944 3413.26,462.944 3413.26,281.504 2959.64,281.504 \n",
       "  \" fill=\"#ffffff\" fill-rule=\"evenodd\" fill-opacity=\"1\"/>\n",
       "<polyline clip-path=\"url(#clip9601)\" style=\"stroke:#000000; stroke-width:4; stroke-opacity:1; fill:none\" points=\"\n",
       "  2959.64,462.944 3413.26,462.944 3413.26,281.504 2959.64,281.504 2959.64,462.944 \n",
       "  \"/>\n",
       "<polyline clip-path=\"url(#clip9601)\" style=\"stroke:#009af9; stroke-width:4; stroke-opacity:1; fill:none\" points=\"\n",
       "  2995.64,341.984 3211.64,341.984 \n",
       "  \"/>\n",
       "<circle clip-path=\"url(#clip9601)\" style=\"fill:#000000; stroke:none; fill-opacity:1\" cx=\"3121.64\" cy=\"341.984\" r=\"25\"/>\n",
       "<circle clip-path=\"url(#clip9601)\" style=\"fill:#009af9; stroke:none; fill-opacity:1\" cx=\"3121.64\" cy=\"341.984\" r=\"21\"/>\n",
       "<g clip-path=\"url(#clip9601)\">\n",
       "<text style=\"fill:#000000; fill-opacity:1; font-family:Arial,Helvetica Neue,Helvetica,sans-serif; font-size:48px; text-anchor:start;\" transform=\"rotate(0, 3247.64, 359.484)\" x=\"3247.64\" y=\"359.484\">test</text>\n",
       "</g>\n",
       "<polyline clip-path=\"url(#clip9601)\" style=\"stroke:#e26f46; stroke-width:4; stroke-opacity:1; fill:none\" points=\"\n",
       "  2995.64,402.464 3211.64,402.464 \n",
       "  \"/>\n",
       "<circle clip-path=\"url(#clip9601)\" style=\"fill:#000000; stroke:none; fill-opacity:1\" cx=\"3121.64\" cy=\"402.464\" r=\"25\"/>\n",
       "<circle clip-path=\"url(#clip9601)\" style=\"fill:#e26f46; stroke:none; fill-opacity:1\" cx=\"3121.64\" cy=\"402.464\" r=\"21\"/>\n",
       "<g clip-path=\"url(#clip9601)\">\n",
       "<text style=\"fill:#000000; fill-opacity:1; font-family:Arial,Helvetica Neue,Helvetica,sans-serif; font-size:48px; text-anchor:start;\" transform=\"rotate(0, 3247.64, 419.964)\" x=\"3247.64\" y=\"419.964\">train</text>\n",
       "</g>\n",
       "</svg>\n"
      ]
     },
     "execution_count": 25,
     "metadata": {},
     "output_type": "execute_result"
    }
   ],
   "source": [
    "plt = plot(\n",
    "    plot(baseline_log,  title=\"Baseline\",  ylim=(.5,1)),\n",
    "    plot(augmented_log, title=\"Augmented\", ylim=(.5,1)),\n",
    "    size = (900, 400),\n",
    "    xlab = \"Epoch\",\n",
    "    ylab = \"Accuracy\",\n",
    "    markersize = 1\n",
    ")\n",
    "plt"
   ]
  },
  {
   "cell_type": "markdown",
   "metadata": {},
   "source": [
    "Note how the accuracy on the (unaltered) training set\n",
    "increases faster for the baseline network than for the\n",
    "augmented one. This is to be expected, since our augmented\n",
    "network doesn't actually use the unaltered images for\n",
    "training, and thus has not actually seen them. Given this\n",
    "information, it is worth pointing out explicitly how the\n",
    "accuracy on training set is still greater than on the test set\n",
    "for the augmented network as well. This is also not a\n",
    "surprise, given that the augmented images are likely more\n",
    "similar to their original ones than to the test images."
   ]
  },
  {
   "cell_type": "markdown",
   "metadata": {},
   "source": [
    "For the baseline network, the accuracy on the test set\n",
    "plateaus quite quickly (around 90%). For the augmented network\n",
    "on the other hand, it the accuracy keeps increasing for quite\n",
    "a while longer."
   ]
  },
  {
   "cell_type": "markdown",
   "metadata": {},
   "source": [
    "## References\n",
    "\n",
    "**MNIST1998**: LeCun, Yan, Corinna Cortes, Christopher J.C. Burges. [\"The MNIST database of handwritten digits\"](http://yann.lecun.com/exdb/mnist/) Website. 1998."
   ]
  }
 ],
 "metadata": {
  "@webio": {
   "lastCommId": "3c90fc0d37e6469d9f6cacca7a0518db",
   "lastKernelId": "c993a886-6dca-4a0b-a0ef-30a708fd97dd"
  },
  "kernelspec": {
   "display_name": "Julia 1.1.0",
   "language": "julia",
   "name": "julia-1.1"
  },
  "language_info": {
   "file_extension": ".jl",
   "mimetype": "application/julia",
   "name": "julia",
   "version": "1.1.0"
  }
 },
 "nbformat": 4,
 "nbformat_minor": 2
}
